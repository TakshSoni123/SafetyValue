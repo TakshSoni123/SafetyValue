{
  "nbformat": 4,
  "nbformat_minor": 0,
  "metadata": {
    "colab": {
      "name": "SafetyValue.ipynb",
      "provenance": [],
      "collapsed_sections": [
        "gUtZA7fIXNmR",
        "wf31_gw_XSjQ",
        "3aYBSMtJl5PB",
        "e9QozRfaDsVY",
        "VqAgf1PYLb-1",
        "4am4Cwm2Lkmb"
      ],
      "toc_visible": true,
      "include_colab_link": true
    },
    "kernelspec": {
      "name": "python3",
      "display_name": "Python 3"
    }
  },
  "cells": [
    {
      "cell_type": "markdown",
      "metadata": {
        "id": "view-in-github",
        "colab_type": "text"
      },
      "source": [
        "<a href=\"https://colab.research.google.com/github/TakshSoni123/SafetyValue/blob/master/SafetyValue.ipynb\" target=\"_parent\"><img src=\"https://colab.research.google.com/assets/colab-badge.svg\" alt=\"Open In Colab\"/></a>"
      ]
    },
    {
      "cell_type": "code",
      "metadata": {
        "id": "yBJQEqSHKvbX",
        "colab": {
          "base_uri": "https://localhost:8080/",
          "height": 34
        },
        "outputId": "bc8ae29d-6365-4a46-fd0e-927690d0b385"
      },
      "source": [
        "%pylab inline"
      ],
      "execution_count": null,
      "outputs": [
        {
          "output_type": "stream",
          "text": [
            "Populating the interactive namespace from numpy and matplotlib\n"
          ],
          "name": "stdout"
        }
      ]
    },
    {
      "cell_type": "code",
      "metadata": {
        "id": "yBlDZJhVoaM4"
      },
      "source": [
        "import pandas as pd\n",
        "import numpy as np"
      ],
      "execution_count": null,
      "outputs": []
    },
    {
      "cell_type": "code",
      "metadata": {
        "id": "81bYI52UVRU5",
        "colab": {
          "base_uri": "https://localhost:8080/",
          "height": 272
        },
        "outputId": "609fb43e-a675-4f2f-c09a-b571ad79063d"
      },
      "source": [
        "!pip install -U scikit-fuzzy"
      ],
      "execution_count": null,
      "outputs": [
        {
          "output_type": "stream",
          "text": [
            "Collecting scikit-fuzzy\n",
            "\u001b[?25l  Downloading https://files.pythonhosted.org/packages/6c/f0/5eb5dbe0fd8dfe7d4651a8f4e591a196623a22b9e5339101e559695b4f6c/scikit-fuzzy-0.4.2.tar.gz (993kB)\n",
            "\r\u001b[K     |▎                               | 10kB 18.4MB/s eta 0:00:01\r\u001b[K     |▋                               | 20kB 1.6MB/s eta 0:00:01\r\u001b[K     |█                               | 30kB 1.8MB/s eta 0:00:01\r\u001b[K     |█▎                              | 40kB 2.1MB/s eta 0:00:01\r\u001b[K     |█▋                              | 51kB 2.0MB/s eta 0:00:01\r\u001b[K     |██                              | 61kB 2.2MB/s eta 0:00:01\r\u001b[K     |██▎                             | 71kB 2.4MB/s eta 0:00:01\r\u001b[K     |██▋                             | 81kB 2.6MB/s eta 0:00:01\r\u001b[K     |███                             | 92kB 2.5MB/s eta 0:00:01\r\u001b[K     |███▎                            | 102kB 2.6MB/s eta 0:00:01\r\u001b[K     |███▋                            | 112kB 2.6MB/s eta 0:00:01\r\u001b[K     |████                            | 122kB 2.6MB/s eta 0:00:01\r\u001b[K     |████▎                           | 133kB 2.6MB/s eta 0:00:01\r\u001b[K     |████▋                           | 143kB 2.6MB/s eta 0:00:01\r\u001b[K     |█████                           | 153kB 2.6MB/s eta 0:00:01\r\u001b[K     |█████▎                          | 163kB 2.6MB/s eta 0:00:01\r\u001b[K     |█████▋                          | 174kB 2.6MB/s eta 0:00:01\r\u001b[K     |██████                          | 184kB 2.6MB/s eta 0:00:01\r\u001b[K     |██████▎                         | 194kB 2.6MB/s eta 0:00:01\r\u001b[K     |██████▋                         | 204kB 2.6MB/s eta 0:00:01\r\u001b[K     |███████                         | 215kB 2.6MB/s eta 0:00:01\r\u001b[K     |███████▎                        | 225kB 2.6MB/s eta 0:00:01\r\u001b[K     |███████▋                        | 235kB 2.6MB/s eta 0:00:01\r\u001b[K     |████████                        | 245kB 2.6MB/s eta 0:00:01\r\u001b[K     |████████▎                       | 256kB 2.6MB/s eta 0:00:01\r\u001b[K     |████████▋                       | 266kB 2.6MB/s eta 0:00:01\r\u001b[K     |█████████                       | 276kB 2.6MB/s eta 0:00:01\r\u001b[K     |█████████▎                      | 286kB 2.6MB/s eta 0:00:01\r\u001b[K     |█████████▋                      | 296kB 2.6MB/s eta 0:00:01\r\u001b[K     |██████████                      | 307kB 2.6MB/s eta 0:00:01\r\u001b[K     |██████████▏                     | 317kB 2.6MB/s eta 0:00:01\r\u001b[K     |██████████▌                     | 327kB 2.6MB/s eta 0:00:01\r\u001b[K     |██████████▉                     | 337kB 2.6MB/s eta 0:00:01\r\u001b[K     |███████████▏                    | 348kB 2.6MB/s eta 0:00:01\r\u001b[K     |███████████▌                    | 358kB 2.6MB/s eta 0:00:01\r\u001b[K     |███████████▉                    | 368kB 2.6MB/s eta 0:00:01\r\u001b[K     |████████████▏                   | 378kB 2.6MB/s eta 0:00:01\r\u001b[K     |████████████▌                   | 389kB 2.6MB/s eta 0:00:01\r\u001b[K     |████████████▉                   | 399kB 2.6MB/s eta 0:00:01\r\u001b[K     |█████████████▏                  | 409kB 2.6MB/s eta 0:00:01\r\u001b[K     |█████████████▌                  | 419kB 2.6MB/s eta 0:00:01\r\u001b[K     |█████████████▉                  | 430kB 2.6MB/s eta 0:00:01\r\u001b[K     |██████████████▏                 | 440kB 2.6MB/s eta 0:00:01\r\u001b[K     |██████████████▌                 | 450kB 2.6MB/s eta 0:00:01\r\u001b[K     |██████████████▉                 | 460kB 2.6MB/s eta 0:00:01\r\u001b[K     |███████████████▏                | 471kB 2.6MB/s eta 0:00:01\r\u001b[K     |███████████████▌                | 481kB 2.6MB/s eta 0:00:01\r\u001b[K     |███████████████▉                | 491kB 2.6MB/s eta 0:00:01\r\u001b[K     |████████████████▏               | 501kB 2.6MB/s eta 0:00:01\r\u001b[K     |████████████████▌               | 512kB 2.6MB/s eta 0:00:01\r\u001b[K     |████████████████▉               | 522kB 2.6MB/s eta 0:00:01\r\u001b[K     |█████████████████▏              | 532kB 2.6MB/s eta 0:00:01\r\u001b[K     |█████████████████▌              | 542kB 2.6MB/s eta 0:00:01\r\u001b[K     |█████████████████▉              | 552kB 2.6MB/s eta 0:00:01\r\u001b[K     |██████████████████▏             | 563kB 2.6MB/s eta 0:00:01\r\u001b[K     |██████████████████▌             | 573kB 2.6MB/s eta 0:00:01\r\u001b[K     |██████████████████▉             | 583kB 2.6MB/s eta 0:00:01\r\u001b[K     |███████████████████▏            | 593kB 2.6MB/s eta 0:00:01\r\u001b[K     |███████████████████▌            | 604kB 2.6MB/s eta 0:00:01\r\u001b[K     |███████████████████▉            | 614kB 2.6MB/s eta 0:00:01\r\u001b[K     |████████████████████            | 624kB 2.6MB/s eta 0:00:01\r\u001b[K     |████████████████████▍           | 634kB 2.6MB/s eta 0:00:01\r\u001b[K     |████████████████████▊           | 645kB 2.6MB/s eta 0:00:01\r\u001b[K     |█████████████████████           | 655kB 2.6MB/s eta 0:00:01\r\u001b[K     |█████████████████████▍          | 665kB 2.6MB/s eta 0:00:01\r\u001b[K     |█████████████████████▊          | 675kB 2.6MB/s eta 0:00:01\r\u001b[K     |██████████████████████          | 686kB 2.6MB/s eta 0:00:01\r\u001b[K     |██████████████████████▍         | 696kB 2.6MB/s eta 0:00:01\r\u001b[K     |██████████████████████▊         | 706kB 2.6MB/s eta 0:00:01\r\u001b[K     |███████████████████████         | 716kB 2.6MB/s eta 0:00:01\r\u001b[K     |███████████████████████▍        | 727kB 2.6MB/s eta 0:00:01\r\u001b[K     |███████████████████████▊        | 737kB 2.6MB/s eta 0:00:01\r\u001b[K     |████████████████████████        | 747kB 2.6MB/s eta 0:00:01\r\u001b[K     |████████████████████████▍       | 757kB 2.6MB/s eta 0:00:01\r\u001b[K     |████████████████████████▊       | 768kB 2.6MB/s eta 0:00:01\r\u001b[K     |█████████████████████████       | 778kB 2.6MB/s eta 0:00:01\r\u001b[K     |█████████████████████████▍      | 788kB 2.6MB/s eta 0:00:01\r\u001b[K     |█████████████████████████▊      | 798kB 2.6MB/s eta 0:00:01\r\u001b[K     |██████████████████████████      | 808kB 2.6MB/s eta 0:00:01\r\u001b[K     |██████████████████████████▍     | 819kB 2.6MB/s eta 0:00:01\r\u001b[K     |██████████████████████████▊     | 829kB 2.6MB/s eta 0:00:01\r\u001b[K     |███████████████████████████     | 839kB 2.6MB/s eta 0:00:01\r\u001b[K     |███████████████████████████▍    | 849kB 2.6MB/s eta 0:00:01\r\u001b[K     |███████████████████████████▊    | 860kB 2.6MB/s eta 0:00:01\r\u001b[K     |████████████████████████████    | 870kB 2.6MB/s eta 0:00:01\r\u001b[K     |████████████████████████████▍   | 880kB 2.6MB/s eta 0:00:01\r\u001b[K     |████████████████████████████▊   | 890kB 2.6MB/s eta 0:00:01\r\u001b[K     |█████████████████████████████   | 901kB 2.6MB/s eta 0:00:01\r\u001b[K     |█████████████████████████████▍  | 911kB 2.6MB/s eta 0:00:01\r\u001b[K     |█████████████████████████████▊  | 921kB 2.6MB/s eta 0:00:01\r\u001b[K     |██████████████████████████████  | 931kB 2.6MB/s eta 0:00:01\r\u001b[K     |██████████████████████████████▎ | 942kB 2.6MB/s eta 0:00:01\r\u001b[K     |██████████████████████████████▋ | 952kB 2.6MB/s eta 0:00:01\r\u001b[K     |███████████████████████████████ | 962kB 2.6MB/s eta 0:00:01\r\u001b[K     |███████████████████████████████▎| 972kB 2.6MB/s eta 0:00:01\r\u001b[K     |███████████████████████████████▋| 983kB 2.6MB/s eta 0:00:01\r\u001b[K     |████████████████████████████████| 993kB 2.6MB/s eta 0:00:01\r\u001b[K     |████████████████████████████████| 1.0MB 2.6MB/s \n",
            "\u001b[?25hRequirement already satisfied, skipping upgrade: numpy>=1.6.0 in /usr/local/lib/python3.6/dist-packages (from scikit-fuzzy) (1.18.5)\n",
            "Requirement already satisfied, skipping upgrade: scipy>=0.9.0 in /usr/local/lib/python3.6/dist-packages (from scikit-fuzzy) (1.4.1)\n",
            "Requirement already satisfied, skipping upgrade: networkx>=1.9.0 in /usr/local/lib/python3.6/dist-packages (from scikit-fuzzy) (2.4)\n",
            "Requirement already satisfied, skipping upgrade: decorator>=4.3.0 in /usr/local/lib/python3.6/dist-packages (from networkx>=1.9.0->scikit-fuzzy) (4.4.2)\n",
            "Building wheels for collected packages: scikit-fuzzy\n",
            "  Building wheel for scikit-fuzzy (setup.py) ... \u001b[?25l\u001b[?25hdone\n",
            "  Created wheel for scikit-fuzzy: filename=scikit_fuzzy-0.4.2-cp36-none-any.whl size=894070 sha256=6a5a8db55a73d5cdfc819a16c5932cce65f8385f3dbb951392d60a167e266d27\n",
            "  Stored in directory: /root/.cache/pip/wheels/b9/4e/77/da79b16f64ef1738d95486e2731eea09d73e90a72465096600\n",
            "Successfully built scikit-fuzzy\n",
            "Installing collected packages: scikit-fuzzy\n",
            "Successfully installed scikit-fuzzy-0.4.2\n"
          ],
          "name": "stdout"
        }
      ]
    },
    {
      "cell_type": "code",
      "metadata": {
        "id": "hYx744_VWCUC"
      },
      "source": [
        "import skfuzzy as fuzz\n",
        "from skfuzzy import control as ctrl"
      ],
      "execution_count": null,
      "outputs": []
    },
    {
      "cell_type": "code",
      "metadata": {
        "id": "byXjQTioRoNA",
        "colab": {
          "base_uri": "https://localhost:8080/",
          "height": 121
        },
        "outputId": "52eb30d7-6444-40b1-bdd8-3cc568ec6023"
      },
      "source": [
        "from google.colab import drive\n",
        "drive.mount('/content/drive')"
      ],
      "execution_count": null,
      "outputs": [
        {
          "output_type": "stream",
          "text": [
            "Go to this URL in a browser: https://accounts.google.com/o/oauth2/auth?client_id=947318989803-6bn6qk8qdgf4n4g3pfee6491hc0brc4i.apps.googleusercontent.com&redirect_uri=urn%3aietf%3awg%3aoauth%3a2.0%3aoob&response_type=code&scope=email%20https%3a%2f%2fwww.googleapis.com%2fauth%2fdocs.test%20https%3a%2f%2fwww.googleapis.com%2fauth%2fdrive%20https%3a%2f%2fwww.googleapis.com%2fauth%2fdrive.photos.readonly%20https%3a%2f%2fwww.googleapis.com%2fauth%2fpeopleapi.readonly\n",
            "\n",
            "Enter your authorization code:\n",
            "··········\n",
            "Mounted at /content/drive\n"
          ],
          "name": "stdout"
        }
      ]
    },
    {
      "cell_type": "markdown",
      "metadata": {
        "id": "gUtZA7fIXNmR"
      },
      "source": [
        "###CRIME DATA PREPROCESS\n"
      ]
    },
    {
      "cell_type": "code",
      "metadata": {
        "id": "yME2HePQFjpq"
      },
      "source": [
        "url = '/content/drive/My Drive/Dataset/Safety Score/'\n",
        "df1 = pd.read_csv(url+'crime1.csv')\n",
        "df2 = pd.read_csv(url+'crime2.csv')\n",
        "df3 = pd.read_csv(url+'crime3.csv')"
      ],
      "execution_count": null,
      "outputs": []
    },
    {
      "cell_type": "code",
      "metadata": {
        "id": "LhqTQ-uJiCPv",
        "colab": {
          "base_uri": "https://localhost:8080/"
        },
        "outputId": "8080fbb9-0125-44f1-9134-feca456247bb"
      },
      "source": [
        "print(df1.columns.values)\n",
        "print(df2.columns.values)\n",
        "print(df3.columns.values)"
      ],
      "execution_count": null,
      "outputs": [
        {
          "output_type": "stream",
          "text": [
            "['STATE/UT' 'DISTRICT' 'YEAR' 'MURDER' 'ATTEMPT TO MURDER'\n",
            " 'CULPABLE HOMICIDE NOT AMOUNTING TO MURDER' 'RAPE' 'CUSTODIAL RAPE'\n",
            " 'OTHER RAPE' 'KIDNAPPING & ABDUCTION'\n",
            " 'KIDNAPPING AND ABDUCTION OF WOMEN AND GIRLS'\n",
            " 'KIDNAPPING AND ABDUCTION OF OTHERS' 'DACOITY'\n",
            " 'PREPARATION AND ASSEMBLY FOR DACOITY' 'ROBBERY' 'BURGLARY' 'THEFT'\n",
            " 'AUTO THEFT' 'OTHER THEFT' 'RIOTS' 'CRIMINAL BREACH OF TRUST' 'CHEATING'\n",
            " 'COUNTERFIETING' 'ARSON' 'HURT/GREVIOUS HURT' 'DOWRY DEATHS'\n",
            " 'ASSAULT ON WOMEN WITH INTENT TO OUTRAGE HER MODESTY'\n",
            " 'INSULT TO MODESTY OF WOMEN' 'CRUELTY BY HUSBAND OR HIS RELATIVES'\n",
            " 'IMPORTATION OF GIRLS FROM FOREIGN COUNTRIES'\n",
            " 'CAUSING DEATH BY NEGLIGENCE' 'OTHER IPC CRIMES' 'TOTAL IPC CRIMES']\n",
            "['STATE/UT' 'DISTRICT' 'YEAR' 'MURDER' 'ATTEMPT TO MURDER'\n",
            " 'CULPABLE HOMICIDE NOT AMOUNTING TO MURDER' 'RAPE' 'CUSTODIAL RAPE'\n",
            " 'OTHER RAPE' 'KIDNAPPING & ABDUCTION'\n",
            " 'KIDNAPPING AND ABDUCTION OF WOMEN AND GIRLS'\n",
            " 'KIDNAPPING AND ABDUCTION OF OTHERS' 'DACOITY'\n",
            " 'PREPARATION AND ASSEMBLY FOR DACOITY' 'ROBBERY' 'BURGLARY' 'THEFT'\n",
            " 'AUTO THEFT' 'OTHER THEFT' 'RIOTS' 'CRIMINAL BREACH OF TRUST' 'CHEATING'\n",
            " 'COUNTERFIETING' 'ARSON' 'HURT/GREVIOUS HURT' 'DOWRY DEATHS'\n",
            " 'ASSAULT ON WOMEN WITH INTENT TO OUTRAGE HER MODESTY'\n",
            " 'INSULT TO MODESTY OF WOMEN' 'CRUELTY BY HUSBAND OR HIS RELATIVES'\n",
            " 'IMPORTATION OF GIRLS FROM FOREIGN COUNTRIES'\n",
            " 'CAUSING DEATH BY NEGLIGENCE' 'OTHER IPC CRIMES' 'TOTAL IPC CRIMES']\n",
            "['States/UTs' 'District' 'Year' 'Murder' 'Attempt to commit Murder'\n",
            " 'Culpable Homicide not amounting to Murder'\n",
            " 'Attempt to commit Culpable Homicide' 'Rape' 'Custodial Rape'\n",
            " 'Custodial_Gang Rape' 'Custodial_Other Rape' 'Rape other than Custodial'\n",
            " 'Rape_Gang Rape' 'Rape_Others' 'Attempt to commit Rape'\n",
            " 'Kidnapping & Abduction_Total' 'Kidnapping & Abduction'\n",
            " 'Kidnapping & Abduction in order to Murder' 'Kidnapping for Ransom'\n",
            " 'Kidnapping & Abduction of Women to compel her for marriage'\n",
            " 'Other Kidnapping' 'Dacoity' 'Dacoity with Murder' 'Other Dacoity'\n",
            " 'Making Preparation and Assembly for committing Dacoity' 'Robbery'\n",
            " 'Criminal Trespass/Burglary' 'Criminal Trespass or Burglary'\n",
            " 'House Trespass & House Breaking' 'Theft' 'Auto Theft' 'Other Thefts'\n",
            " 'Unlawful Assembly' 'Riots' 'Riots_Communal' 'Riots_Industrial'\n",
            " 'Riots_Political' 'Riots_Caste Conflict' 'Riots_SC/STs Vs Non-SCs/STs'\n",
            " 'Riots_Other Caste Conflict' 'Riots_Agrarian' 'Riots_Students'\n",
            " 'Riots_Sectarian' 'Riots_Others' 'Criminal Breach of Trust' 'Cheating'\n",
            " 'Forgery' 'Counterfeiting'\n",
            " 'Counterfeit Offences related to Counterfeit Coin'\n",
            " 'Counterfeiting Government Stamp' 'Counterfeit currency & Bank notes'\n",
            " 'Counterfeiting currency notes/Bank notes'\n",
            " 'Using forged or counterfeiting currency/Bank notes'\n",
            " 'Possession of forged or counterfeiting currency/Bank notes'\n",
            " 'Making or Possessing materials for forged currency/Bank notes'\n",
            " 'Making or Using documents resembling currency' 'Arson' 'Grievous Hurt'\n",
            " 'Hurt' 'Acid attack' 'Attempt to Acid Attack' 'Dowry Deaths'\n",
            " 'Assault on Women with intent to outrage her Modesty' 'Sexual Harassment'\n",
            " 'Assault or use of criminal force to women with intent to Disrobe'\n",
            " 'Voyeurism' 'Stalking' 'Other Assault on Women'\n",
            " 'Insult to the Modesty of Women' 'At Office premises'\n",
            " 'Other places related to work' 'In Public Transport system'\n",
            " 'Places other than 231, 232 & 233' 'Cruelty by Husband or his Relatives'\n",
            " 'Importation of Girls from Foreign Country' 'Causing Death by Negligence'\n",
            " 'Deaths due to negligent driving/act' 'Deaths due to Other Causes'\n",
            " 'Offences against State' 'Sedition' 'Other offences against State'\n",
            " 'Offences promoting enmity between different groups'\n",
            " 'Promoting enmity between different groups'\n",
            " 'Imputation, assertions prejudicial to national integration' 'Extortion'\n",
            " 'Disclosure of Identity of Victims' 'Incidence of Rash Driving'\n",
            " 'HumanTrafficking' 'Unnatural Offence' 'Other IPC crimes'\n",
            " 'Total Cognizable IPC crimes']\n"
          ],
          "name": "stdout"
        }
      ]
    },
    {
      "cell_type": "code",
      "metadata": {
        "id": "Y0KN-fETf3rS"
      },
      "source": [
        "df1 = df1[['STATE/UT','DISTRICT','YEAR','TOTAL IPC CRIMES']]\n",
        "df2 = df2[['STATE/UT','DISTRICT','YEAR','TOTAL IPC CRIMES']]\n",
        "df3 = df3[['States/UTs','District','Year','Total Cognizable IPC crimes']]"
      ],
      "execution_count": null,
      "outputs": []
    },
    {
      "cell_type": "code",
      "metadata": {
        "id": "peDoerbZGNpW",
        "colab": {
          "base_uri": "https://localhost:8080/"
        },
        "outputId": "93a5d328-be2c-419f-a3ec-c70e49ffe306"
      },
      "source": [
        "df1.head()"
      ],
      "execution_count": null,
      "outputs": [
        {
          "output_type": "execute_result",
          "data": {
            "text/html": [
              "<div>\n",
              "<style scoped>\n",
              "    .dataframe tbody tr th:only-of-type {\n",
              "        vertical-align: middle;\n",
              "    }\n",
              "\n",
              "    .dataframe tbody tr th {\n",
              "        vertical-align: top;\n",
              "    }\n",
              "\n",
              "    .dataframe thead th {\n",
              "        text-align: right;\n",
              "    }\n",
              "</style>\n",
              "<table border=\"1\" class=\"dataframe\">\n",
              "  <thead>\n",
              "    <tr style=\"text-align: right;\">\n",
              "      <th></th>\n",
              "      <th>STATE/UT</th>\n",
              "      <th>DISTRICT</th>\n",
              "      <th>YEAR</th>\n",
              "      <th>TOTAL IPC CRIMES</th>\n",
              "    </tr>\n",
              "  </thead>\n",
              "  <tbody>\n",
              "    <tr>\n",
              "      <th>0</th>\n",
              "      <td>ANDHRA PRADESH</td>\n",
              "      <td>ADILABAD</td>\n",
              "      <td>2001</td>\n",
              "      <td>4154</td>\n",
              "    </tr>\n",
              "    <tr>\n",
              "      <th>1</th>\n",
              "      <td>ANDHRA PRADESH</td>\n",
              "      <td>ANANTAPUR</td>\n",
              "      <td>2001</td>\n",
              "      <td>4125</td>\n",
              "    </tr>\n",
              "    <tr>\n",
              "      <th>2</th>\n",
              "      <td>ANDHRA PRADESH</td>\n",
              "      <td>CHITTOOR</td>\n",
              "      <td>2001</td>\n",
              "      <td>5818</td>\n",
              "    </tr>\n",
              "    <tr>\n",
              "      <th>3</th>\n",
              "      <td>ANDHRA PRADESH</td>\n",
              "      <td>CUDDAPAH</td>\n",
              "      <td>2001</td>\n",
              "      <td>3140</td>\n",
              "    </tr>\n",
              "    <tr>\n",
              "      <th>4</th>\n",
              "      <td>ANDHRA PRADESH</td>\n",
              "      <td>EAST GODAVARI</td>\n",
              "      <td>2001</td>\n",
              "      <td>6507</td>\n",
              "    </tr>\n",
              "  </tbody>\n",
              "</table>\n",
              "</div>"
            ],
            "text/plain": [
              "         STATE/UT       DISTRICT  YEAR  TOTAL IPC CRIMES\n",
              "0  ANDHRA PRADESH       ADILABAD  2001              4154\n",
              "1  ANDHRA PRADESH      ANANTAPUR  2001              4125\n",
              "2  ANDHRA PRADESH       CHITTOOR  2001              5818\n",
              "3  ANDHRA PRADESH       CUDDAPAH  2001              3140\n",
              "4  ANDHRA PRADESH  EAST GODAVARI  2001              6507"
            ]
          },
          "metadata": {
            "tags": []
          },
          "execution_count": 11
        }
      ]
    },
    {
      "cell_type": "code",
      "metadata": {
        "id": "hWQ6OrZ9i-LQ",
        "colab": {
          "base_uri": "https://localhost:8080/"
        },
        "outputId": "1658e2d1-f40c-4f64-e013-6e5f402ac413"
      },
      "source": [
        "df2.head()"
      ],
      "execution_count": null,
      "outputs": [
        {
          "output_type": "execute_result",
          "data": {
            "text/html": [
              "<div>\n",
              "<style scoped>\n",
              "    .dataframe tbody tr th:only-of-type {\n",
              "        vertical-align: middle;\n",
              "    }\n",
              "\n",
              "    .dataframe tbody tr th {\n",
              "        vertical-align: top;\n",
              "    }\n",
              "\n",
              "    .dataframe thead th {\n",
              "        text-align: right;\n",
              "    }\n",
              "</style>\n",
              "<table border=\"1\" class=\"dataframe\">\n",
              "  <thead>\n",
              "    <tr style=\"text-align: right;\">\n",
              "      <th></th>\n",
              "      <th>STATE/UT</th>\n",
              "      <th>DISTRICT</th>\n",
              "      <th>YEAR</th>\n",
              "      <th>TOTAL IPC CRIMES</th>\n",
              "    </tr>\n",
              "  </thead>\n",
              "  <tbody>\n",
              "    <tr>\n",
              "      <th>0</th>\n",
              "      <td>Andhra Pradesh</td>\n",
              "      <td>ADILABAD</td>\n",
              "      <td>2013</td>\n",
              "      <td>6381</td>\n",
              "    </tr>\n",
              "    <tr>\n",
              "      <th>1</th>\n",
              "      <td>Andhra Pradesh</td>\n",
              "      <td>ANANTAPUR</td>\n",
              "      <td>2013</td>\n",
              "      <td>6913</td>\n",
              "    </tr>\n",
              "    <tr>\n",
              "      <th>2</th>\n",
              "      <td>Andhra Pradesh</td>\n",
              "      <td>CHITTOOR</td>\n",
              "      <td>2013</td>\n",
              "      <td>5610</td>\n",
              "    </tr>\n",
              "    <tr>\n",
              "      <th>3</th>\n",
              "      <td>Andhra Pradesh</td>\n",
              "      <td>CUDDAPAH</td>\n",
              "      <td>2013</td>\n",
              "      <td>7048</td>\n",
              "    </tr>\n",
              "    <tr>\n",
              "      <th>4</th>\n",
              "      <td>Andhra Pradesh</td>\n",
              "      <td>CYBERABAD</td>\n",
              "      <td>2013</td>\n",
              "      <td>19992</td>\n",
              "    </tr>\n",
              "  </tbody>\n",
              "</table>\n",
              "</div>"
            ],
            "text/plain": [
              "         STATE/UT   DISTRICT  YEAR  TOTAL IPC CRIMES\n",
              "0  Andhra Pradesh   ADILABAD  2013              6381\n",
              "1  Andhra Pradesh  ANANTAPUR  2013              6913\n",
              "2  Andhra Pradesh   CHITTOOR  2013              5610\n",
              "3  Andhra Pradesh   CUDDAPAH  2013              7048\n",
              "4  Andhra Pradesh  CYBERABAD  2013             19992"
            ]
          },
          "metadata": {
            "tags": []
          },
          "execution_count": 12
        }
      ]
    },
    {
      "cell_type": "code",
      "metadata": {
        "id": "dTM8eNj2i_uZ",
        "colab": {
          "base_uri": "https://localhost:8080/"
        },
        "outputId": "eb3f7b64-c2bc-47b0-f2cb-814023c76f3f"
      },
      "source": [
        "df3 = df3.rename(columns={'States/UTs':'STATE/UT', 'District':'DISTRICT', 'Year':'YEAR', 'Total Cognizable IPC crimes':'TOTAL IPC CRIMES'})\n",
        "df3.head()"
      ],
      "execution_count": null,
      "outputs": [
        {
          "output_type": "execute_result",
          "data": {
            "text/html": [
              "<div>\n",
              "<style scoped>\n",
              "    .dataframe tbody tr th:only-of-type {\n",
              "        vertical-align: middle;\n",
              "    }\n",
              "\n",
              "    .dataframe tbody tr th {\n",
              "        vertical-align: top;\n",
              "    }\n",
              "\n",
              "    .dataframe thead th {\n",
              "        text-align: right;\n",
              "    }\n",
              "</style>\n",
              "<table border=\"1\" class=\"dataframe\">\n",
              "  <thead>\n",
              "    <tr style=\"text-align: right;\">\n",
              "      <th></th>\n",
              "      <th>STATE/UT</th>\n",
              "      <th>DISTRICT</th>\n",
              "      <th>YEAR</th>\n",
              "      <th>TOTAL IPC CRIMES</th>\n",
              "    </tr>\n",
              "  </thead>\n",
              "  <tbody>\n",
              "    <tr>\n",
              "      <th>0</th>\n",
              "      <td>Andhra Pradesh</td>\n",
              "      <td>Anantapur</td>\n",
              "      <td>2014</td>\n",
              "      <td>8376</td>\n",
              "    </tr>\n",
              "    <tr>\n",
              "      <th>1</th>\n",
              "      <td>Andhra Pradesh</td>\n",
              "      <td>Chittoor</td>\n",
              "      <td>2014</td>\n",
              "      <td>5374</td>\n",
              "    </tr>\n",
              "    <tr>\n",
              "      <th>2</th>\n",
              "      <td>Andhra Pradesh</td>\n",
              "      <td>Cuddapah</td>\n",
              "      <td>2014</td>\n",
              "      <td>5803</td>\n",
              "    </tr>\n",
              "    <tr>\n",
              "      <th>3</th>\n",
              "      <td>Andhra Pradesh</td>\n",
              "      <td>East Godavari</td>\n",
              "      <td>2014</td>\n",
              "      <td>7630</td>\n",
              "    </tr>\n",
              "    <tr>\n",
              "      <th>4</th>\n",
              "      <td>Andhra Pradesh</td>\n",
              "      <td>Guntakal Railway</td>\n",
              "      <td>2014</td>\n",
              "      <td>490</td>\n",
              "    </tr>\n",
              "  </tbody>\n",
              "</table>\n",
              "</div>"
            ],
            "text/plain": [
              "         STATE/UT          DISTRICT  YEAR  TOTAL IPC CRIMES\n",
              "0  Andhra Pradesh         Anantapur  2014              8376\n",
              "1  Andhra Pradesh          Chittoor  2014              5374\n",
              "2  Andhra Pradesh          Cuddapah  2014              5803\n",
              "3  Andhra Pradesh     East Godavari  2014              7630\n",
              "4  Andhra Pradesh  Guntakal Railway  2014               490"
            ]
          },
          "metadata": {
            "tags": []
          },
          "execution_count": 13
        }
      ]
    },
    {
      "cell_type": "code",
      "metadata": {
        "id": "wx3hyWcKGOad"
      },
      "source": [
        "df = pd.concat([df1,df2,df3], ignore_index=True)"
      ],
      "execution_count": null,
      "outputs": []
    },
    {
      "cell_type": "code",
      "metadata": {
        "id": "7Nr0GfmYGkcN",
        "colab": {
          "base_uri": "https://localhost:8080/"
        },
        "outputId": "8ad4e300-7f98-478c-c1ec-956ebdef9772"
      },
      "source": [
        "df.head()"
      ],
      "execution_count": null,
      "outputs": [
        {
          "output_type": "execute_result",
          "data": {
            "text/html": [
              "<div>\n",
              "<style scoped>\n",
              "    .dataframe tbody tr th:only-of-type {\n",
              "        vertical-align: middle;\n",
              "    }\n",
              "\n",
              "    .dataframe tbody tr th {\n",
              "        vertical-align: top;\n",
              "    }\n",
              "\n",
              "    .dataframe thead th {\n",
              "        text-align: right;\n",
              "    }\n",
              "</style>\n",
              "<table border=\"1\" class=\"dataframe\">\n",
              "  <thead>\n",
              "    <tr style=\"text-align: right;\">\n",
              "      <th></th>\n",
              "      <th>STATE/UT</th>\n",
              "      <th>DISTRICT</th>\n",
              "      <th>YEAR</th>\n",
              "      <th>TOTAL IPC CRIMES</th>\n",
              "    </tr>\n",
              "  </thead>\n",
              "  <tbody>\n",
              "    <tr>\n",
              "      <th>0</th>\n",
              "      <td>ANDHRA PRADESH</td>\n",
              "      <td>ADILABAD</td>\n",
              "      <td>2001</td>\n",
              "      <td>4154</td>\n",
              "    </tr>\n",
              "    <tr>\n",
              "      <th>1</th>\n",
              "      <td>ANDHRA PRADESH</td>\n",
              "      <td>ANANTAPUR</td>\n",
              "      <td>2001</td>\n",
              "      <td>4125</td>\n",
              "    </tr>\n",
              "    <tr>\n",
              "      <th>2</th>\n",
              "      <td>ANDHRA PRADESH</td>\n",
              "      <td>CHITTOOR</td>\n",
              "      <td>2001</td>\n",
              "      <td>5818</td>\n",
              "    </tr>\n",
              "    <tr>\n",
              "      <th>3</th>\n",
              "      <td>ANDHRA PRADESH</td>\n",
              "      <td>CUDDAPAH</td>\n",
              "      <td>2001</td>\n",
              "      <td>3140</td>\n",
              "    </tr>\n",
              "    <tr>\n",
              "      <th>4</th>\n",
              "      <td>ANDHRA PRADESH</td>\n",
              "      <td>EAST GODAVARI</td>\n",
              "      <td>2001</td>\n",
              "      <td>6507</td>\n",
              "    </tr>\n",
              "  </tbody>\n",
              "</table>\n",
              "</div>"
            ],
            "text/plain": [
              "         STATE/UT       DISTRICT  YEAR  TOTAL IPC CRIMES\n",
              "0  ANDHRA PRADESH       ADILABAD  2001              4154\n",
              "1  ANDHRA PRADESH      ANANTAPUR  2001              4125\n",
              "2  ANDHRA PRADESH       CHITTOOR  2001              5818\n",
              "3  ANDHRA PRADESH       CUDDAPAH  2001              3140\n",
              "4  ANDHRA PRADESH  EAST GODAVARI  2001              6507"
            ]
          },
          "metadata": {
            "tags": []
          },
          "execution_count": 15
        }
      ]
    },
    {
      "cell_type": "code",
      "metadata": {
        "id": "pDUUHYbWGmEb",
        "colab": {
          "base_uri": "https://localhost:8080/"
        },
        "outputId": "83feadeb-4c4f-4764-88ba-84f8cc4bc150"
      },
      "source": [
        "df2 = pd.DataFrame(df.groupby(['STATE/UT','YEAR'])['TOTAL IPC CRIMES'].sum())\n",
        "df2 = df2.reset_index()\n",
        "crime = df2\n",
        "crime['STATE/UT'].unique()"
      ],
      "execution_count": null,
      "outputs": [
        {
          "output_type": "execute_result",
          "data": {
            "text/plain": [
              "array(['A & N ISLANDS', 'A&N Islands', 'ANDHRA PRADESH',\n",
              "       'ARUNACHAL PRADESH', 'ASSAM', 'Andhra Pradesh',\n",
              "       'Arunachal Pradesh', 'Assam', 'BIHAR', 'Bihar', 'CHANDIGARH',\n",
              "       'CHHATTISGARH', 'Chandigarh', 'Chhattisgarh', 'D & N HAVELI',\n",
              "       'D&N Haveli', 'DAMAN & DIU', 'DELHI UT', 'Daman & Diu', 'Delhi UT',\n",
              "       'GOA', 'GUJARAT', 'Goa', 'Gujarat', 'HARYANA', 'HIMACHAL PRADESH',\n",
              "       'Haryana', 'Himachal Pradesh', 'JAMMU & KASHMIR', 'JHARKHAND',\n",
              "       'Jammu & Kashmir', 'Jharkhand', 'KARNATAKA', 'KERALA', 'Karnataka',\n",
              "       'Kerala', 'LAKSHADWEEP', 'Lakshadweep', 'MADHYA PRADESH',\n",
              "       'MAHARASHTRA', 'MANIPUR', 'MEGHALAYA', 'MIZORAM', 'Madhya Pradesh',\n",
              "       'Maharashtra', 'Manipur', 'Meghalaya', 'Mizoram', 'NAGALAND',\n",
              "       'Nagaland', 'ODISHA', 'Odisha', 'PUDUCHERRY', 'PUNJAB',\n",
              "       'Puducherry', 'Punjab', 'RAJASTHAN', 'Rajasthan', 'SIKKIM',\n",
              "       'Sikkim', 'TAMIL NADU', 'TRIPURA', 'Tamil Nadu', 'Telangana',\n",
              "       'Tripura', 'UTTAR PRADESH', 'UTTARAKHAND', 'Uttar Pradesh',\n",
              "       'Uttarakhand', 'WEST BENGAL', 'West Bengal'], dtype=object)"
            ]
          },
          "metadata": {
            "tags": []
          },
          "execution_count": 16
        }
      ]
    },
    {
      "cell_type": "code",
      "metadata": {
        "id": "EksY4SFonsfm"
      },
      "source": [
        "crime['STATE/UT'] = crime['STATE/UT'].str.upper() "
      ],
      "execution_count": null,
      "outputs": []
    },
    {
      "cell_type": "code",
      "metadata": {
        "id": "h88JT6_Zn1q5",
        "colab": {
          "base_uri": "https://localhost:8080/"
        },
        "outputId": "3aaaee04-4ff0-4cc2-eecf-ca6637e8fd80"
      },
      "source": [
        "crime['STATE/UT'].unique()"
      ],
      "execution_count": null,
      "outputs": [
        {
          "output_type": "execute_result",
          "data": {
            "text/plain": [
              "array(['A & N ISLANDS', 'A&N ISLANDS', 'ANDHRA PRADESH',\n",
              "       'ARUNACHAL PRADESH', 'ASSAM', 'BIHAR', 'CHANDIGARH',\n",
              "       'CHHATTISGARH', 'D & N HAVELI', 'D&N HAVELI', 'DAMAN & DIU',\n",
              "       'DELHI UT', 'GOA', 'GUJARAT', 'HARYANA', 'HIMACHAL PRADESH',\n",
              "       'JAMMU & KASHMIR', 'JHARKHAND', 'KARNATAKA', 'KERALA',\n",
              "       'LAKSHADWEEP', 'MADHYA PRADESH', 'MAHARASHTRA', 'MANIPUR',\n",
              "       'MEGHALAYA', 'MIZORAM', 'NAGALAND', 'ODISHA', 'PUDUCHERRY',\n",
              "       'PUNJAB', 'RAJASTHAN', 'SIKKIM', 'TAMIL NADU', 'TRIPURA',\n",
              "       'TELANGANA', 'UTTAR PRADESH', 'UTTARAKHAND', 'WEST BENGAL'],\n",
              "      dtype=object)"
            ]
          },
          "metadata": {
            "tags": []
          },
          "execution_count": 18
        }
      ]
    },
    {
      "cell_type": "code",
      "metadata": {
        "id": "RHQ5LtyfMTXq"
      },
      "source": [
        ""
      ],
      "execution_count": null,
      "outputs": []
    },
    {
      "cell_type": "markdown",
      "metadata": {
        "id": "wf31_gw_XSjQ"
      },
      "source": [
        "###ACCIDENT DATA PREPROCESS"
      ]
    },
    {
      "cell_type": "code",
      "metadata": {
        "id": "FIMXNnUXVOg3",
        "colab": {
          "base_uri": "https://localhost:8080/"
        },
        "outputId": "08f092d6-ce8a-435c-b979-8e60cf311dcf"
      },
      "source": [
        "accident = pd.read_excel(url+'accident.xls')\n",
        "accident = accident.rename(columns={'States/Uts':'STATE/UT'})\n",
        "accident.head()"
      ],
      "execution_count": null,
      "outputs": [
        {
          "output_type": "stream",
          "text": [
            "WARNING *** OLE2 inconsistency: SSCS size is 0 but SSAT size is non-zero\n"
          ],
          "name": "stdout"
        },
        {
          "output_type": "execute_result",
          "data": {
            "text/html": [
              "<div>\n",
              "<style scoped>\n",
              "    .dataframe tbody tr th:only-of-type {\n",
              "        vertical-align: middle;\n",
              "    }\n",
              "\n",
              "    .dataframe tbody tr th {\n",
              "        vertical-align: top;\n",
              "    }\n",
              "\n",
              "    .dataframe thead th {\n",
              "        text-align: right;\n",
              "    }\n",
              "</style>\n",
              "<table border=\"1\" class=\"dataframe\">\n",
              "  <thead>\n",
              "    <tr style=\"text-align: right;\">\n",
              "      <th></th>\n",
              "      <th>STATE/UT</th>\n",
              "      <th>2003</th>\n",
              "      <th>2004</th>\n",
              "      <th>2005</th>\n",
              "      <th>2006</th>\n",
              "      <th>2007</th>\n",
              "      <th>2008</th>\n",
              "      <th>2009</th>\n",
              "      <th>2010</th>\n",
              "      <th>2011</th>\n",
              "      <th>2012</th>\n",
              "      <th>2013</th>\n",
              "      <th>2014</th>\n",
              "      <th>2015</th>\n",
              "      <th>2016</th>\n",
              "    </tr>\n",
              "  </thead>\n",
              "  <tbody>\n",
              "    <tr>\n",
              "      <th>0</th>\n",
              "      <td>Andhra Pradesh</td>\n",
              "      <td>8616.0</td>\n",
              "      <td>9343.0</td>\n",
              "      <td>9126.0</td>\n",
              "      <td>11378.0</td>\n",
              "      <td>11885.0</td>\n",
              "      <td>12233.0</td>\n",
              "      <td>12676.0</td>\n",
              "      <td>13932.0</td>\n",
              "      <td>13783.0</td>\n",
              "      <td>13560.0</td>\n",
              "      <td>13175.0</td>\n",
              "      <td>7277</td>\n",
              "      <td>7524</td>\n",
              "      <td>7851</td>\n",
              "    </tr>\n",
              "    <tr>\n",
              "      <th>1</th>\n",
              "      <td>Arunachal Pradesh</td>\n",
              "      <td>65.0</td>\n",
              "      <td>79.0</td>\n",
              "      <td>63.0</td>\n",
              "      <td>87.0</td>\n",
              "      <td>81.0</td>\n",
              "      <td>90.0</td>\n",
              "      <td>114.0</td>\n",
              "      <td>108.0</td>\n",
              "      <td>96.0</td>\n",
              "      <td>94.0</td>\n",
              "      <td>120.0</td>\n",
              "      <td>92</td>\n",
              "      <td>117</td>\n",
              "      <td>103</td>\n",
              "    </tr>\n",
              "    <tr>\n",
              "      <th>2</th>\n",
              "      <td>Assam</td>\n",
              "      <td>1120.0</td>\n",
              "      <td>1177.0</td>\n",
              "      <td>1420.0</td>\n",
              "      <td>1627.0</td>\n",
              "      <td>1483.0</td>\n",
              "      <td>1641.0</td>\n",
              "      <td>1735.0</td>\n",
              "      <td>1924.0</td>\n",
              "      <td>2015.0</td>\n",
              "      <td>2011.0</td>\n",
              "      <td>2162.0</td>\n",
              "      <td>2169</td>\n",
              "      <td>2122</td>\n",
              "      <td>2445</td>\n",
              "    </tr>\n",
              "    <tr>\n",
              "      <th>3</th>\n",
              "      <td>Bihar</td>\n",
              "      <td>2138.0</td>\n",
              "      <td>1579.0</td>\n",
              "      <td>1462.0</td>\n",
              "      <td>2315.0</td>\n",
              "      <td>3074.0</td>\n",
              "      <td>3514.0</td>\n",
              "      <td>4038.0</td>\n",
              "      <td>4513.0</td>\n",
              "      <td>4676.0</td>\n",
              "      <td>4706.0</td>\n",
              "      <td>4612.0</td>\n",
              "      <td>4505</td>\n",
              "      <td>4771</td>\n",
              "      <td>4425</td>\n",
              "    </tr>\n",
              "    <tr>\n",
              "      <th>4</th>\n",
              "      <td>Chhattisgarh</td>\n",
              "      <td>1788.0</td>\n",
              "      <td>1892.0</td>\n",
              "      <td>2049.0</td>\n",
              "      <td>2288.0</td>\n",
              "      <td>2496.0</td>\n",
              "      <td>2600.0</td>\n",
              "      <td>2566.0</td>\n",
              "      <td>2668.0</td>\n",
              "      <td>2659.0</td>\n",
              "      <td>2783.0</td>\n",
              "      <td>3059.0</td>\n",
              "      <td>3570</td>\n",
              "      <td>3710</td>\n",
              "      <td>3527</td>\n",
              "    </tr>\n",
              "  </tbody>\n",
              "</table>\n",
              "</div>"
            ],
            "text/plain": [
              "            STATE/UT    2003    2004    2005  ...     2013  2014  2015  2016\n",
              "0     Andhra Pradesh  8616.0  9343.0  9126.0  ...  13175.0  7277  7524  7851\n",
              "1  Arunachal Pradesh    65.0    79.0    63.0  ...    120.0    92   117   103\n",
              "2              Assam  1120.0  1177.0  1420.0  ...   2162.0  2169  2122  2445\n",
              "3              Bihar  2138.0  1579.0  1462.0  ...   4612.0  4505  4771  4425\n",
              "4       Chhattisgarh  1788.0  1892.0  2049.0  ...   3059.0  3570  3710  3527\n",
              "\n",
              "[5 rows x 15 columns]"
            ]
          },
          "metadata": {
            "tags": []
          },
          "execution_count": 19
        }
      ]
    },
    {
      "cell_type": "code",
      "metadata": {
        "id": "sKNIZUyUvqVi"
      },
      "source": [
        "accident = accident[accident['STATE/UT']!='All India']"
      ],
      "execution_count": null,
      "outputs": []
    },
    {
      "cell_type": "code",
      "metadata": {
        "id": "qoAKJ5Oguk6G"
      },
      "source": [
        "accident = accident.melt(id_vars=[\"STATE/UT\"], \n",
        "        var_name=\"Year\", \n",
        "        value_name=\"count\")"
      ],
      "execution_count": null,
      "outputs": []
    },
    {
      "cell_type": "code",
      "metadata": {
        "id": "avhO2cUaxNYd",
        "colab": {
          "base_uri": "https://localhost:8080/"
        },
        "outputId": "f07c5990-128b-46cd-8759-8bc6f44c1236"
      },
      "source": [
        "accident.head()"
      ],
      "execution_count": null,
      "outputs": [
        {
          "output_type": "execute_result",
          "data": {
            "text/html": [
              "<div>\n",
              "<style scoped>\n",
              "    .dataframe tbody tr th:only-of-type {\n",
              "        vertical-align: middle;\n",
              "    }\n",
              "\n",
              "    .dataframe tbody tr th {\n",
              "        vertical-align: top;\n",
              "    }\n",
              "\n",
              "    .dataframe thead th {\n",
              "        text-align: right;\n",
              "    }\n",
              "</style>\n",
              "<table border=\"1\" class=\"dataframe\">\n",
              "  <thead>\n",
              "    <tr style=\"text-align: right;\">\n",
              "      <th></th>\n",
              "      <th>STATE/UT</th>\n",
              "      <th>Year</th>\n",
              "      <th>count</th>\n",
              "    </tr>\n",
              "  </thead>\n",
              "  <tbody>\n",
              "    <tr>\n",
              "      <th>0</th>\n",
              "      <td>Andhra Pradesh</td>\n",
              "      <td>2003</td>\n",
              "      <td>8616.0</td>\n",
              "    </tr>\n",
              "    <tr>\n",
              "      <th>1</th>\n",
              "      <td>Arunachal Pradesh</td>\n",
              "      <td>2003</td>\n",
              "      <td>65.0</td>\n",
              "    </tr>\n",
              "    <tr>\n",
              "      <th>2</th>\n",
              "      <td>Assam</td>\n",
              "      <td>2003</td>\n",
              "      <td>1120.0</td>\n",
              "    </tr>\n",
              "    <tr>\n",
              "      <th>3</th>\n",
              "      <td>Bihar</td>\n",
              "      <td>2003</td>\n",
              "      <td>2138.0</td>\n",
              "    </tr>\n",
              "    <tr>\n",
              "      <th>4</th>\n",
              "      <td>Chhattisgarh</td>\n",
              "      <td>2003</td>\n",
              "      <td>1788.0</td>\n",
              "    </tr>\n",
              "  </tbody>\n",
              "</table>\n",
              "</div>"
            ],
            "text/plain": [
              "            STATE/UT  Year   count\n",
              "0     Andhra Pradesh  2003  8616.0\n",
              "1  Arunachal Pradesh  2003    65.0\n",
              "2              Assam  2003  1120.0\n",
              "3              Bihar  2003  2138.0\n",
              "4       Chhattisgarh  2003  1788.0"
            ]
          },
          "metadata": {
            "tags": []
          },
          "execution_count": 22
        }
      ]
    },
    {
      "cell_type": "code",
      "metadata": {
        "id": "3u5-GD_PnM80"
      },
      "source": [
        "accident['STATE/UT'] = accident['STATE/UT'].str.upper() "
      ],
      "execution_count": null,
      "outputs": []
    },
    {
      "cell_type": "code",
      "metadata": {
        "id": "Hgy5tQZ_oykk",
        "colab": {
          "base_uri": "https://localhost:8080/"
        },
        "outputId": "113f9ca6-fddc-49cc-f028-256c80d5723a"
      },
      "source": [
        "accident.head()"
      ],
      "execution_count": null,
      "outputs": [
        {
          "output_type": "execute_result",
          "data": {
            "text/html": [
              "<div>\n",
              "<style scoped>\n",
              "    .dataframe tbody tr th:only-of-type {\n",
              "        vertical-align: middle;\n",
              "    }\n",
              "\n",
              "    .dataframe tbody tr th {\n",
              "        vertical-align: top;\n",
              "    }\n",
              "\n",
              "    .dataframe thead th {\n",
              "        text-align: right;\n",
              "    }\n",
              "</style>\n",
              "<table border=\"1\" class=\"dataframe\">\n",
              "  <thead>\n",
              "    <tr style=\"text-align: right;\">\n",
              "      <th></th>\n",
              "      <th>STATE/UT</th>\n",
              "      <th>Year</th>\n",
              "      <th>count</th>\n",
              "    </tr>\n",
              "  </thead>\n",
              "  <tbody>\n",
              "    <tr>\n",
              "      <th>0</th>\n",
              "      <td>ANDHRA PRADESH</td>\n",
              "      <td>2003</td>\n",
              "      <td>8616.0</td>\n",
              "    </tr>\n",
              "    <tr>\n",
              "      <th>1</th>\n",
              "      <td>ARUNACHAL PRADESH</td>\n",
              "      <td>2003</td>\n",
              "      <td>65.0</td>\n",
              "    </tr>\n",
              "    <tr>\n",
              "      <th>2</th>\n",
              "      <td>ASSAM</td>\n",
              "      <td>2003</td>\n",
              "      <td>1120.0</td>\n",
              "    </tr>\n",
              "    <tr>\n",
              "      <th>3</th>\n",
              "      <td>BIHAR</td>\n",
              "      <td>2003</td>\n",
              "      <td>2138.0</td>\n",
              "    </tr>\n",
              "    <tr>\n",
              "      <th>4</th>\n",
              "      <td>CHHATTISGARH</td>\n",
              "      <td>2003</td>\n",
              "      <td>1788.0</td>\n",
              "    </tr>\n",
              "  </tbody>\n",
              "</table>\n",
              "</div>"
            ],
            "text/plain": [
              "            STATE/UT  Year   count\n",
              "0     ANDHRA PRADESH  2003  8616.0\n",
              "1  ARUNACHAL PRADESH  2003    65.0\n",
              "2              ASSAM  2003  1120.0\n",
              "3              BIHAR  2003  2138.0\n",
              "4       CHHATTISGARH  2003  1788.0"
            ]
          },
          "metadata": {
            "tags": []
          },
          "execution_count": 24
        }
      ]
    },
    {
      "cell_type": "code",
      "metadata": {
        "id": "sLrmTv0_oz4X",
        "colab": {
          "base_uri": "https://localhost:8080/"
        },
        "outputId": "dd14da79-77f7-4cac-b95b-8489abc90872"
      },
      "source": [
        "accident['STATE/UT'].unique()"
      ],
      "execution_count": null,
      "outputs": [
        {
          "output_type": "execute_result",
          "data": {
            "text/plain": [
              "array(['ANDHRA PRADESH', 'ARUNACHAL PRADESH', 'ASSAM', 'BIHAR',\n",
              "       'CHHATTISGARH', 'GOA', 'GUJARAT', 'HARYANA', 'HIMACHAL PRADESH',\n",
              "       'JAMMU & KASHMIR', 'JHARKHAND', 'KARNATAKA', 'KERALA',\n",
              "       'MADHYA PRADESH', 'MAHARASHTRA', 'MANIPUR', 'MEGHALAYA', 'MIZORAM',\n",
              "       'NAGALAND', 'ODISHA', 'PUNJAB', 'RAJASTHAN', 'SIKKIM',\n",
              "       'TAMIL NADU', 'TELANGANA', 'TRIPURA', 'UTTARAKHAND',\n",
              "       'UTTAR PRADESH', 'WEST BENGAL', 'ANDAMAN & NICOBAR ISLANDS',\n",
              "       'CHANDIGARH', 'DADRA & NAGAR HAVELI', 'DAMAN & DIU', 'DELHI',\n",
              "       'LAKSHADWEEP', 'PUDUCHERRY'], dtype=object)"
            ]
          },
          "metadata": {
            "tags": []
          },
          "execution_count": 25
        }
      ]
    },
    {
      "cell_type": "markdown",
      "metadata": {
        "id": "3aYBSMtJl5PB"
      },
      "source": [
        "###DISASTER DATA PREPROCESS"
      ]
    },
    {
      "cell_type": "code",
      "metadata": {
        "id": "k9VrnZLzl9kd",
        "colab": {
          "base_uri": "https://localhost:8080/"
        },
        "outputId": "b939eab5-588e-4fa6-deb3-dd767a93516f"
      },
      "source": [
        "disaster = pd.read_excel(url+'disaster.xlsx')\n",
        "disaster = disaster[5:][:]\n",
        "disaster"
      ],
      "execution_count": null,
      "outputs": [
        {
          "output_type": "execute_result",
          "data": {
            "text/html": [
              "<div>\n",
              "<style scoped>\n",
              "    .dataframe tbody tr th:only-of-type {\n",
              "        vertical-align: middle;\n",
              "    }\n",
              "\n",
              "    .dataframe tbody tr th {\n",
              "        vertical-align: top;\n",
              "    }\n",
              "\n",
              "    .dataframe thead th {\n",
              "        text-align: right;\n",
              "    }\n",
              "</style>\n",
              "<table border=\"1\" class=\"dataframe\">\n",
              "  <thead>\n",
              "    <tr style=\"text-align: right;\">\n",
              "      <th></th>\n",
              "      <th>Source:</th>\n",
              "      <th>EM-DAT, CRED / UCLouvain, Brussels, Belgium</th>\n",
              "      <th>Unnamed: 2</th>\n",
              "      <th>Unnamed: 3</th>\n",
              "      <th>Unnamed: 4</th>\n",
              "      <th>Unnamed: 5</th>\n",
              "      <th>Unnamed: 6</th>\n",
              "      <th>Unnamed: 7</th>\n",
              "      <th>Unnamed: 8</th>\n",
              "      <th>Unnamed: 9</th>\n",
              "      <th>Unnamed: 10</th>\n",
              "      <th>Unnamed: 11</th>\n",
              "      <th>Unnamed: 12</th>\n",
              "      <th>Unnamed: 13</th>\n",
              "      <th>Unnamed: 14</th>\n",
              "      <th>Unnamed: 15</th>\n",
              "      <th>Unnamed: 16</th>\n",
              "      <th>Unnamed: 17</th>\n",
              "      <th>Unnamed: 18</th>\n",
              "      <th>Unnamed: 19</th>\n",
              "      <th>Unnamed: 20</th>\n",
              "      <th>Unnamed: 21</th>\n",
              "      <th>Unnamed: 22</th>\n",
              "      <th>Unnamed: 23</th>\n",
              "      <th>Unnamed: 24</th>\n",
              "      <th>Unnamed: 25</th>\n",
              "      <th>Unnamed: 26</th>\n",
              "      <th>Unnamed: 27</th>\n",
              "      <th>Unnamed: 28</th>\n",
              "      <th>Unnamed: 29</th>\n",
              "      <th>Unnamed: 30</th>\n",
              "      <th>Unnamed: 31</th>\n",
              "      <th>Unnamed: 32</th>\n",
              "      <th>Unnamed: 33</th>\n",
              "      <th>Unnamed: 34</th>\n",
              "      <th>Unnamed: 35</th>\n",
              "      <th>Unnamed: 36</th>\n",
              "      <th>Unnamed: 37</th>\n",
              "      <th>Unnamed: 38</th>\n",
              "      <th>Unnamed: 39</th>\n",
              "      <th>Unnamed: 40</th>\n",
              "      <th>Unnamed: 41</th>\n",
              "      <th>Unnamed: 42</th>\n",
              "    </tr>\n",
              "  </thead>\n",
              "  <tbody>\n",
              "    <tr>\n",
              "      <th>5</th>\n",
              "      <td>Dis No</td>\n",
              "      <td>Year</td>\n",
              "      <td>Seq</td>\n",
              "      <td>Disaster Group</td>\n",
              "      <td>Disaster Subgroup</td>\n",
              "      <td>Disaster Type</td>\n",
              "      <td>Disaster Subtype</td>\n",
              "      <td>Disaster Subsubtype</td>\n",
              "      <td>Event Name</td>\n",
              "      <td>Entry Criteria</td>\n",
              "      <td>Country</td>\n",
              "      <td>ISO</td>\n",
              "      <td>Region</td>\n",
              "      <td>Continent</td>\n",
              "      <td>Location</td>\n",
              "      <td>Origin</td>\n",
              "      <td>Associated Dis</td>\n",
              "      <td>Associated Dis2</td>\n",
              "      <td>OFDA Response</td>\n",
              "      <td>Appeal</td>\n",
              "      <td>Declaration</td>\n",
              "      <td>Aid Contribution</td>\n",
              "      <td>Dis Mag Value</td>\n",
              "      <td>Dis Mag Scale</td>\n",
              "      <td>Latitude</td>\n",
              "      <td>Longitude</td>\n",
              "      <td>Local Time</td>\n",
              "      <td>River Basin</td>\n",
              "      <td>Start Year</td>\n",
              "      <td>Start Month</td>\n",
              "      <td>Start Day</td>\n",
              "      <td>End Year</td>\n",
              "      <td>End Month</td>\n",
              "      <td>End Day</td>\n",
              "      <td>Total Deaths</td>\n",
              "      <td>No Injured</td>\n",
              "      <td>No Affected</td>\n",
              "      <td>No Homeless</td>\n",
              "      <td>Total Affected</td>\n",
              "      <td>Reconstruction Costs ('000 US$)</td>\n",
              "      <td>Insured Damages ('000 US$)</td>\n",
              "      <td>Total Damages ('000 US$)</td>\n",
              "      <td>CPI</td>\n",
              "    </tr>\n",
              "    <tr>\n",
              "      <th>6</th>\n",
              "      <td>2000-9222-IND</td>\n",
              "      <td>2000</td>\n",
              "      <td>9222</td>\n",
              "      <td>Natural</td>\n",
              "      <td>Climatological</td>\n",
              "      <td>Drought</td>\n",
              "      <td>Drought</td>\n",
              "      <td>NaN</td>\n",
              "      <td>NaN</td>\n",
              "      <td>Affected</td>\n",
              "      <td>India</td>\n",
              "      <td>IND</td>\n",
              "      <td>Southern Asia</td>\n",
              "      <td>Asia</td>\n",
              "      <td>New Delhi city (Delhi province), Gujarat, Raja...</td>\n",
              "      <td>NaN</td>\n",
              "      <td>Heat wave</td>\n",
              "      <td>Food shortage</td>\n",
              "      <td>NaN</td>\n",
              "      <td>NaN</td>\n",
              "      <td>Yes</td>\n",
              "      <td>2247</td>\n",
              "      <td>NaN</td>\n",
              "      <td>Km2</td>\n",
              "      <td>NaN</td>\n",
              "      <td>NaN</td>\n",
              "      <td>NaN</td>\n",
              "      <td>NaN</td>\n",
              "      <td>2000</td>\n",
              "      <td>4</td>\n",
              "      <td>NaN</td>\n",
              "      <td>2001</td>\n",
              "      <td>NaN</td>\n",
              "      <td>NaN</td>\n",
              "      <td>20</td>\n",
              "      <td>NaN</td>\n",
              "      <td>50000000</td>\n",
              "      <td>NaN</td>\n",
              "      <td>50000000</td>\n",
              "      <td>NaN</td>\n",
              "      <td>NaN</td>\n",
              "      <td>588000</td>\n",
              "      <td>67.3558</td>\n",
              "    </tr>\n",
              "    <tr>\n",
              "      <th>7</th>\n",
              "      <td>2000-0332-IND</td>\n",
              "      <td>2000</td>\n",
              "      <td>0332</td>\n",
              "      <td>Natural</td>\n",
              "      <td>Hydrological</td>\n",
              "      <td>Flood</td>\n",
              "      <td>Flash flood</td>\n",
              "      <td>NaN</td>\n",
              "      <td>NaN</td>\n",
              "      <td>Kill</td>\n",
              "      <td>India</td>\n",
              "      <td>IND</td>\n",
              "      <td>Southern Asia</td>\n",
              "      <td>Asia</td>\n",
              "      <td>Yingkiang,Tuting villages (Upper Siang (70051)...</td>\n",
              "      <td>NaN</td>\n",
              "      <td>Broken Dam/Burst bank</td>\n",
              "      <td>NaN</td>\n",
              "      <td>NaN</td>\n",
              "      <td>NaN</td>\n",
              "      <td>NaN</td>\n",
              "      <td>NaN</td>\n",
              "      <td>55000</td>\n",
              "      <td>Km2</td>\n",
              "      <td>NaN</td>\n",
              "      <td>NaN</td>\n",
              "      <td>NaN</td>\n",
              "      <td>NaN</td>\n",
              "      <td>2000</td>\n",
              "      <td>6</td>\n",
              "      <td>10</td>\n",
              "      <td>2000</td>\n",
              "      <td>6</td>\n",
              "      <td>10</td>\n",
              "      <td>20</td>\n",
              "      <td>NaN</td>\n",
              "      <td>3000000</td>\n",
              "      <td>NaN</td>\n",
              "      <td>3000000</td>\n",
              "      <td>NaN</td>\n",
              "      <td>NaN</td>\n",
              "      <td>NaN</td>\n",
              "      <td>67.3558</td>\n",
              "    </tr>\n",
              "    <tr>\n",
              "      <th>8</th>\n",
              "      <td>2000-0444-IND</td>\n",
              "      <td>2000</td>\n",
              "      <td>0444</td>\n",
              "      <td>Natural</td>\n",
              "      <td>Hydrological</td>\n",
              "      <td>Flood</td>\n",
              "      <td>Flash flood</td>\n",
              "      <td>NaN</td>\n",
              "      <td>NaN</td>\n",
              "      <td>Kill</td>\n",
              "      <td>India</td>\n",
              "      <td>IND</td>\n",
              "      <td>Southern Asia</td>\n",
              "      <td>Asia</td>\n",
              "      <td>East Siang, 70041, West Siang, 70054, Upper Si...</td>\n",
              "      <td>NaN</td>\n",
              "      <td>NaN</td>\n",
              "      <td>NaN</td>\n",
              "      <td>NaN</td>\n",
              "      <td>NaN</td>\n",
              "      <td>NaN</td>\n",
              "      <td>NaN</td>\n",
              "      <td>NaN</td>\n",
              "      <td>Km2</td>\n",
              "      <td>NaN</td>\n",
              "      <td>NaN</td>\n",
              "      <td>NaN</td>\n",
              "      <td>NaN</td>\n",
              "      <td>2000</td>\n",
              "      <td>7</td>\n",
              "      <td>NaN</td>\n",
              "      <td>2000</td>\n",
              "      <td>7</td>\n",
              "      <td>NaN</td>\n",
              "      <td>130</td>\n",
              "      <td>NaN</td>\n",
              "      <td>NaN</td>\n",
              "      <td>NaN</td>\n",
              "      <td>NaN</td>\n",
              "      <td>NaN</td>\n",
              "      <td>NaN</td>\n",
              "      <td>NaN</td>\n",
              "      <td>67.3558</td>\n",
              "    </tr>\n",
              "    <tr>\n",
              "      <th>9</th>\n",
              "      <td>2000-0534-IND</td>\n",
              "      <td>2000</td>\n",
              "      <td>0534</td>\n",
              "      <td>Natural</td>\n",
              "      <td>Hydrological</td>\n",
              "      <td>Flood</td>\n",
              "      <td>Flash flood</td>\n",
              "      <td>NaN</td>\n",
              "      <td>NaN</td>\n",
              "      <td>Kill</td>\n",
              "      <td>India</td>\n",
              "      <td>IND</td>\n",
              "      <td>Southern Asia</td>\n",
              "      <td>Asia</td>\n",
              "      <td>Adilabad, Cuddapah, East Godavari, Guntur, Hyd...</td>\n",
              "      <td>Brief torrential rain</td>\n",
              "      <td>NaN</td>\n",
              "      <td>NaN</td>\n",
              "      <td>NaN</td>\n",
              "      <td>NaN</td>\n",
              "      <td>NaN</td>\n",
              "      <td>NaN</td>\n",
              "      <td>129500</td>\n",
              "      <td>Km2</td>\n",
              "      <td>NaN</td>\n",
              "      <td>NaN</td>\n",
              "      <td>NaN</td>\n",
              "      <td>Godavari</td>\n",
              "      <td>2000</td>\n",
              "      <td>8</td>\n",
              "      <td>23</td>\n",
              "      <td>2000</td>\n",
              "      <td>8</td>\n",
              "      <td>31</td>\n",
              "      <td>179</td>\n",
              "      <td>16</td>\n",
              "      <td>NaN</td>\n",
              "      <td>252000</td>\n",
              "      <td>252016</td>\n",
              "      <td>NaN</td>\n",
              "      <td>NaN</td>\n",
              "      <td>173000</td>\n",
              "      <td>67.3558</td>\n",
              "    </tr>\n",
              "    <tr>\n",
              "      <th>...</th>\n",
              "      <td>...</td>\n",
              "      <td>...</td>\n",
              "      <td>...</td>\n",
              "      <td>...</td>\n",
              "      <td>...</td>\n",
              "      <td>...</td>\n",
              "      <td>...</td>\n",
              "      <td>...</td>\n",
              "      <td>...</td>\n",
              "      <td>...</td>\n",
              "      <td>...</td>\n",
              "      <td>...</td>\n",
              "      <td>...</td>\n",
              "      <td>...</td>\n",
              "      <td>...</td>\n",
              "      <td>...</td>\n",
              "      <td>...</td>\n",
              "      <td>...</td>\n",
              "      <td>...</td>\n",
              "      <td>...</td>\n",
              "      <td>...</td>\n",
              "      <td>...</td>\n",
              "      <td>...</td>\n",
              "      <td>...</td>\n",
              "      <td>...</td>\n",
              "      <td>...</td>\n",
              "      <td>...</td>\n",
              "      <td>...</td>\n",
              "      <td>...</td>\n",
              "      <td>...</td>\n",
              "      <td>...</td>\n",
              "      <td>...</td>\n",
              "      <td>...</td>\n",
              "      <td>...</td>\n",
              "      <td>...</td>\n",
              "      <td>...</td>\n",
              "      <td>...</td>\n",
              "      <td>...</td>\n",
              "      <td>...</td>\n",
              "      <td>...</td>\n",
              "      <td>...</td>\n",
              "      <td>...</td>\n",
              "      <td>...</td>\n",
              "    </tr>\n",
              "    <tr>\n",
              "      <th>349</th>\n",
              "      <td>2019-0480-IND</td>\n",
              "      <td>2019</td>\n",
              "      <td>0480</td>\n",
              "      <td>Natural</td>\n",
              "      <td>Biological</td>\n",
              "      <td>Epidemic</td>\n",
              "      <td>Viral disease</td>\n",
              "      <td>NaN</td>\n",
              "      <td>Dengue</td>\n",
              "      <td>Affected</td>\n",
              "      <td>India</td>\n",
              "      <td>IND</td>\n",
              "      <td>Southern Asia</td>\n",
              "      <td>Asia</td>\n",
              "      <td>Rajendranagar area (Bihar)</td>\n",
              "      <td>NaN</td>\n",
              "      <td>NaN</td>\n",
              "      <td>NaN</td>\n",
              "      <td>NaN</td>\n",
              "      <td>NaN</td>\n",
              "      <td>NaN</td>\n",
              "      <td>NaN</td>\n",
              "      <td>NaN</td>\n",
              "      <td>Vaccinated</td>\n",
              "      <td>NaN</td>\n",
              "      <td>NaN</td>\n",
              "      <td>NaN</td>\n",
              "      <td>NaN</td>\n",
              "      <td>2019</td>\n",
              "      <td>10</td>\n",
              "      <td>NaN</td>\n",
              "      <td>2019</td>\n",
              "      <td>10</td>\n",
              "      <td>NaN</td>\n",
              "      <td>NaN</td>\n",
              "      <td>900</td>\n",
              "      <td>NaN</td>\n",
              "      <td>NaN</td>\n",
              "      <td>900</td>\n",
              "      <td>NaN</td>\n",
              "      <td>NaN</td>\n",
              "      <td>NaN</td>\n",
              "      <td>100</td>\n",
              "    </tr>\n",
              "    <tr>\n",
              "      <th>350</th>\n",
              "      <td>2019-0383-IND</td>\n",
              "      <td>2019</td>\n",
              "      <td>0383</td>\n",
              "      <td>Natural</td>\n",
              "      <td>Hydrological</td>\n",
              "      <td>Flood</td>\n",
              "      <td>NaN</td>\n",
              "      <td>NaN</td>\n",
              "      <td>NaN</td>\n",
              "      <td>Kill</td>\n",
              "      <td>India</td>\n",
              "      <td>IND</td>\n",
              "      <td>Southern Asia</td>\n",
              "      <td>Asia</td>\n",
              "      <td>West Bengal, Kerala, Odisha, Maharashtra</td>\n",
              "      <td>Monsoon rain</td>\n",
              "      <td>NaN</td>\n",
              "      <td>NaN</td>\n",
              "      <td>NaN</td>\n",
              "      <td>NaN</td>\n",
              "      <td>NaN</td>\n",
              "      <td>NaN</td>\n",
              "      <td>NaN</td>\n",
              "      <td>Km2</td>\n",
              "      <td>NaN</td>\n",
              "      <td>NaN</td>\n",
              "      <td>NaN</td>\n",
              "      <td>NaN</td>\n",
              "      <td>2019</td>\n",
              "      <td>8</td>\n",
              "      <td>12</td>\n",
              "      <td>2019</td>\n",
              "      <td>8</td>\n",
              "      <td>15</td>\n",
              "      <td>32</td>\n",
              "      <td>NaN</td>\n",
              "      <td>17500</td>\n",
              "      <td>NaN</td>\n",
              "      <td>17500</td>\n",
              "      <td>NaN</td>\n",
              "      <td>NaN</td>\n",
              "      <td>NaN</td>\n",
              "      <td>100</td>\n",
              "    </tr>\n",
              "    <tr>\n",
              "      <th>351</th>\n",
              "      <td>2019-0550-IND</td>\n",
              "      <td>2019</td>\n",
              "      <td>0550</td>\n",
              "      <td>Natural</td>\n",
              "      <td>Meteorological</td>\n",
              "      <td>Storm</td>\n",
              "      <td>Tropical cyclone</td>\n",
              "      <td>NaN</td>\n",
              "      <td>Tropical cyclone 'Bulbul'</td>\n",
              "      <td>Kill</td>\n",
              "      <td>India</td>\n",
              "      <td>IND</td>\n",
              "      <td>Southern Asia</td>\n",
              "      <td>Asia</td>\n",
              "      <td>South Assam, Meghalaya, Tripura, Mizoram, West...</td>\n",
              "      <td>NaN</td>\n",
              "      <td>NaN</td>\n",
              "      <td>NaN</td>\n",
              "      <td>NaN</td>\n",
              "      <td>NaN</td>\n",
              "      <td>NaN</td>\n",
              "      <td>NaN</td>\n",
              "      <td>NaN</td>\n",
              "      <td>Kph</td>\n",
              "      <td>NaN</td>\n",
              "      <td>NaN</td>\n",
              "      <td>NaN</td>\n",
              "      <td>NaN</td>\n",
              "      <td>2019</td>\n",
              "      <td>11</td>\n",
              "      <td>9</td>\n",
              "      <td>2019</td>\n",
              "      <td>11</td>\n",
              "      <td>10</td>\n",
              "      <td>12</td>\n",
              "      <td>NaN</td>\n",
              "      <td>130000</td>\n",
              "      <td>NaN</td>\n",
              "      <td>130000</td>\n",
              "      <td>NaN</td>\n",
              "      <td>NaN</td>\n",
              "      <td>NaN</td>\n",
              "      <td>100</td>\n",
              "    </tr>\n",
              "    <tr>\n",
              "      <th>352</th>\n",
              "      <td>2019-0574-IND</td>\n",
              "      <td>2019</td>\n",
              "      <td>0574</td>\n",
              "      <td>Natural</td>\n",
              "      <td>Hydrological</td>\n",
              "      <td>Flood</td>\n",
              "      <td>NaN</td>\n",
              "      <td>NaN</td>\n",
              "      <td>NaN</td>\n",
              "      <td>Kill</td>\n",
              "      <td>India</td>\n",
              "      <td>IND</td>\n",
              "      <td>Southern Asia</td>\n",
              "      <td>Asia</td>\n",
              "      <td>Coimbatore, Cuddalore, Nagapattinam, Thoothukk...</td>\n",
              "      <td>Heavy rains</td>\n",
              "      <td>NaN</td>\n",
              "      <td>NaN</td>\n",
              "      <td>NaN</td>\n",
              "      <td>NaN</td>\n",
              "      <td>NaN</td>\n",
              "      <td>NaN</td>\n",
              "      <td>NaN</td>\n",
              "      <td>Km2</td>\n",
              "      <td>NaN</td>\n",
              "      <td>NaN</td>\n",
              "      <td>NaN</td>\n",
              "      <td>NaN</td>\n",
              "      <td>2019</td>\n",
              "      <td>11</td>\n",
              "      <td>29</td>\n",
              "      <td>2019</td>\n",
              "      <td>12</td>\n",
              "      <td>4</td>\n",
              "      <td>27</td>\n",
              "      <td>NaN</td>\n",
              "      <td>25000</td>\n",
              "      <td>NaN</td>\n",
              "      <td>25000</td>\n",
              "      <td>NaN</td>\n",
              "      <td>NaN</td>\n",
              "      <td>NaN</td>\n",
              "      <td>100</td>\n",
              "    </tr>\n",
              "    <tr>\n",
              "      <th>353</th>\n",
              "      <td>2020-0057-IND</td>\n",
              "      <td>2020</td>\n",
              "      <td>0057</td>\n",
              "      <td>Natural</td>\n",
              "      <td>Meteorological</td>\n",
              "      <td>Storm</td>\n",
              "      <td>Convective storm</td>\n",
              "      <td>Winter storm/Blizzard</td>\n",
              "      <td>NaN</td>\n",
              "      <td>Kill</td>\n",
              "      <td>India</td>\n",
              "      <td>IND</td>\n",
              "      <td>Southern Asia</td>\n",
              "      <td>Asia</td>\n",
              "      <td>Jammu &amp; Kashmir state</td>\n",
              "      <td>NaN</td>\n",
              "      <td>Avalanche (Snow, Debris)</td>\n",
              "      <td>NaN</td>\n",
              "      <td>NaN</td>\n",
              "      <td>NaN</td>\n",
              "      <td>NaN</td>\n",
              "      <td>NaN</td>\n",
              "      <td>NaN</td>\n",
              "      <td>Kph</td>\n",
              "      <td>NaN</td>\n",
              "      <td>NaN</td>\n",
              "      <td>NaN</td>\n",
              "      <td>NaN</td>\n",
              "      <td>2020</td>\n",
              "      <td>1</td>\n",
              "      <td>11</td>\n",
              "      <td>2020</td>\n",
              "      <td>1</td>\n",
              "      <td>14</td>\n",
              "      <td>11</td>\n",
              "      <td>NaN</td>\n",
              "      <td>NaN</td>\n",
              "      <td>NaN</td>\n",
              "      <td>NaN</td>\n",
              "      <td>NaN</td>\n",
              "      <td>NaN</td>\n",
              "      <td>NaN</td>\n",
              "      <td>NaN</td>\n",
              "    </tr>\n",
              "  </tbody>\n",
              "</table>\n",
              "<p>349 rows × 43 columns</p>\n",
              "</div>"
            ],
            "text/plain": [
              "           Source:  ... Unnamed: 42\n",
              "5           Dis No  ...         CPI\n",
              "6    2000-9222-IND  ...     67.3558\n",
              "7    2000-0332-IND  ...     67.3558\n",
              "8    2000-0444-IND  ...     67.3558\n",
              "9    2000-0534-IND  ...     67.3558\n",
              "..             ...  ...         ...\n",
              "349  2019-0480-IND  ...         100\n",
              "350  2019-0383-IND  ...         100\n",
              "351  2019-0550-IND  ...         100\n",
              "352  2019-0574-IND  ...         100\n",
              "353  2020-0057-IND  ...         NaN\n",
              "\n",
              "[349 rows x 43 columns]"
            ]
          },
          "metadata": {
            "tags": []
          },
          "execution_count": 26
        }
      ]
    },
    {
      "cell_type": "code",
      "metadata": {
        "id": "mKYQe50Iz1Nu",
        "colab": {
          "base_uri": "https://localhost:8080/"
        },
        "outputId": "79f00810-e286-48ef-a1f6-5c5f215ff6fb"
      },
      "source": [
        "header_row = 0\n",
        "disaster.columns = disaster.iloc[header_row]\n",
        "disaster.reset_index()\n",
        "disaster = disaster[1:][:]\n",
        "disaster.head()"
      ],
      "execution_count": null,
      "outputs": [
        {
          "output_type": "execute_result",
          "data": {
            "text/html": [
              "<div>\n",
              "<style scoped>\n",
              "    .dataframe tbody tr th:only-of-type {\n",
              "        vertical-align: middle;\n",
              "    }\n",
              "\n",
              "    .dataframe tbody tr th {\n",
              "        vertical-align: top;\n",
              "    }\n",
              "\n",
              "    .dataframe thead th {\n",
              "        text-align: right;\n",
              "    }\n",
              "</style>\n",
              "<table border=\"1\" class=\"dataframe\">\n",
              "  <thead>\n",
              "    <tr style=\"text-align: right;\">\n",
              "      <th>5</th>\n",
              "      <th>Dis No</th>\n",
              "      <th>Year</th>\n",
              "      <th>Seq</th>\n",
              "      <th>Disaster Group</th>\n",
              "      <th>Disaster Subgroup</th>\n",
              "      <th>Disaster Type</th>\n",
              "      <th>Disaster Subtype</th>\n",
              "      <th>Disaster Subsubtype</th>\n",
              "      <th>Event Name</th>\n",
              "      <th>Entry Criteria</th>\n",
              "      <th>Country</th>\n",
              "      <th>ISO</th>\n",
              "      <th>Region</th>\n",
              "      <th>Continent</th>\n",
              "      <th>Location</th>\n",
              "      <th>Origin</th>\n",
              "      <th>Associated Dis</th>\n",
              "      <th>Associated Dis2</th>\n",
              "      <th>OFDA Response</th>\n",
              "      <th>Appeal</th>\n",
              "      <th>Declaration</th>\n",
              "      <th>Aid Contribution</th>\n",
              "      <th>Dis Mag Value</th>\n",
              "      <th>Dis Mag Scale</th>\n",
              "      <th>Latitude</th>\n",
              "      <th>Longitude</th>\n",
              "      <th>Local Time</th>\n",
              "      <th>River Basin</th>\n",
              "      <th>Start Year</th>\n",
              "      <th>Start Month</th>\n",
              "      <th>Start Day</th>\n",
              "      <th>End Year</th>\n",
              "      <th>End Month</th>\n",
              "      <th>End Day</th>\n",
              "      <th>Total Deaths</th>\n",
              "      <th>No Injured</th>\n",
              "      <th>No Affected</th>\n",
              "      <th>No Homeless</th>\n",
              "      <th>Total Affected</th>\n",
              "      <th>Reconstruction Costs ('000 US$)</th>\n",
              "      <th>Insured Damages ('000 US$)</th>\n",
              "      <th>Total Damages ('000 US$)</th>\n",
              "      <th>CPI</th>\n",
              "    </tr>\n",
              "  </thead>\n",
              "  <tbody>\n",
              "    <tr>\n",
              "      <th>6</th>\n",
              "      <td>2000-9222-IND</td>\n",
              "      <td>2000</td>\n",
              "      <td>9222</td>\n",
              "      <td>Natural</td>\n",
              "      <td>Climatological</td>\n",
              "      <td>Drought</td>\n",
              "      <td>Drought</td>\n",
              "      <td>NaN</td>\n",
              "      <td>NaN</td>\n",
              "      <td>Affected</td>\n",
              "      <td>India</td>\n",
              "      <td>IND</td>\n",
              "      <td>Southern Asia</td>\n",
              "      <td>Asia</td>\n",
              "      <td>New Delhi city (Delhi province), Gujarat, Raja...</td>\n",
              "      <td>NaN</td>\n",
              "      <td>Heat wave</td>\n",
              "      <td>Food shortage</td>\n",
              "      <td>NaN</td>\n",
              "      <td>NaN</td>\n",
              "      <td>Yes</td>\n",
              "      <td>2247</td>\n",
              "      <td>NaN</td>\n",
              "      <td>Km2</td>\n",
              "      <td>NaN</td>\n",
              "      <td>NaN</td>\n",
              "      <td>NaN</td>\n",
              "      <td>NaN</td>\n",
              "      <td>2000</td>\n",
              "      <td>4</td>\n",
              "      <td>NaN</td>\n",
              "      <td>2001</td>\n",
              "      <td>NaN</td>\n",
              "      <td>NaN</td>\n",
              "      <td>20</td>\n",
              "      <td>NaN</td>\n",
              "      <td>50000000</td>\n",
              "      <td>NaN</td>\n",
              "      <td>50000000</td>\n",
              "      <td>NaN</td>\n",
              "      <td>NaN</td>\n",
              "      <td>588000</td>\n",
              "      <td>67.3558</td>\n",
              "    </tr>\n",
              "    <tr>\n",
              "      <th>7</th>\n",
              "      <td>2000-0332-IND</td>\n",
              "      <td>2000</td>\n",
              "      <td>0332</td>\n",
              "      <td>Natural</td>\n",
              "      <td>Hydrological</td>\n",
              "      <td>Flood</td>\n",
              "      <td>Flash flood</td>\n",
              "      <td>NaN</td>\n",
              "      <td>NaN</td>\n",
              "      <td>Kill</td>\n",
              "      <td>India</td>\n",
              "      <td>IND</td>\n",
              "      <td>Southern Asia</td>\n",
              "      <td>Asia</td>\n",
              "      <td>Yingkiang,Tuting villages (Upper Siang (70051)...</td>\n",
              "      <td>NaN</td>\n",
              "      <td>Broken Dam/Burst bank</td>\n",
              "      <td>NaN</td>\n",
              "      <td>NaN</td>\n",
              "      <td>NaN</td>\n",
              "      <td>NaN</td>\n",
              "      <td>NaN</td>\n",
              "      <td>55000</td>\n",
              "      <td>Km2</td>\n",
              "      <td>NaN</td>\n",
              "      <td>NaN</td>\n",
              "      <td>NaN</td>\n",
              "      <td>NaN</td>\n",
              "      <td>2000</td>\n",
              "      <td>6</td>\n",
              "      <td>10</td>\n",
              "      <td>2000</td>\n",
              "      <td>6</td>\n",
              "      <td>10</td>\n",
              "      <td>20</td>\n",
              "      <td>NaN</td>\n",
              "      <td>3000000</td>\n",
              "      <td>NaN</td>\n",
              "      <td>3000000</td>\n",
              "      <td>NaN</td>\n",
              "      <td>NaN</td>\n",
              "      <td>NaN</td>\n",
              "      <td>67.3558</td>\n",
              "    </tr>\n",
              "    <tr>\n",
              "      <th>8</th>\n",
              "      <td>2000-0444-IND</td>\n",
              "      <td>2000</td>\n",
              "      <td>0444</td>\n",
              "      <td>Natural</td>\n",
              "      <td>Hydrological</td>\n",
              "      <td>Flood</td>\n",
              "      <td>Flash flood</td>\n",
              "      <td>NaN</td>\n",
              "      <td>NaN</td>\n",
              "      <td>Kill</td>\n",
              "      <td>India</td>\n",
              "      <td>IND</td>\n",
              "      <td>Southern Asia</td>\n",
              "      <td>Asia</td>\n",
              "      <td>East Siang, 70041, West Siang, 70054, Upper Si...</td>\n",
              "      <td>NaN</td>\n",
              "      <td>NaN</td>\n",
              "      <td>NaN</td>\n",
              "      <td>NaN</td>\n",
              "      <td>NaN</td>\n",
              "      <td>NaN</td>\n",
              "      <td>NaN</td>\n",
              "      <td>NaN</td>\n",
              "      <td>Km2</td>\n",
              "      <td>NaN</td>\n",
              "      <td>NaN</td>\n",
              "      <td>NaN</td>\n",
              "      <td>NaN</td>\n",
              "      <td>2000</td>\n",
              "      <td>7</td>\n",
              "      <td>NaN</td>\n",
              "      <td>2000</td>\n",
              "      <td>7</td>\n",
              "      <td>NaN</td>\n",
              "      <td>130</td>\n",
              "      <td>NaN</td>\n",
              "      <td>NaN</td>\n",
              "      <td>NaN</td>\n",
              "      <td>NaN</td>\n",
              "      <td>NaN</td>\n",
              "      <td>NaN</td>\n",
              "      <td>NaN</td>\n",
              "      <td>67.3558</td>\n",
              "    </tr>\n",
              "    <tr>\n",
              "      <th>9</th>\n",
              "      <td>2000-0534-IND</td>\n",
              "      <td>2000</td>\n",
              "      <td>0534</td>\n",
              "      <td>Natural</td>\n",
              "      <td>Hydrological</td>\n",
              "      <td>Flood</td>\n",
              "      <td>Flash flood</td>\n",
              "      <td>NaN</td>\n",
              "      <td>NaN</td>\n",
              "      <td>Kill</td>\n",
              "      <td>India</td>\n",
              "      <td>IND</td>\n",
              "      <td>Southern Asia</td>\n",
              "      <td>Asia</td>\n",
              "      <td>Adilabad, Cuddapah, East Godavari, Guntur, Hyd...</td>\n",
              "      <td>Brief torrential rain</td>\n",
              "      <td>NaN</td>\n",
              "      <td>NaN</td>\n",
              "      <td>NaN</td>\n",
              "      <td>NaN</td>\n",
              "      <td>NaN</td>\n",
              "      <td>NaN</td>\n",
              "      <td>129500</td>\n",
              "      <td>Km2</td>\n",
              "      <td>NaN</td>\n",
              "      <td>NaN</td>\n",
              "      <td>NaN</td>\n",
              "      <td>Godavari</td>\n",
              "      <td>2000</td>\n",
              "      <td>8</td>\n",
              "      <td>23</td>\n",
              "      <td>2000</td>\n",
              "      <td>8</td>\n",
              "      <td>31</td>\n",
              "      <td>179</td>\n",
              "      <td>16</td>\n",
              "      <td>NaN</td>\n",
              "      <td>252000</td>\n",
              "      <td>252016</td>\n",
              "      <td>NaN</td>\n",
              "      <td>NaN</td>\n",
              "      <td>173000</td>\n",
              "      <td>67.3558</td>\n",
              "    </tr>\n",
              "    <tr>\n",
              "      <th>10</th>\n",
              "      <td>2000-0445-IND</td>\n",
              "      <td>2000</td>\n",
              "      <td>0445</td>\n",
              "      <td>Natural</td>\n",
              "      <td>Hydrological</td>\n",
              "      <td>Flood</td>\n",
              "      <td>Riverine flood</td>\n",
              "      <td>NaN</td>\n",
              "      <td>NaN</td>\n",
              "      <td>Kill</td>\n",
              "      <td>India</td>\n",
              "      <td>IND</td>\n",
              "      <td>Southern Asia</td>\n",
              "      <td>Asia</td>\n",
              "      <td>Katihar, Sitamarhi districts (Bihar province),...</td>\n",
              "      <td>Monsoonal rain</td>\n",
              "      <td>NaN</td>\n",
              "      <td>NaN</td>\n",
              "      <td>Yes</td>\n",
              "      <td>NaN</td>\n",
              "      <td>NaN</td>\n",
              "      <td>7087</td>\n",
              "      <td>300000</td>\n",
              "      <td>Km2</td>\n",
              "      <td>NaN</td>\n",
              "      <td>NaN</td>\n",
              "      <td>NaN</td>\n",
              "      <td>Brahmaputra and its tributaries, Bagmati, Kosi...</td>\n",
              "      <td>2000</td>\n",
              "      <td>8</td>\n",
              "      <td>2</td>\n",
              "      <td>2000</td>\n",
              "      <td>8</td>\n",
              "      <td>30</td>\n",
              "      <td>867</td>\n",
              "      <td>NaN</td>\n",
              "      <td>22000000</td>\n",
              "      <td>NaN</td>\n",
              "      <td>22000000</td>\n",
              "      <td>NaN</td>\n",
              "      <td>NaN</td>\n",
              "      <td>43000</td>\n",
              "      <td>67.3558</td>\n",
              "    </tr>\n",
              "  </tbody>\n",
              "</table>\n",
              "</div>"
            ],
            "text/plain": [
              "5          Dis No  Year  ... Total Damages ('000 US$)      CPI\n",
              "6   2000-9222-IND  2000  ...                   588000  67.3558\n",
              "7   2000-0332-IND  2000  ...                      NaN  67.3558\n",
              "8   2000-0444-IND  2000  ...                      NaN  67.3558\n",
              "9   2000-0534-IND  2000  ...                   173000  67.3558\n",
              "10  2000-0445-IND  2000  ...                    43000  67.3558\n",
              "\n",
              "[5 rows x 43 columns]"
            ]
          },
          "metadata": {
            "tags": []
          },
          "execution_count": 27
        }
      ]
    },
    {
      "cell_type": "code",
      "metadata": {
        "id": "dBsFW38t04t8",
        "colab": {
          "base_uri": "https://localhost:8080/"
        },
        "outputId": "53da3e79-08a8-4314-acf6-10c787d55f17"
      },
      "source": [
        "disaster.columns"
      ],
      "execution_count": null,
      "outputs": [
        {
          "output_type": "execute_result",
          "data": {
            "text/plain": [
              "Index(['Dis No', 'Year', 'Seq', 'Disaster Group', 'Disaster Subgroup',\n",
              "       'Disaster Type', 'Disaster Subtype', 'Disaster Subsubtype',\n",
              "       'Event Name', 'Entry Criteria', 'Country', 'ISO', 'Region', 'Continent',\n",
              "       'Location', 'Origin', 'Associated Dis', 'Associated Dis2',\n",
              "       'OFDA Response', 'Appeal', 'Declaration', 'Aid Contribution',\n",
              "       'Dis Mag Value', 'Dis Mag Scale', 'Latitude', 'Longitude', 'Local Time',\n",
              "       'River Basin', 'Start Year', 'Start Month', 'Start Day', 'End Year',\n",
              "       'End Month', 'End Day', 'Total Deaths', 'No Injured', 'No Affected',\n",
              "       'No Homeless', 'Total Affected', 'Reconstruction Costs ('000 US$)',\n",
              "       'Insured Damages ('000 US$)', 'Total Damages ('000 US$)', 'CPI'],\n",
              "      dtype='object', name=5)"
            ]
          },
          "metadata": {
            "tags": []
          },
          "execution_count": 28
        }
      ]
    },
    {
      "cell_type": "code",
      "metadata": {
        "id": "J5fTDztRm7xa"
      },
      "source": [
        "disaster = disaster.drop(disaster[['Dis No', 'Seq', 'Disaster Group', 'Disaster Subgroup',\n",
        "       'Disaster Type', 'Disaster Subtype', 'Disaster Subsubtype',\n",
        "       'Event Name', 'Entry Criteria', 'Country', 'ISO', 'OFDA Response', 'Appeal', 'Declaration', 'Aid Contribution',\n",
        "       'Dis Mag Value', 'Dis Mag Scale', 'Latitude', 'Longitude', 'Local Time',\n",
        "       'River Basin', 'Start Year', 'Start Month', 'Start Day', 'End Year',\n",
        "       'End Month', 'End Day', 'Total Deaths', 'No Injured', 'No Affected',\n",
        "       'No Homeless', 'Total Affected', 'Reconstruction Costs (\\'000 US$)',\n",
        "       'Insured Damages (\\'000 US$)', 'Total Damages (\\'000 US$)', 'CPI' ]], axis=1)"
      ],
      "execution_count": null,
      "outputs": []
    },
    {
      "cell_type": "code",
      "metadata": {
        "id": "EUTf56U0oUb5"
      },
      "source": [
        "disaster = disaster.drop(disaster[['Region', 'Continent', 'Associated Dis', 'Associated Dis2', 'Origin']], axis=1)\n"
      ],
      "execution_count": null,
      "outputs": []
    },
    {
      "cell_type": "code",
      "metadata": {
        "id": "mzmciB4aorCQ",
        "colab": {
          "base_uri": "https://localhost:8080/"
        },
        "outputId": "2614cb65-1f0a-4cdd-de45-736a5094e5d8"
      },
      "source": [
        "disaster.head()"
      ],
      "execution_count": null,
      "outputs": [
        {
          "output_type": "execute_result",
          "data": {
            "text/html": [
              "<div>\n",
              "<style scoped>\n",
              "    .dataframe tbody tr th:only-of-type {\n",
              "        vertical-align: middle;\n",
              "    }\n",
              "\n",
              "    .dataframe tbody tr th {\n",
              "        vertical-align: top;\n",
              "    }\n",
              "\n",
              "    .dataframe thead th {\n",
              "        text-align: right;\n",
              "    }\n",
              "</style>\n",
              "<table border=\"1\" class=\"dataframe\">\n",
              "  <thead>\n",
              "    <tr style=\"text-align: right;\">\n",
              "      <th>5</th>\n",
              "      <th>Year</th>\n",
              "      <th>Location</th>\n",
              "    </tr>\n",
              "  </thead>\n",
              "  <tbody>\n",
              "    <tr>\n",
              "      <th>6</th>\n",
              "      <td>2000</td>\n",
              "      <td>New Delhi city (Delhi province), Gujarat, Raja...</td>\n",
              "    </tr>\n",
              "    <tr>\n",
              "      <th>7</th>\n",
              "      <td>2000</td>\n",
              "      <td>Yingkiang,Tuting villages (Upper Siang (70051)...</td>\n",
              "    </tr>\n",
              "    <tr>\n",
              "      <th>8</th>\n",
              "      <td>2000</td>\n",
              "      <td>East Siang, 70041, West Siang, 70054, Upper Si...</td>\n",
              "    </tr>\n",
              "    <tr>\n",
              "      <th>9</th>\n",
              "      <td>2000</td>\n",
              "      <td>Adilabad, Cuddapah, East Godavari, Guntur, Hyd...</td>\n",
              "    </tr>\n",
              "    <tr>\n",
              "      <th>10</th>\n",
              "      <td>2000</td>\n",
              "      <td>Katihar, Sitamarhi districts (Bihar province),...</td>\n",
              "    </tr>\n",
              "  </tbody>\n",
              "</table>\n",
              "</div>"
            ],
            "text/plain": [
              "5   Year                                           Location\n",
              "6   2000  New Delhi city (Delhi province), Gujarat, Raja...\n",
              "7   2000  Yingkiang,Tuting villages (Upper Siang (70051)...\n",
              "8   2000  East Siang, 70041, West Siang, 70054, Upper Si...\n",
              "9   2000  Adilabad, Cuddapah, East Godavari, Guntur, Hyd...\n",
              "10  2000  Katihar, Sitamarhi districts (Bihar province),..."
            ]
          },
          "metadata": {
            "tags": []
          },
          "execution_count": 31
        }
      ]
    },
    {
      "cell_type": "code",
      "metadata": {
        "id": "GuGhmQajpEMt",
        "colab": {
          "base_uri": "https://localhost:8080/"
        },
        "outputId": "cad76fc6-0ff0-4b12-8a3c-6ad7029a6238"
      },
      "source": [
        "disaster['Location'].values"
      ],
      "execution_count": null,
      "outputs": [
        {
          "output_type": "execute_result",
          "data": {
            "text/plain": [
              "array(['New Delhi city (Delhi province), Gujarat, Rajasthan, Madhya Prasdesh, Andhra Pradesh, Orissa, Maharashtra provinces',\n",
              "       'Yingkiang,Tuting villages (Upper Siang (70051) district, Arunachal Pradesh province), Along, Boleng villages (70054 district, Arunachal Pradesh province), Pasighat, Sika-bamin, Komlighat, Raneghat (70041 district, Arunachal Pradesh province), Tezu, Mahadevpur villages (Lohit district, Arunachal Pradesh province), Golaghat, Nagaon districts (Assam province),',\n",
              "       'East Siang, 70041, West Siang, 70054, Upper Siang (70051), 70045, 70050, Lower Dibang Valley districts (Arunachal Pradesh province)',\n",
              "       'Adilabad, Cuddapah, East Godavari, Guntur, Hyderabad, Karimnagar, Khammam, Krishna, Kurnool, Mahbubnagar, Medak, Nalgonda, Nellore, Nizamabad, Prakasam, Rangareddi, Vishakhapatnam, Warangal, West Godavari districts (Andhra Pradesh province)',\n",
              "       'Katihar, Sitamarhi districts (Bihar province), Kinnaur district (Himachal Pradesh province), Bankura, Barddhaman, Birbhum, Haora, Hugli, Maldah, Murshidabad, Nadia, North 24 Parganas, West Midnapore districts (West Bengal province), Pithoragarh, Naini Tal districts (Uttarakhand province), Ahmadabad district (Gujarat province), Andhra Pradesh, Assam, Arunachal Pradesh, Madhya Pradesh, Punjab, Uttar Pradesh, Maharashtra, Rajasthan, Chandigarh, Kerala',\n",
              "       'Birbhum, Bardhaman, Murshidabad, Maldah districts (West Bengal province), Dumka, Sahibganj, Deoghar districts (Jharkhand province), Banka, Bhagalpur, Munger, Sheikhpura districts (Bihar province)',\n",
              "       'Moradabad, Bijnor districts (Uttar Pradesh province), Uttarakhand province',\n",
              "       'Ghatkopar village (Mumbai Suburban district, Maharashtra province)',\n",
              "       'Pithoragarh, Naini Tal districts (Uttarakhand province)',\n",
              "       'Andhra Pradesh province',\n",
              "       'Nagappattinam, Thanjavur, Sirkali, Papanasam, Tiruvallur, Tiruvarur areas (Cuddalore district, Tamil Nadu province), Andhra Pradesh province',\n",
              "       'Bihar, Uttar Pradesh, West Bengal provinces', 'Delhi',\n",
              "       'Mumbai, Thane districts',\n",
              "       'Gonda, Banda districts (Uttar Pradesh)', 'Uttar Pradesh',\n",
              "       'Andhra Pradesh state', 'Supaul district (Bihar)',\n",
              "       'Nawadah district (Bihar)', 'West Bengal',\n",
              "       'North 24 Parganas district (West Bengal province)',\n",
              "       'Ahmadabad, Amreli, Anand, Banas Kantha, Bharuch, Bhavnagar, Dahdod, Gandhinagar, Jamnagar, Junagadh, Kachchh, Kheda, Mahesana, Navsari, Patan, Porbandar, Rajkot, Sabar Kantha, Surat, Surendranagar, Vadodara districts (Gurajat province)',\n",
              "       'Uttar Pradesh, Bihar, Punjab provinces', 'Siliguri (West Bengal)',\n",
              "       'Uttar Pradesh province',\n",
              "       'Saran, Gopalganj, Purba Champaran, Madhubani districts (Bihar province), Uttar Pradesh province',\n",
              "       'Silchar city (Cachar district, Assam province), Patharkandi village (Karimganj district, Assam province), West Tripura district (Tripura province)',\n",
              "       'Marshagal, Mahakalpada villages (Kendrapara district, Orissa province), Kakatpur, Astaranga, Kanas, Delanga villages (Puri district, Orissa province), Banki, Kantapada villages (Cuttack district, Orissa province), Balipatna villages (Khordha district, Orissa province), Atharmalik villages (Angul district, Orissa province), Jajpur, Jagatsinghpur, Kalahandi, Koraput, Bolangir, Nayagarh, Baleshwar, Bhadrak districts (Orissa province), Dhamtari, Raipur, Mahasamund, Janjgir-Champa, Raigarh districts (Chhattisgarh province)',\n",
              "       'Idukki, Kottayam, Pattanamtitta, Kollam, Alappuzha districts (Kerala province)',\n",
              "       'Aurangabad, Bhojpur, Gopalganj, Jehanabad, Muzaffarpur, Nalanda, Pashchim Champaran, Patna, Purba Champaran, Rohtas, Saran, Sitamarhi, Siwan, Vaishali districts (Bihar province)',\n",
              "       'Rudra Prayag district (Uttarakhand province)',\n",
              "       'Chamba district (Himachal Pradesh province)',\n",
              "       'Amboori village (Thiruvananthapuram district, Kerala province)',\n",
              "       'Andhra Pradesh province',\n",
              "       'Gujarat, Goa, Maharashtra, Kerala provinces',\n",
              "       'Uttar Pradesh, Rajasthan provinces', 'Mumbai, Thane',\n",
              "       'Orissa State', 'Orissa state',\n",
              "       'Hosdurg borough (Kanhangad city, Kasaragod district, Kerala province), Vertak Nagar area (Thane district, Maharashtra province), Bhandup area (Mumbai Suburban district, Maharashtra province)',\n",
              "       'Delhi province',\n",
              "       'Gopalganj, Purba Champaran, Pashchim Champaran, Muzaffarpur, Vaishali, Saran districts (Bihar province)',\n",
              "       'Saran, Gopalganj districts (Bihar province)',\n",
              "       'Andaman Islands district (Andaman and Nicobar province)',\n",
              "       'Orissa province',\n",
              "       'Gobalpur area (Hugli district, West Bengal), Kolkata, Jalpaiguri, Darjiling districts (West Bengal province)',\n",
              "       'Barpeta, Bongaigaon, Cachar, Darrang, Dhemaji, Dhuburi, Dibrugarh, Goalpara, Golaghat, Jorhat, Kamrup, Karimganj, Kokrajhar, Lakhimpur, Marigaon, Nagaon, Nalbari, Sibsagar, Sonitpur, Tinsukia districts (Assam province), Araria, Begusarai, Bhagalpur, Darbhanga, Gopalganj, Katihar, Khagaria, Kishanganj, Madhepura, Madhubani, Muzaffarpur, Nalanda, Pashchim Champaran, Patna, Pruba Champaran, Purnia, Saharsa, Samastipur, Saran, Sheikhpura, Sheohar, Sitamarhi, Siwan, Supaul districts (Bihar province), Lahul and Spiti district (Himachal Pradesh province), Balaghat district (Madhya Pradesh province), Tehri Garhwal district (Uttarakhand province), Adilabad, Khammam, Karimnagar districts (Andhra Pradesh province), Jalpaiguri, Kochbihar, Darjiling districts (West Bengal province), Meghalaya, Tripura, Arunachal Pradesh, Gujarat, Kerala, Manipur, Maharashrta provinces',\n",
              "       'Tehri Garhwal district (Uttaranchal province), Bihar, Assam, Manipur provinces',\n",
              "       'Balaghat district (Madhya Pradesh province)',\n",
              "       'Bharuch district (Gujarat province), Jalgaon, Nasik districts (Maharashtra province)',\n",
              "       'Kannur, Kasaragod, Kozhikode, Malappuram, Thiruvananthapuram districts (Kerala province)',\n",
              "       'West Bengal province',\n",
              "       'Baleshwar, Bhadrak, Jagatsinghpur, Kendrapara districts (Orissa province), East Midnapore, North 24 Parganas, South 24 Parganas (West Bengal province)',\n",
              "       'Bihar, Uttar Pradesh, Himachal Pradesh, Rajasthan, Jharkhand, Jammu and Kashmir, Punjab, Haryana, Delhi provinces',\n",
              "       'Madhya Pradesh, Andhra Pradesh, Uttar Pradesh, Delhi, Rajasthan, Punjab, Haryana, Orissa, West Bengal provinces',\n",
              "       'Assam', 'Mandi district', 'Assam', nan,\n",
              "       'Uttar Pradesh, Madhya Pradesh, Rajasthan, Punjab, Haryana, Delhi, Karnataka, Kerala, Nagaland, Orissa, Chhattisgarh, Himachal Pradesh, Gujarat, Maharashtra, Andhra Pradesh, Tamil Nadu provinces',\n",
              "       'Chennai, Coimbatore, Cuddalore districts (Tamil Nadu province',\n",
              "       'Saharanpur (Uttar Pradesh)',\n",
              "       'Jammu and Kashmir (40424 to 40431), Punjab, Haryana provinces',\n",
              "       'Gujarat province', 'Betul district (Madhya Pradesh province)',\n",
              "       'Solang village (Kullu district, Himachal Pradesh)',\n",
              "       'Bankura, Hugli, Haora districts (West Bengal province)',\n",
              "       'Kullu district (Himachal Pradesh province)',\n",
              "       'Kancheepuram, Villupuram, Nagapattinam, Thoothukudi, Tirunelveli Kattabo, Kanniyakumari, Chennai, Thiruvallur, Cuddalore, Pudukkottai, Ramanathapuram, Sivaganga, Thanjavur districts (Tamil Nadu province), Vishakhapatnam, East Godavari, West Godavari, Krishna, Guntur, Prakasam, Nellore districts (Andhra Pradesh province), Kollam, Alappuzha, Ernakulam districts (Kerala province), Puducherry, Karaikal district (Puducherry province), Andaman and Nicobar province',\n",
              "       'Uttar Pradesh, Himachal Pradesh provinces',\n",
              "       'Krishna, Guntur, West Godavari districts (Andhra Pradesh province)',\n",
              "       'Chirakhawa, Chirakhawa Topopara, Peepulbari part 1, Peepulbari part 2, Bhurakata, Baliabeel, Bengerbhita, Baushkata areas (Dhuburi district, Assam province)',\n",
              "       'Andhra Pradesh, Orissa, Tamil Nadu, Vidarbha (=part of Maharashtra), Chhattisgarh, Jharkland, Uttar Pradesh, Rajasthan, Madhya Pradesh, Bihar provinces',\n",
              "       'Assam, Bihar, Tripura, West Bengal provinces',\n",
              "       'Khavda, Banni, Natkharana, Lakhpat villages (Kachchh district, Gujarat province)',\n",
              "       'Cuttack, Jagatsinghpur, Kendrapara, Jajpur, Puri, Bolangir, Sonepur, Kalahandi, Rayagada, Gajapati, Baragarh, Koraput, Nayagarh, Ganjam, Angul districts (Orissa province)',\n",
              "       'Uttar Pradesh province',\n",
              "       'Administrative unit not available district (Jammu and Kashmir province)',\n",
              "       'Mekhliganj, Haldibari, Fukaldabri, Nijtaraf, Kasiabari, Bholarhat, Beltali areas (Kochbihar district, West Bengal province)',\n",
              "       'Uttar Pradesh, Himachal Pradesh, Haryana, Jammu and Kashmir provinces',\n",
              "       'Delhi',\n",
              "       'Goalpara district (Assam province), Meghalaya, Arunachal Pradesh, West Bengal provinces',\n",
              "       'Wayanad, Kozhikode, Kannur, Kasaragod districts (Kerala province)',\n",
              "       'Leimapokpam, Thiyam, Lourembam, Nambol Laitonjam villages (Bishnupur district, Manipur province), Na-Orem, Pukhrambam, Sanjenbam villages (West Imphal district, Manipur province), Oinam, Khangabok villages (Thoubal district, Manipur province)',\n",
              "       'Darbhanga, Madhubani, Sitamarhi, Banka, Bhagalpur, Muzaffarpur, Sheohar districts (Bihar province), West Tripura, South Tripura districts (Tripura province), Kamrup, Nalbari, Darrang, Sonitpur, Dhemaji, Lakhimpur districts (Assam province), Gujarat, Jammu and Kashmir provinces',\n",
              "       'Uttarakhand, Gujarat, Maharashtra, Punjab, Haryana, Rajasthan provinces',\n",
              "       'Barddhaman, North 24 Parganas, South 24 Parganas districts (West Bengal province)',\n",
              "       'Administrative unit not available districts (Jammu and Kashmir province)',\n",
              "       'Gujarat, Madhya Pradesh, Maharashtra, Goa, Orissa, Karnataka, Himachal Pradesh, Jammu and Kashmir provinces',\n",
              "       'Administrative unit not available districts (Jammu and Kashmir province)',\n",
              "       'Azamgarh district (Uttar Pradesh province)',\n",
              "       'Mokokchung district (Nagaland province)',\n",
              "       'Yingkiong village (Upper Siang (70051) district, Arunachal Pradesh province), Seppa village (East Kameng (70040) district, Arunachal Pradesh province), Anini village (70050 district, Arunachal Pradesh province), Dibrugarh, Sonitpur, Sibsagar, Dhemaji, Tinsukia, Karimganj, Lakhimpur, Jorhat, Morigaon, Dhuburi, Goalpara, Barpeta districts (Assam province), Bahraich, Shravasti, Banda, Ballia, Lakhimpur Kheri, Kanpur, Varanasi, Mainpuri districts (Uttar Pradesh province), Haridwar, Uttarkashi, Naini Tal, Dehran Dun districts (Uttarakhand province), Muzaffarpur, Darbhanga, Madhubani districts (Bihar province), Birbhum district (West Bengal province)',\n",
              "       'Himachal Pradesh, Uttar Pradesh, Uttarakhand provinces',\n",
              "       'Digras, Nandgavan villages (Yavatmal district, Maharashtra province)',\n",
              "       'Sangla, Kalpa, Yangthang, Sumdo, Khab, Karcham, Leo, Akpa, Kharo villages (Kinnaur district, Himachal Pradesh province), Rampur Bushahr village (Shimla district, Himachal Pradesh province), Kullu, Bilaspur, Mandi districts (Himachal Pradesh)',\n",
              "       'Karnataka, Andhra Pradesh provinces',\n",
              "       'Raj Nandgaon, Durg districts (Chhattisgarh province), Baleshwar, Bhadrak, Jajpur districts (Orissa province), Bhandara, Gondiya, Nagpur districts (Maharashtra province), Balaghat, Katni, Jabalpur, Seoni districts (Madhya Pradesh province)',\n",
              "       'Surat, Vadodara, Bhavnagar, Panch Mahals, Narmada districts (Gujarat province)',\n",
              "       'Surat, Valsad, Navsari, Bharuch, Vadodara, Surendranagar, The Dangs, Ahmedabad, Anand, Kheda, Amreli, Bhavnagar, Junagadh, Rajkot, Narmada, Jamnagar, Gandhinagar, Sabarkantha districts (Gujarat province)',\n",
              "       'Ashoknagar, Chhatarpur, Damoh, Jabalpur, Katni, Narsinghpur, Panna, Rewa, Sagar, Satna districts (Madhya Pradesh province)',\n",
              "       'Adilabad, Hyderabad, Karimnagar, Khammam, Mahbubnagar, Medak, Nalgonda, Nizamabad, Rangareddi, Warangal, East Godavari, Guntur, Krishna, Nellore, Prakasam, Srikakulam, Vishakhapatnam, Vizianagaram, West Godavari districts (Andhra Pradesh province)',\n",
              "       'East Midnapore, South 24 Parganas, Barddhaman, Nadia districts (West Bengal province), Baleshwar district (Orissa province)',\n",
              "       'Salem, Namakkal, Karur, Erode, Tiruchchirappalli, Vellore, Perambalur, Nagapattinam, Kanniyakumari, Dharmapuri, Madurai, Villupuram, Chennai, Cuddalore districts (Tamil Nadu province), Karaikal district (Puducherry province), Bangalore Rural, Bangalore Urban, Mysore districts (Karnataka province), Nellore, Chittoor, Vishakhapatnam, Srikakulam, Vizianagaram, Cuddapah districts (Andhra Pradesh province), West Bengal, Orissa provinces',\n",
              "       'Tamil Nadu province',\n",
              "       'Himachal Pradesh, Punjab, Jammu and Kashmir, Haryana provinces',\n",
              "       'Guwahati city (Kamrup district, Assam province)',\n",
              "       'Uttar Pradesh, Bihar, West Bengal, Orissa, Maharashtra, Andhra Pradesh provinces',\n",
              "       'Uttar Pradesh, Punjab, Haryana, Himachal Pradesh, Delhi, Bihar, Rajasthan, Jammu and Kashmir provinces',\n",
              "       'Delhi, Haryana, Chandigarh, Uttar Pradesh, Uttaranchal',\n",
              "       'Maharashtra state', 'Uttar Pradesh, Bihar',\n",
              "       'Uttar Pradesh and Bihar states',\n",
              "       'Andhra Prasdesh, Maharashtra, Karnataka states',\n",
              "       'Guntur, Krishna, Srikakulam, Karimnagar, Nalgonda districts (Andhra Pradesh province)',\n",
              "       'Kolkata district (West Bengal province)',\n",
              "       'Andhra Pradesh, Orissa provinces', 'Jammu and Kashmir provinces',\n",
              "       'Gajapati, Rayagada districts (Orissa province)',\n",
              "       'Andhra Pradesh, Gujarat, Maharashtra, Chhattisgarh, Rajasthan, Madhya Pradesh, Orissa, Karnataka provinces',\n",
              "       'Uttar Pradesh, Gujarat provinces',\n",
              "       'Andhra Pradesh, West Bengal, Bihar provinces',\n",
              "       'Adilabad, Hyderabad, Karimnagar, Khammam, Mahbubnagar, Medak, Nalgonda, Nizamabad, Rangareddi, Warangal, Srikakulam, Krishna districts (Andhra Pradesh province)',\n",
              "       'Madhya Pradesh province', 'Assam, Tripura provinces',\n",
              "       'Kerala province', 'Maharashtra, Gujarat provinces',\n",
              "       'Ballia, Chandauli districts (Uttar Pradesh province)',\n",
              "       'Navsari, The Dangs districts (Gujarat)',\n",
              "       'Jammu and Kashmir provinces', 'Gujarat province',\n",
              "       'Barmer, Jaisalmer, Kota, Udaipur districts (Rajasthan province)',\n",
              "       'Balrampur, Bahraich, Lakhimpur Kheri, Shravasti, Gonda, Bara Banki districts (Uttar Pradesh province)',\n",
              "       'Tamil Nadu, Andhra Pradesh provinces',\n",
              "       'Orissa, Andhra Pradesh, Chhattisgarh provinces',\n",
              "       'Madhya Pradesh, Maharashtra, Rajasthan provinces',\n",
              "       'Uttar Pradesh, Orissa, Punjab, Delhi provinces',\n",
              "       'Jammu and Kashmir province',\n",
              "       'Kurnool, Mahbubnagar, Guntur, Prakasam, East Godavari, West Godavari, Anantapur, Cuddapah districts (Andhra Pradesh province), Thrissur district (Kerala province), Belgaum, Bijapur, Bagalkot, Kodagu, Hassan, Mysore districts (Karnataka province), Mumbai City, Pune districts (Maharashtra province)',\n",
              "       'Himachal Pradesh province',\n",
              "       'Rajasthan, Uttar Pradesh, Madhya Pradesh, Jammu and Kashmir provinces',\n",
              "       'Baleshwar, Kendrapara, Bhadrak, Jagatsinghpur, Jajpur, Mayurbhanj, Khordha, Cuttack, Puri, Kandhamal districts (Orissa province), Kolkata, South 24 Parganas, East Midnapore, West Midnapore, Hughli districts (West Bengal province)',\n",
              "       'Lakhimpur, Dhemaji, Cachar, Karimganj, Hailakandi, Darrang, Dibrugarh districts (Assam province)',\n",
              "       'Junagadh district (Daman and Diu province), Amreli, Bhavnagar, Jamnagar, Junagadh, Porbandar, Rajkot, Surendranagar districts (Gujarat province), Rajasthan, Madhya Pradesh',\n",
              "       'Amravati, Mumbai City, Mumbai Suburban, Raigarh, Ratnagiri, Sindhudurg, Thane districts (Maharashtra province)',\n",
              "       'Raipur, Bilaspur, Mahasamund, Durg districts (Chhattisgarh province)',\n",
              "       'Udaipur, Amarpur cities (South Tripura district, Tripura province), Sonamura citiy (West Tripura district, Tripura province)',\n",
              "       'Bihar, Uttar Pradesh, Assam, Orissa, West Bengal provinces',\n",
              "       'Gujarat province',\n",
              "       'Kurnool, Cuddapah, Warangal, Nalgonda, Karimnagar, Mahbubnagar, Anantapur, Nellore, Krishna districts (Andhra Pradesh province), Gadag district (Karnataka province)',\n",
              "       'Andhra Pradesh, Tamil Nadu province',\n",
              "       'Cuttack, Puri, Khordha, Jajpur, Jagatsinghpur districts (Orissa province)',\n",
              "       'Assam, Arunachal Pradesh, Meghalaya, Manipur provinces',\n",
              "       'Kerala province', 'West Bengal, Orissa provinces',\n",
              "       'Uttar Pradesh, Jammu and Kashmir, Gujarat provinces',\n",
              "       'Uttar Pradesh, Rajasthan, Punjab, Delhi provinces',\n",
              "       'Lakhimpu, Dhemaji, Sonitpur districts (Assam province), West Bengal, Orissa, Bihar, Gujarat, Goa, Haryana, Kerala, Karnataka, Maharastra, Madhya Pradesh, Punjab, Rajasthan, Uttar Pradesh, Tamil Nadu, Arunachal Pradesh, Uttarakhand, Jharkhand provinces',\n",
              "       'Orissa, Uttar Pradesh, Himachal Pradesh provinces',\n",
              "       'Muzaffarpur, Supaul, Patna, Katihar, Nalanda, Araria, Pashchim Champaran, Sheikhpura, Saharsa, Purnia, Saran, Begusarai, Bhagalpur, Madhepura, Vaishali, Khagaria districts (Bihar province), Assam province',\n",
              "       'Uttar Pradesh province',\n",
              "       'Thiruvallur, Thoothukudi, Villupuram, Ramanathapuram, Tirunelveli Kattabo, Pudukkottai, Kanniyakumari, Nagapattinam, Cuddalore, Chennai districts (Tamil Nadu province), Puducherry, Karaikal districts (Puducherry province)',\n",
              "       'Assam, Bihar, Gujarat, Goa, Haryana, Jharkhand, Kerala, Karnataka, Maharashtra, Madhya Pradesh, Punjab, Orissa, Rajasthan, Uttarakhand, Uttar Pradesh, Tamil Nadu, West Bengal provinces',\n",
              "       'Khammam, West Godavari, Krishna, Guntur districts (Andhra Pradesh province)',\n",
              "       'Lakhimpur, Jorhat districts (Assam province), Uttar Pradesh, Bihar provinces',\n",
              "       'Administrative unit not available districts (Jammu and Kashmir province)',\n",
              "       'Uttar Pradesh, Bihar, Haryana, Punjab, Himachal Pradesh, Uttarakhand, Jammu and Kashmir provinces',\n",
              "       'Tamil Nadu, Karnataka provinces',\n",
              "       'Sagar, Namkhana, Kakdwip, Pathar Pratima, Canning, Basanti, Mathurapur, Kultali villages (South 24 Parganas district, West Bengal province), Kolkata, North 24 Parganas, Haora, Hugli, Darjiling districts (West Bengal province)',\n",
              "       'Kendrapara district (Orissa province)',\n",
              "       'Bihar, Jharkhand provinces',\n",
              "       'Orissa, West Bengal, Bihar, Uttar Pradesh, Jharkhand, Andhra Pradesh provinces',\n",
              "       'Ooty, Coonoor cities (Nilgiris district, Tamil Nadu)',\n",
              "       'Jainta Hills district (Meghalaya province)',\n",
              "       'Uttar Pradesh province', 'Uttar Pradesh province',\n",
              "       'Delhi province',\n",
              "       'Bihar, Orissa, West Bengal, Assam, Kerala, Gujarat, Karnataka provinces',\n",
              "       'Belgaum, Gulbarga, Bijapur, Raichur, Dharwad, Bagalkot, Bellary, Koppal, Haveri, Bidar, Gadag, Davanegere, Uttar Kannand, Dakshin Kannad districts (Karnataka province), Kurnool, Mahbubnagar, Karimnagar, Anantapur, Krishna, Cuddapah, Guntur, Khammam, Nalgonda districts (Andhra Pradesh province), Maharashtra province',\n",
              "       'Darbhanga, Purnia, Sitamarhi, Saharsa, Madhubani districts (Bihar province)',\n",
              "       'Pithoragarh district (Uttarakhand province)',\n",
              "       'Lal, Bahadur, Shastri, Nagar slums (Mumbai Suburban district, Maharashtra province)',\n",
              "       'Gujarat, Madhya Pradesh, Maharashtra provinces',\n",
              "       \"Srinagar city ('72808' district, '40424' Jammu and Kashmir province), Uttar Pradesh, Himachal Pradesh, Delhi, Bihar provinces\",\n",
              "       'Uttar Pradesh',\n",
              "       'Bongaigaon, Cachar, Dhuburi, Goalpara, Golaghat, Hailakandi, Jorhat, Kamrup, Karbi Anglong, Kokrajhar, Lakhimpur, Marigaon, Nagaon, Sibsagar, Barpeta, Darrang, Dhemaji, Dibrugarh, Karimganj, Nalbari, North Cachar Hills, Sonitpur, Tinsukia districts (Assam province), Bilaspur, Chamba, Hamirpur, Kangra, Kinnaur, Kullu, Lahaul and Spiti, Mandi, Shimla, Sirmaur, Solan, Una districts (Himachal Pradesh province), Chatra, Garhwa, Latehar, Palamu, Dumka, Deoghar, Giridih, Godda, Jamtara, Pakur, Sahibganj, Bokaro, Dhanbad, Purba Singhbhum, Gumla, Hazaribag, Koderma, Lohardaga, Ranchi, Simdega, Saraikela Kharsawan, Pashchim Singhbhum districts (Jharkhand province), Bishnupur, Chandel, Churachandpur, East Imphal, West Imphal, Senapati, Tamenglong, Thoubal, Ukhrul districts (Manipur province), Dimapur, Kohima, Phek, Mokokchung, Mon, Tuensang, Wokha, Zunheboto districts (Nagaland province), Ambedkar Nagar, Ballia, Bareilly, Basti, Deoria, Farrukkhabad, Fatehpur, Ghazipur, Hardoi, Hathras, Jaunpur, Kannauj, Kanpur Dehat, Mainpuri, Mau, Rae Bareli, Sultanpur, Sant Kabir Nagar, Unnao, Agra, Shahjahanpur, Faizabad, Meerut, Mahoba, Aligarh, Jyotiba Phule Nagar, Balrampur, Etah, Rampur, Ghaziabad, Gautam Buddha Nagar, Banda, Mathura, Allahabad, Auraiya, Jalaun, Varanasi, Chandauli, Moradabad, Azamgarh, Siddharth Nagar, Badaun, Sitapur, Firozabad, Saharanpur, Chitrakoot, Etawah, Bulandshahr, Kaushambi, Pilibhit, Muzaffarnagar, Kushinagar, Jhansi, Lucknow, Bijnor, Mirzapur districts (Uttar Pradesh province), Patna, Nalanda, Gaya, Buxar, Bhojpur, Rohtas, Bhabua, Siwan, Nawada, Munger, Aurangabad, Sheikhpura, Lakhisarai, Jamui, Bhagalpur, Banka, Saran, Jehanabad, Muzaffarpur, Sitamarhi, Begusarai, Madhepura, Kishanganj, Katihar, Vaishali districts (Bihar province), Bangalore Urban, Bangalore Rural, Kolar, Tumkur, Chitradurga, Davanagere, Chamrajnagar, Mysore, Mandya, Bellary, Koppal, Raichur, Gulbarga, Bidar, Belgaum, Bagalkot, Bijapur, Gadag districts (Karnataka province), Nanded, Latur, Aurangabad, Jalna, Bid, Parbhani, Osmanabad, Hingoli, Chandrapur, Yavatmal, Wardha, Thane, Raigarh, Nandurbar, Jalgaon, Amravati, Buldana, Washim, Garhchiroli, Pune, Satara, Sangli, Solapur, Kolhapur, Nashik, Dhule, Ahmednagar, Akola districts (Maharasthra province), Rewa, Satna, Sidhi, Shahdol, Anuppur, Umaria, Dindori, Jabalpur, Katni, Balaghat, Narsinghpur, Mandla, Sagar, Panna, Tikamgarh, Chhatarpur, Raisen, Vidisha, Damoh, Sehore, Gwalior, Guna, Ashoknagar, Shivpuri, Datia, Bhind, Morena, Sheopur, Shajapur, Dewas, Ratlam, East Nimar, Burhanpur, Barwani, Jhabua districts (Madhya Pradesh province), Ajmer, Alwar, Banswara, Barmer, Bhilwara, Bikaner, Bundi, Chittaurgarh, Churu, Dausa, Dungarpur, Ganganagar, Hanumangarh, Jaipur, Jaisalmer, Jalor, Jhunjhunu, Jodhpur, Nagaur, Pali, Rajsamand, Sawai Madhopur, Sikar, Sirohi, Tonk, Udaipur districts (Rajasthan province)',\n",
              "       'Leh, Cholglamsar villages (72785 district, Jammu and Kashmir province)',\n",
              "       'Almora, Naini Tal districts (Uttarakhand province), Bihar, Uttar Pradesh provinces',\n",
              "       'Nawabganj town (Gonda district, Uttar Pradesh province), Allahabad, Unnao districts (Uttar Pradesh province)',\n",
              "       'Krishna, Prakasam, Nellore, Guntur districts (Andhra Pradesh province), Tamil Nadu province',\n",
              "       'Uttar Pradesh, Bihar provinces', 'Andhra Pradesh province',\n",
              "       'Mushalpur, Baksa towns (Nalbari district, Assam province)',\n",
              "       'Bihar, Jharkhand provinces',\n",
              "       'Ambala, Kurukshetra districts (Haryana province), Punjab, Kerala provinces',\n",
              "       'Andhra Pradesh province', 'Delhi province',\n",
              "       'Lakhimpur district (Assam province)',\n",
              "       'Punjab, Haryana, Uttar Pradesh provinces',\n",
              "       'Chennai, Cuddalore, Nagapattinam, Pudukottai, Ramanthapuram, Thanjavur, Thiruvallur, Villupuram, Thoothukudi, Tirunelveli Kattabo districts (Tamil Nadu province)',\n",
              "       'Administrative unit not available district (Jammu and Kashmir province)',\n",
              "       'Bihar, West Bengal, Assam provinces',\n",
              "       'Delhi, Haryana, Madhya Pradesh, Orissa, Rajasthan, Uttar Pradesh provinces',\n",
              "       'Sikkim, West Bengal, Bihar, Assam, Meghalaya provinces',\n",
              "       'Uttar Pradesh province', 'West Bengal province',\n",
              "       'Angul, Baleshwar, Baragarh, Bhadrak, Boudh, Cuttack, Deogarh, Dhenkanal, Jajpur, Jagatsinghpur, Jharsuguda, Kendrapara, Khordha, Mayurbhanj, Nayagarh, Nuapada, Puri, Sambalpur districts (Orissa province)',\n",
              "       'Dhemaji district (Assam province), East Garo Hills, South Garo Hills, West Garo Hills districts (Meghalaya province)',\n",
              "       'Barpeta, Bongaigaon, Darrang, Dhemaji, Dhuburi, Golaghat, Jorhat, Karbi Anglong, Sibsagar, Lakhimpur, Nagaon, Sonitpur districts, (Assam province), Begusarai, Bhagalpur, Bhojpur, Buxar, Gopalganj, Katihar, Khagaria, Kishanganj, Lakhisarai, Madhubani, Madhepura, Muzaffarpur, Patna, Purnia, Samastipur, Saran, Saharsa, Sitamarhi, Supaul, Vaishali, Pashchim Champaran districts (Bihar province), Azamgarh, Aligarh, Ambedkar Nagar, Badaun, Ballia, Bara Banki, Bahraich, Bareilly, Bijnor, Faizabad, Farrukhabad, Ghazipur, Gonda, Gorakhpur, Hardoi, Jyotiba Phule Nagar, Kannauj, Kanpur, Kushinagar, Lakhimpur Kheri, Meerut, Muzaffarnagar, Moradabad, Pilibhit, Rampur, Shahjahanpur, Sitapur, Unnao districts (Uttar Pradesh province)',\n",
              "       'Gonda, Balrampur, Faizabad, Bara Banki districts (Uttar Pradesh province), Rajasthan province',\n",
              "       \"Delhi province, Allahabad, Pratapgarh, Jaunpur, Bara Banki districts (Uttar Pradesh province), Sundernagar city (Mandi district, Himachal Pradesh province), Bhuntar city (Kullu district, Himachal Pradesh province), Shimla, Solan districts (Himachal Pradesh province), Leh city ('40422' Jammu and Kashmir province), Qazigund city ('40425' Jammu and Kashmir province), Bihar province\",\n",
              "       'Karnataka province', 'Orissa province',\n",
              "       'Uttar Pradesh, Uttarakhand province',\n",
              "       'Cuddalore district (Tamil Nadu province), Puducherry district (Puducherry province)',\n",
              "       'Uttar Pradesh, Punjab, Haryana provinces',\n",
              "       'Andhra Pradesh, Tamil Nadu provinces',\n",
              "       'Anjaw (70044), Lohit, Changlang, 70045, 70050, Lower Dibang Valley, East Siang, Upper Siang (70051) districts (Arunachal Pradesh province), Assam province',\n",
              "       'Palchan village (Kullu district, Himachal Pradesh province), Uttarkashi, Rudra Prayag, Chamoli districts (Uttarakhand province), Moradabad district (Uttar Pradesh province), Kathua village (72780 district, Jammu and Kashmir province)',\n",
              "       'Rudra Prayag, Bageshwar districts (Uttarakhand province)',\n",
              "       'Barpeta, Bongaigaon, Darrang, Dhemaji, Dhuburi, Dibrugarh, Goalpara, Golaghat, Jorhat, Kamrup, Lakhimpur, Marigaon, Nagaon, Nalbari, Papum Pare, Sibsagar, Sonitpur, Tinsukia districts (Assam province), Bhagalpur, Darbhanga, Katihar, Khagaria, Muzaffarpur, Patna, Siwan, Supaul districts (Bihar province), Sahibganj district (Jharkhand province), North Sikkim district (Sikkim province), Ballia, Bara Banki, Faizabad districts (Uttar Pradesh province), Murshidabad district (West Bengal province), West Siang, East Siang, Lohit, Papum Pare districts (Arunachal Pradesh province)',\n",
              "       'Himachel Pradesh province',\n",
              "       'Adminitrative unit not available districts (Jammu and Kashmir province)',\n",
              "       'Jaipur, Dhaulpur, Dausa, Tonk, Jhunjhunun, Sikar, Hanumangarh, Bikaner districts (Rajasthan province), Anjaw (70044), 70045, 70050, Lower Dibang Valley, Upper Siang (70051) districts (Arunachal Pradesh province)',\n",
              "       'Karimnagar, Vishakhapatnam, Guntur districts (Andhra Pradesh province)',\n",
              "       'Bihar, Haryana, Himachal Pradesh, Jammu and Kashmir, Punjab, Rajasthan, Uttar Pradesh provinces',\n",
              "       'Orissa, Andhra Pradesh, Jharkhand, Bihar, West Bengal, Chhattisgarh provinces',\n",
              "       'Uttarakhand, Himachal Pradesh, Uttar Pradesh, Bihar, Karnataka, Kerala, Gujarat, West Bengal provinces',\n",
              "       'Krishna, Guntur, East Godavari, West Godavari, Vishakhapatnam districts (Andhra Pradesh province)',\n",
              "       'Bihar, Jharkhand provinces', 'Uttar Pradesh province',\n",
              "       'Administrive unit not available district (Jammu and Kashmir province)',\n",
              "       'Sultanpur, Sitapur, Rae Bareli, Bara Banki, Faizabad, Gorakhpur, Basti, Kushinagar, Bahraich, Gonda, Shravasti districts (Uttar Pradesh province)',\n",
              "       'Bhopal, Hoshangabad, Seoni, Narsinghpur, Jabalpur districts (Madhya Pradesh province), Uttar Pradesh, Assam provinces',\n",
              "       'Orissa, Andhra Pradesh, West Bengal provinces',\n",
              "       'Andhra Pradesh province',\n",
              "       'Adilabad, East Godavari, Guntur, Karimnagar, Khammam, Krishna, Nalgonda, Nizamabad, Prakasam, Vishakhapatnam, Warangal, West Godavari districts (Andhra Pradesh province)',\n",
              "       'Dhemaji, Tinsukia, Nagaon, Golaghat, Jorhat, Kamrup, Karimganj, Lakhimpur, Morigaon, Sibsaga, Bongaigaon, Kokrajhar districts (Assam province)',\n",
              "       'Doda, Bhaderwah, Thathri, Gandoh, Bhallessa villages (Kishtwar (72809) district, Jammu and Kashmir (40427) province), Kora Pani, Tangdhar villages (Kupwara (72786) district, Jumma and Kashmir (40431) province)',\n",
              "       'Uttar Pradesh, Jammu and Kashmir, Uttarakhand, Delhi provinces',\n",
              "       'Hyderabad district (Andhra Pradesh province)',\n",
              "       'Himachal Pradesh, Uttarakhand, Uttar Pradesh provinces',\n",
              "       'Shravasti, Balrampur, Sitapur, Lakhimpur Kheri, Gonda, Bara Banki, Faizabad, Azamgarh districts (Uttar Pradesh province), Uttarakhand, Bihar, Assam provinces',\n",
              "       'Assam province', 'Jammu and Kashmir provinces',\n",
              "       'Tura village (West Garo Hills district, Meghalaya province), Goalpara, Kamrup districts (Assam province)',\n",
              "       'Vishakhapatnam, Gangavaram towns (Vishakhapatnam district, Andhra Pradesh province), Baragarh, Bolangir, Boudh, Gajapati, Ganjam, Kalahandi, Kandhamal, Khordha, Koraput, Malkangiri, Nabarangpur, Nayagarh, Nuapada, Puri, Rayagada, Sonepur districts (Orissa province), Chhattisgarh province',\n",
              "       'Ghaziabad district (Utar Pradesh province), Delhi, West Bengal provinces',\n",
              "       'Uttarakhand, Himachal Pradesh provinces', 'Orissa province',\n",
              "       'Odisha province',\n",
              "       'Malin village (Pune district, Maharashtra province)',\n",
              "       'Uttar Pradesh province',\n",
              "       'Muzaffarnagar district (Uttar Pradesh province)',\n",
              "       'Gujarat, Punjab, Himachal Pradresh, Haryana, Maharashtra, Bihar, Uttar Pradesh, Madhya Pradesh, Rajasthan, Jammu and Kashmir, Uttarakhand, West Bengal provinces',\n",
              "       'Chadoora village (72811 district, Jammu and Kashmir province)',\n",
              "       'Mirik, Kalimpong, Darjeeling villages (Darjiling district, West Bengal province),',\n",
              "       'Kachchh, Patan, Banas Kantha districts (Gujarat province), Malda, Jalpaiguri districts (West Bengal province), Jorhat, Dhemaji, Lakhimpur, Dhuburi, Darrang, Goalpara, Karbi Anglong, Marigaon districts (Assam province), Manipur, Orissa, Rajasthan, Madhya Pradesh provinces',\n",
              "       'Rajasthan, Uttar Pradesh, Jammu and Kashmir, Arunachal Pradesh, Uttarakhand, Punjab, Haryana, Himachal Pradesh provinces',\n",
              "       'Sonitpur, Lakhimpur, Kokrajhar, Dhemaji districts (Assam province), Arunachal Pradesh province',\n",
              "       'Purnia, Madhepura, Madhubani, Supaul, Sitamarhi districts (Bihar province)',\n",
              "       'Tripura province',\n",
              "       'Deogarh, Nabarangpur, Malkangiri districts (Orissa province), Andhra Pradesh province',\n",
              "       'Andhra Pradesh province', 'Maharashtra province',\n",
              "       'Bihar, Uttar Pradesh, West Bengal, Sikkim provinces',\n",
              "       'Bihar province',\n",
              "       'Administrative unit not available districts (Jammu and Kashmir province), Delhi, Punjab provinces',\n",
              "       'Bhadrairuppu village (Virudhunagar district, Tamil Nadu province)',\n",
              "       'Amreli, Rajkot, Surat districts (Gujarat province), Maharashtra province',\n",
              "       'Barpeta, Sonitpur, Goalpara, Dhemaji, Lakhimpur, Tinsukia, Darrang, Nalbari, Jorhat, Kamrup, Dibrugarh, Nagaon, Bongaigaon districts (Assam province)',\n",
              "       'Delhi, Andhra Pradesh, Orissa provinces',\n",
              "       'Tamil Nadu, Rajasthan, Jharkhand, Assam, Andhra Pradesh, Himachal Pradesh, Nagaland; Maharashtra, Bihar, Madhya Pradesh, Chhattisgarh, Telangana, Jharkand, Odisha states',\n",
              "       'Assam province',\n",
              "       'Dhemaji, Kokrajhar, Bongaigaon, Sonitpur, Barpeta, Goalpara, Marigaon, Cachar, Lakhimpur, Jorhat, Tinsukia, Darrang, Nalbari, Kamrup, Dibrugarh, Sibsagar districts (Assam province)',\n",
              "       'Chittoor, Cuddapah, Prakasam, Nellore districts (Andhra Pradesh province), Chennai, Cuddalore, Nagapattinam, Kancheepuram, Thiruvallur, Villupuram districts (Tamil Nadu province), Puducherry province',\n",
              "       'Arunachal Pradesh, Assam, Nagaland provinces',\n",
              "       'Chennai district (Tamil Nadu province); Andhra Pradesh',\n",
              "       'Muzaffarpur, Patna, Siwan districts (Bihar province)',\n",
              "       'Bihar, Uttar Pradesh, Jharkhand, Madhya Pradesh provinces',\n",
              "       'Guwahati city (Kamrup district, Assam province), East Imphal, West Imphal, Senapati, Thoubal, Bishnupur, Tamenglong districts (Manipur province)',\n",
              "       'Chamoli, Pithoragahr districts (Uttarakhand province), Assam, Arunachal Pradesh provinces',\n",
              "       'Lakhimpur, Golaghat, Jorhat, Barpeta, Bongaigaon, Goalpara, Dhubri, Marigaon, Darrang, Nalbari districts (Assam province)',\n",
              "       'Jammu and Kashmir (Administrative unit not available) (Siachen glacier)',\n",
              "       'Uttarakhand province',\n",
              "       'Andhra Pradesh, Rajasthan, Orissa, Bihar, Jharkhand, Tamil Nadu, Uttar Pradesh provinces',\n",
              "       'Uttarakhand province (including Almora, Pauri Garhwal, Chamoli districts)',\n",
              "       'Biha, Uttar Pradeshr province (Varanasi, Allahabad, Ghazipur, Ballia, Banda, Jalaun, Ghaziabad, Patna, Bhagalpur, Vaishali, Buxar, Bhojpur, Sonepur, Saran, Begusarai, Samastipur, Lakhisarai, Khagaria, Munger, Nalanda, Katihar, Purnea, Katihar, Supual, Kisanganj, Madhepura, Gopalganj, Saharsa, Araria, East Champaran, Muzafferpur, Kishanganj, Purnea, Araria, Supaul, Bhagalpur, Darbhanga)',\n",
              "       'Bhopal, Hoshangabad, Rewa, Sagar, Shajapur, Jabalpur, Satna, Harda, Panna, Vidisha, Raisen, Mandla, Tikamgarh, Seoni, Damoh, Sehore, Agar-Malwa districts (Madhya Pradesh province)',\n",
              "       'Maharashtra (Nashik, Raigad (Mahad), Thane (Bhiwandi), Ratnagiri, Pune, Satara, Kolhapur), Gujarat (Valsad, Chhota Udepur (Vadodara), Navsari and Surat)',\n",
              "       'Andhra Pradesh province, Telangana',\n",
              "       'Jorhat, Golaghat (Assam State)', 'Manipur, Mizoram',\n",
              "       'Kerala (Thiruvananthapuram, Kozhikode,Ernakulam),Tamil Nadu (Kanyakumari-Munchirai, Thiruvattar,Killiyur, Kurunthancode, Rajakkamangalam-, Tirunelveli, Tuticorin districts), Andhra Pradesh (Chittoor and Nellore), Lakshadweep Islands',\n",
              "       'Vaishali, Saran, Patna, Gaya, Sasaram (Rohta), Araria, Nalanda districts (Bihar)',\n",
              "       'Jamui, Champaran, Vaishali, Samastipur, Bihar',\n",
              "       'Maldah (West Bengal)',\n",
              "       'Mumbai (Dadar, Khar, Bandra, Lalbaug, Kalina, Sion, Byculla, Matunga, Wadala, Parel, Khar-Danda, Pali Hill, Carter Road, Bandra, Ghatkopar, Bhandup, Mulund, and Santacruz), Thane (Maharashtra)',\n",
              "       'Chenai (Tamil Nadu)',\n",
              "       'Lakhimpur, Bangaigaon, Jorhat, Golaghat, Cachar, Dhemjai, Biswanath, Karimganj, Barpeta, Karbi Anglong, Sonitpur, Darrang, Hojai (Sub Division), Bhuragaon (Sub Division), Majuli, Nagaon, Nalbari, Sivasagar, Morigaon, Chirang, Dibrugarh, Dhubri, Kokrajhar, South Salmara, Charaideo, Goalpara districts (Assam)',\n",
              "       'Sonamanrg (Ganderbal district), Gurez Valleys (Jammu and Kashmir state)',\n",
              "       'Laptap Village, Papumpare district (Arunachal Pradesh)',\n",
              "       'Kotropi, Mandi district (Himachal Pradesh)',\n",
              "       'Andhra Pradesh, Telangana, Maharashtra, Odisha (Orissa)',\n",
              "       'Lakhimpur, Karimganj, Darrang districts (Assam), Nagaland, Manipur, Jharkhand',\n",
              "       'Gujarat',\n",
              "       'Imphal West, Imphal East, Thoubal, Bishnupur (Manipur)',\n",
              "       'Banaskantha, Valsad, Navsari, Surat, Sabarkantha, Patan (Gujarat), Barmer, Jalore, Udaipur, Sirohi, Pali (Rajasthan), Kolkata (West Bengal)',\n",
              "       'Araria, Jogbani (Bihar); Uttar Pradesh, West Bengal',\n",
              "       'Uttar Pradesh (Siddharthnagar, Balarampur, Bahraich, Shravasti, Maharajganj, Barabanki, Lakhimpur Kheri, Gorakhpur, Muzaffarnagar, Gonda, Basti, Mirzapur, Khiri, Deoria, Sitapur, Bijnore, Faizabad, Pilibhit, Farrukhabad, Mau, Kushinagar, Badaun, Ambedkar nagar, Azamgarh, Santkabir Nagar, Ghazipur, Balia)',\n",
              "       'Thrissur, Chengannur (Kerala state); West Bengal, Odisha, Assam, Nagaland, Uttar Pradesh, Himachal Pradesh, Maharashtra states',\n",
              "       'Uttar Pradesh, West Bengal, Assam, Tripura, Manipur, Mizoram',\n",
              "       'Mandasa, Godalpur, Gajapati, Ganjam, Rayagada, Puri, Kandhamal (Andhra Pradesh & Odisha)',\n",
              "       'Uttar Pradesh, Kerala, Maharashtra, Mizoram, Rajasthan',\n",
              "       'Punjab, Haryana states', 'New Delhi', 'Uttar Pradesh, Rajasthan',\n",
              "       'Kolkata',\n",
              "       'Uttar Pradesh, Bengale occidental, Bihar, Andhra Pradesh',\n",
              "       'Uttar Pradesh, West Bengal, Tripura',\n",
              "       'Uttar Pradesh, Bihar, Jharkhand', 'Rajasthan, Uttar Pradesh',\n",
              "       'Tripura state',\n",
              "       'Tamil Nadu, Nagapattinam, Tiruvarur, Thanjavur, Pudukottai, Dindigul and Ramnad, Chennai, Sivaganga, Theni, Madurai districts',\n",
              "       'Andhra Pradesh, Odisha', 'Tamil nadu',\n",
              "       'Karnataka, Maharashtra states', 'Assam, Maharashtra, Gujarat',\n",
              "       'Dakshina Kannada and Udupi districts', 'Uttar Pradesh, Rajasthan',\n",
              "       'Odisha state',\n",
              "       'Biswanath, Udalguri, Golaghat, Sivassagar/Charaideo, Barpeta, Lakhimpu, Dhemaji, Darrang (Assam, West Bengal)',\n",
              "       'Uttar Pradesh', 'Uttar Pradesh, Maharashtra, and Bihar',\n",
              "       'Sitamarhi, Sheohar, East Champaran, Muzaffarpur, Madhubani, Darbhanga, Supaul, Araria, Sahersa , Katihar, Purnia, Kishanganj districts (Bihar); Dhemaji, Lakhimpur, Biswanath, Barpeta, Chirang, Golaghat Jorhat, Sonitpur, Darrang, Nalbari, Bongaigaon, Morigaon, Nagaon, Majuli, Baksa, Kokrajhar, Dhubri, South Salmara, Goalpara, Kamrup, Hojai, Sivsagar, Tinsukia, Cachar, KarbiAnglrng, West Karbi-Anglong, Hailakandi, Dibrugarh districts (Assam); Maharashtra, Kerala, Rajasthan, West Bengal, Karnataka, Uttarakand, Himachal Pradesh, Punjab, Uttar Pradesh, Odisha',\n",
              "       'Belagavi, Gadag, Koppal districts (Karnataka); Kerala, Tamil Nadu states',\n",
              "       'Mumbai, Pune, Ratnagiri Districts (Maharashtra State)',\n",
              "       'Gujarat, Rajasthan, Madhya Pradesh, Maharashtra',\n",
              "       'Odisha, Hyderabad', 'Odisha province',\n",
              "       'Patna, Gaya, Bhagalpur cities; Aurangabad, Nawada districts (Bihar)',\n",
              "       'Karnataka, Maharashtra, Madhya Pradesh, Rajasthan, Uttar Pradesh states',\n",
              "       'Muzaffarpur, Vaishali, Sheohar, East Champaran districts (Bihar)',\n",
              "       'Rajendranagar area (Bihar)',\n",
              "       'West Bengal, Kerala, Odisha, Maharashtra',\n",
              "       'South Assam, Meghalaya, Tripura, Mizoram, West Begal, Odisha state',\n",
              "       'Coimbatore, Cuddalore, Nagapattinam, Thoothukkudi Districts (Tamil Nadu); Pudducherry',\n",
              "       'Jammu & Kashmir state'], dtype=object)"
            ]
          },
          "metadata": {
            "tags": []
          },
          "execution_count": 32
        }
      ]
    },
    {
      "cell_type": "code",
      "metadata": {
        "id": "RyhNNCbRz8vG"
      },
      "source": [
        "d = pd.DataFrame(columns=['Year', 'Location'])"
      ],
      "execution_count": null,
      "outputs": []
    },
    {
      "cell_type": "code",
      "metadata": {
        "id": "FGhi_JJLpbb_"
      },
      "source": [
        "states = [\"Andhra Pradesh\",\"Arunachal Pradesh \",\"Assam\",\"Bihar\",\"Chhattisgarh\",\"Goa\",\"Gujarat\",\"Haryana\",\"Himachal Pradesh\",\"Jammu and Kashmir\",\"Jharkhand\",\"Karnataka\",\"Kerala\",\"Madhya Pradesh\",\"Maharashtra\",\"Manipur\",\"Meghalaya\",\"Mizoram\",\"Nagaland\",\"Odisha\",\"Punjab\",\"Rajasthan\",\"Sikkim\",\"Tamil Nadu\",\"Telangana\",\"Tripura\",\"Uttar Pradesh\",\"Uttarakhand\",\"West Bengal\",\"Andaman and Nicobar Islands\",\"Chandigarh\",\"Dadra and Nagar Haveli\",\"Daman and Diu\",\"Lakshadweep\",\"Delhi\",\"Puducherry\"]"
      ],
      "execution_count": null,
      "outputs": []
    },
    {
      "cell_type": "code",
      "metadata": {
        "id": "td-VZtpVp2E2"
      },
      "source": [
        "for i in disaster.iterrows():\n",
        "  for x in states:\n",
        "    if(x in str(i[1]['Location'])):\n",
        "      d = d.append({'Year':i[1]['Year'],'Location':x}, ignore_index=True)\n"
      ],
      "execution_count": null,
      "outputs": []
    },
    {
      "cell_type": "code",
      "metadata": {
        "id": "o_6zNQGzp2DN",
        "colab": {
          "base_uri": "https://localhost:8080/"
        },
        "outputId": "9d9cfd14-b88d-4084-f6f1-2fcdbc9ba42f"
      },
      "source": [
        "d"
      ],
      "execution_count": null,
      "outputs": [
        {
          "output_type": "execute_result",
          "data": {
            "text/html": [
              "<div>\n",
              "<style scoped>\n",
              "    .dataframe tbody tr th:only-of-type {\n",
              "        vertical-align: middle;\n",
              "    }\n",
              "\n",
              "    .dataframe tbody tr th {\n",
              "        vertical-align: top;\n",
              "    }\n",
              "\n",
              "    .dataframe thead th {\n",
              "        text-align: right;\n",
              "    }\n",
              "</style>\n",
              "<table border=\"1\" class=\"dataframe\">\n",
              "  <thead>\n",
              "    <tr style=\"text-align: right;\">\n",
              "      <th></th>\n",
              "      <th>Year</th>\n",
              "      <th>Location</th>\n",
              "    </tr>\n",
              "  </thead>\n",
              "  <tbody>\n",
              "    <tr>\n",
              "      <th>0</th>\n",
              "      <td>2000</td>\n",
              "      <td>Andhra Pradesh</td>\n",
              "    </tr>\n",
              "    <tr>\n",
              "      <th>1</th>\n",
              "      <td>2000</td>\n",
              "      <td>Gujarat</td>\n",
              "    </tr>\n",
              "    <tr>\n",
              "      <th>2</th>\n",
              "      <td>2000</td>\n",
              "      <td>Maharashtra</td>\n",
              "    </tr>\n",
              "    <tr>\n",
              "      <th>3</th>\n",
              "      <td>2000</td>\n",
              "      <td>Rajasthan</td>\n",
              "    </tr>\n",
              "    <tr>\n",
              "      <th>4</th>\n",
              "      <td>2000</td>\n",
              "      <td>Delhi</td>\n",
              "    </tr>\n",
              "    <tr>\n",
              "      <th>...</th>\n",
              "      <td>...</td>\n",
              "      <td>...</td>\n",
              "    </tr>\n",
              "    <tr>\n",
              "      <th>793</th>\n",
              "      <td>2019</td>\n",
              "      <td>Meghalaya</td>\n",
              "    </tr>\n",
              "    <tr>\n",
              "      <th>794</th>\n",
              "      <td>2019</td>\n",
              "      <td>Mizoram</td>\n",
              "    </tr>\n",
              "    <tr>\n",
              "      <th>795</th>\n",
              "      <td>2019</td>\n",
              "      <td>Odisha</td>\n",
              "    </tr>\n",
              "    <tr>\n",
              "      <th>796</th>\n",
              "      <td>2019</td>\n",
              "      <td>Tripura</td>\n",
              "    </tr>\n",
              "    <tr>\n",
              "      <th>797</th>\n",
              "      <td>2019</td>\n",
              "      <td>Tamil Nadu</td>\n",
              "    </tr>\n",
              "  </tbody>\n",
              "</table>\n",
              "<p>798 rows × 2 columns</p>\n",
              "</div>"
            ],
            "text/plain": [
              "     Year        Location\n",
              "0    2000  Andhra Pradesh\n",
              "1    2000         Gujarat\n",
              "2    2000     Maharashtra\n",
              "3    2000       Rajasthan\n",
              "4    2000           Delhi\n",
              "..    ...             ...\n",
              "793  2019       Meghalaya\n",
              "794  2019         Mizoram\n",
              "795  2019          Odisha\n",
              "796  2019         Tripura\n",
              "797  2019      Tamil Nadu\n",
              "\n",
              "[798 rows x 2 columns]"
            ]
          },
          "metadata": {
            "tags": []
          },
          "execution_count": 36
        }
      ]
    },
    {
      "cell_type": "code",
      "metadata": {
        "id": "4RzYEJhUp1_X"
      },
      "source": [
        "final = d.pivot_table(index=['Location','Year'], aggfunc='size')"
      ],
      "execution_count": null,
      "outputs": []
    },
    {
      "cell_type": "code",
      "metadata": {
        "id": "l0wpa_Z-p18u",
        "colab": {
          "base_uri": "https://localhost:8080/"
        },
        "outputId": "155ba356-9c33-4d77-8915-71f429ce3ba1"
      },
      "source": [
        "disaster = pd.DataFrame(final)\n",
        "disaster = disaster.reset_index()\n",
        "disaster.columns.values"
      ],
      "execution_count": null,
      "outputs": [
        {
          "output_type": "execute_result",
          "data": {
            "text/plain": [
              "array(['Location', 'Year', 0], dtype=object)"
            ]
          },
          "metadata": {
            "tags": []
          },
          "execution_count": 38
        }
      ]
    },
    {
      "cell_type": "code",
      "metadata": {
        "id": "xExw19sop16Z",
        "colab": {
          "base_uri": "https://localhost:8080/"
        },
        "outputId": "a88a8782-4147-4ad2-bafb-320326f41607"
      },
      "source": [
        "disaster = disaster.rename(columns={0:'Count'})\n",
        "disaster"
      ],
      "execution_count": null,
      "outputs": [
        {
          "output_type": "execute_result",
          "data": {
            "text/html": [
              "<div>\n",
              "<style scoped>\n",
              "    .dataframe tbody tr th:only-of-type {\n",
              "        vertical-align: middle;\n",
              "    }\n",
              "\n",
              "    .dataframe tbody tr th {\n",
              "        vertical-align: top;\n",
              "    }\n",
              "\n",
              "    .dataframe thead th {\n",
              "        text-align: right;\n",
              "    }\n",
              "</style>\n",
              "<table border=\"1\" class=\"dataframe\">\n",
              "  <thead>\n",
              "    <tr style=\"text-align: right;\">\n",
              "      <th></th>\n",
              "      <th>Location</th>\n",
              "      <th>Year</th>\n",
              "      <th>Count</th>\n",
              "    </tr>\n",
              "  </thead>\n",
              "  <tbody>\n",
              "    <tr>\n",
              "      <th>0</th>\n",
              "      <td>Andhra Pradesh</td>\n",
              "      <td>2000</td>\n",
              "      <td>6</td>\n",
              "    </tr>\n",
              "    <tr>\n",
              "      <th>1</th>\n",
              "      <td>Andhra Pradesh</td>\n",
              "      <td>2001</td>\n",
              "      <td>1</td>\n",
              "    </tr>\n",
              "    <tr>\n",
              "      <th>2</th>\n",
              "      <td>Andhra Pradesh</td>\n",
              "      <td>2002</td>\n",
              "      <td>3</td>\n",
              "    </tr>\n",
              "    <tr>\n",
              "      <th>3</th>\n",
              "      <td>Andhra Pradesh</td>\n",
              "      <td>2003</td>\n",
              "      <td>2</td>\n",
              "    </tr>\n",
              "    <tr>\n",
              "      <th>4</th>\n",
              "      <td>Andhra Pradesh</td>\n",
              "      <td>2004</td>\n",
              "      <td>1</td>\n",
              "    </tr>\n",
              "    <tr>\n",
              "      <th>...</th>\n",
              "      <td>...</td>\n",
              "      <td>...</td>\n",
              "      <td>...</td>\n",
              "    </tr>\n",
              "    <tr>\n",
              "      <th>371</th>\n",
              "      <td>West Bengal</td>\n",
              "      <td>2014</td>\n",
              "      <td>1</td>\n",
              "    </tr>\n",
              "    <tr>\n",
              "      <th>372</th>\n",
              "      <td>West Bengal</td>\n",
              "      <td>2015</td>\n",
              "      <td>4</td>\n",
              "    </tr>\n",
              "    <tr>\n",
              "      <th>373</th>\n",
              "      <td>West Bengal</td>\n",
              "      <td>2017</td>\n",
              "      <td>3</td>\n",
              "    </tr>\n",
              "    <tr>\n",
              "      <th>374</th>\n",
              "      <td>West Bengal</td>\n",
              "      <td>2018</td>\n",
              "      <td>4</td>\n",
              "    </tr>\n",
              "    <tr>\n",
              "      <th>375</th>\n",
              "      <td>West Bengal</td>\n",
              "      <td>2019</td>\n",
              "      <td>2</td>\n",
              "    </tr>\n",
              "  </tbody>\n",
              "</table>\n",
              "<p>376 rows × 3 columns</p>\n",
              "</div>"
            ],
            "text/plain": [
              "           Location  Year  Count\n",
              "0    Andhra Pradesh  2000      6\n",
              "1    Andhra Pradesh  2001      1\n",
              "2    Andhra Pradesh  2002      3\n",
              "3    Andhra Pradesh  2003      2\n",
              "4    Andhra Pradesh  2004      1\n",
              "..              ...   ...    ...\n",
              "371     West Bengal  2014      1\n",
              "372     West Bengal  2015      4\n",
              "373     West Bengal  2017      3\n",
              "374     West Bengal  2018      4\n",
              "375     West Bengal  2019      2\n",
              "\n",
              "[376 rows x 3 columns]"
            ]
          },
          "metadata": {
            "tags": []
          },
          "execution_count": 39
        }
      ]
    },
    {
      "cell_type": "code",
      "metadata": {
        "id": "c4oifpO4qvLg"
      },
      "source": [
        "disaster.rename(columns = {'Location':'STATE/UT'}, inplace = True) \n",
        "\n",
        "disaster['STATE/UT'] = disaster['STATE/UT'].str.upper() "
      ],
      "execution_count": null,
      "outputs": []
    },
    {
      "cell_type": "code",
      "metadata": {
        "id": "tFmT16Ucq0KQ",
        "colab": {
          "base_uri": "https://localhost:8080/"
        },
        "outputId": "3dbedaf6-8b25-4d2a-c71e-c173695da171"
      },
      "source": [
        "disaster"
      ],
      "execution_count": null,
      "outputs": [
        {
          "output_type": "execute_result",
          "data": {
            "text/html": [
              "<div>\n",
              "<style scoped>\n",
              "    .dataframe tbody tr th:only-of-type {\n",
              "        vertical-align: middle;\n",
              "    }\n",
              "\n",
              "    .dataframe tbody tr th {\n",
              "        vertical-align: top;\n",
              "    }\n",
              "\n",
              "    .dataframe thead th {\n",
              "        text-align: right;\n",
              "    }\n",
              "</style>\n",
              "<table border=\"1\" class=\"dataframe\">\n",
              "  <thead>\n",
              "    <tr style=\"text-align: right;\">\n",
              "      <th></th>\n",
              "      <th>STATE/UT</th>\n",
              "      <th>Year</th>\n",
              "      <th>Count</th>\n",
              "    </tr>\n",
              "  </thead>\n",
              "  <tbody>\n",
              "    <tr>\n",
              "      <th>0</th>\n",
              "      <td>ANDHRA PRADESH</td>\n",
              "      <td>2000</td>\n",
              "      <td>6</td>\n",
              "    </tr>\n",
              "    <tr>\n",
              "      <th>1</th>\n",
              "      <td>ANDHRA PRADESH</td>\n",
              "      <td>2001</td>\n",
              "      <td>1</td>\n",
              "    </tr>\n",
              "    <tr>\n",
              "      <th>2</th>\n",
              "      <td>ANDHRA PRADESH</td>\n",
              "      <td>2002</td>\n",
              "      <td>3</td>\n",
              "    </tr>\n",
              "    <tr>\n",
              "      <th>3</th>\n",
              "      <td>ANDHRA PRADESH</td>\n",
              "      <td>2003</td>\n",
              "      <td>2</td>\n",
              "    </tr>\n",
              "    <tr>\n",
              "      <th>4</th>\n",
              "      <td>ANDHRA PRADESH</td>\n",
              "      <td>2004</td>\n",
              "      <td>1</td>\n",
              "    </tr>\n",
              "    <tr>\n",
              "      <th>...</th>\n",
              "      <td>...</td>\n",
              "      <td>...</td>\n",
              "      <td>...</td>\n",
              "    </tr>\n",
              "    <tr>\n",
              "      <th>371</th>\n",
              "      <td>WEST BENGAL</td>\n",
              "      <td>2014</td>\n",
              "      <td>1</td>\n",
              "    </tr>\n",
              "    <tr>\n",
              "      <th>372</th>\n",
              "      <td>WEST BENGAL</td>\n",
              "      <td>2015</td>\n",
              "      <td>4</td>\n",
              "    </tr>\n",
              "    <tr>\n",
              "      <th>373</th>\n",
              "      <td>WEST BENGAL</td>\n",
              "      <td>2017</td>\n",
              "      <td>3</td>\n",
              "    </tr>\n",
              "    <tr>\n",
              "      <th>374</th>\n",
              "      <td>WEST BENGAL</td>\n",
              "      <td>2018</td>\n",
              "      <td>4</td>\n",
              "    </tr>\n",
              "    <tr>\n",
              "      <th>375</th>\n",
              "      <td>WEST BENGAL</td>\n",
              "      <td>2019</td>\n",
              "      <td>2</td>\n",
              "    </tr>\n",
              "  </tbody>\n",
              "</table>\n",
              "<p>376 rows × 3 columns</p>\n",
              "</div>"
            ],
            "text/plain": [
              "           STATE/UT  Year  Count\n",
              "0    ANDHRA PRADESH  2000      6\n",
              "1    ANDHRA PRADESH  2001      1\n",
              "2    ANDHRA PRADESH  2002      3\n",
              "3    ANDHRA PRADESH  2003      2\n",
              "4    ANDHRA PRADESH  2004      1\n",
              "..              ...   ...    ...\n",
              "371     WEST BENGAL  2014      1\n",
              "372     WEST BENGAL  2015      4\n",
              "373     WEST BENGAL  2017      3\n",
              "374     WEST BENGAL  2018      4\n",
              "375     WEST BENGAL  2019      2\n",
              "\n",
              "[376 rows x 3 columns]"
            ]
          },
          "metadata": {
            "tags": []
          },
          "execution_count": 41
        }
      ]
    },
    {
      "cell_type": "markdown",
      "metadata": {
        "id": "e9QozRfaDsVY"
      },
      "source": [
        "###GET ONE STATE DATA"
      ]
    },
    {
      "cell_type": "code",
      "metadata": {
        "id": "_JKWdHBcxvPJ"
      },
      "source": [
        ""
      ],
      "execution_count": null,
      "outputs": []
    },
    {
      "cell_type": "code",
      "metadata": {
        "id": "AkR0Q5x_rQAJ"
      },
      "source": [
        "def getStateData(name):\n",
        "    name = name.upper()\n",
        "    \n",
        "    temp = crime\n",
        "    x = temp[temp['STATE/UT'] == name][2:]\n",
        "\n",
        "    temp = accident\n",
        "    y = temp[temp['STATE/UT']==name][:-2]\n",
        "    y = y.rename(columns={'Year':'YEAR'})\n",
        "\n",
        "    wb = pd.merge(y, x)\n",
        "    wb = wb.rename(columns={'count':'Accident', 'TOTAL IPC CRIMES':'Crime'})\n",
        "\n",
        "    temp = disaster\n",
        "    t = temp[temp['STATE/UT'] == name][3:-4]\n",
        "    t = t.rename(columns={'Count':'Disaster', 'Year':'YEAR'})\n",
        "    t['YEAR'] = t['YEAR'].astype('int64')\n",
        "\n",
        "    wb = pd.merge(wb,t)\n",
        "\n",
        "    return wb\n",
        "\n",
        "\n",
        "statedat = getStateData('West Bengal')"
      ],
      "execution_count": null,
      "outputs": []
    },
    {
      "cell_type": "code",
      "metadata": {
        "id": "bpwAW3QPxSag"
      },
      "source": [
        ""
      ],
      "execution_count": null,
      "outputs": []
    },
    {
      "cell_type": "code",
      "metadata": {
        "id": "nN9o-JVMsdnj",
        "colab": {
          "base_uri": "https://localhost:8080/"
        },
        "outputId": "4b8c2eba-596e-46c3-e7a0-f6d4568ad09c"
      },
      "source": [
        "statedat"
      ],
      "execution_count": null,
      "outputs": [
        {
          "output_type": "execute_result",
          "data": {
            "text/html": [
              "<div>\n",
              "<style scoped>\n",
              "    .dataframe tbody tr th:only-of-type {\n",
              "        vertical-align: middle;\n",
              "    }\n",
              "\n",
              "    .dataframe tbody tr th {\n",
              "        vertical-align: top;\n",
              "    }\n",
              "\n",
              "    .dataframe thead th {\n",
              "        text-align: right;\n",
              "    }\n",
              "</style>\n",
              "<table border=\"1\" class=\"dataframe\">\n",
              "  <thead>\n",
              "    <tr style=\"text-align: right;\">\n",
              "      <th></th>\n",
              "      <th>STATE/UT</th>\n",
              "      <th>YEAR</th>\n",
              "      <th>Accident</th>\n",
              "      <th>Crime</th>\n",
              "      <th>Disaster</th>\n",
              "    </tr>\n",
              "  </thead>\n",
              "  <tbody>\n",
              "    <tr>\n",
              "      <th>0</th>\n",
              "      <td>WEST BENGAL</td>\n",
              "      <td>2003</td>\n",
              "      <td>1793.0</td>\n",
              "      <td>122348</td>\n",
              "      <td>3</td>\n",
              "    </tr>\n",
              "    <tr>\n",
              "      <th>1</th>\n",
              "      <td>WEST BENGAL</td>\n",
              "      <td>2004</td>\n",
              "      <td>2246.0</td>\n",
              "      <td>138700</td>\n",
              "      <td>1</td>\n",
              "    </tr>\n",
              "    <tr>\n",
              "      <th>2</th>\n",
              "      <td>WEST BENGAL</td>\n",
              "      <td>2005</td>\n",
              "      <td>4073.0</td>\n",
              "      <td>132812</td>\n",
              "      <td>6</td>\n",
              "    </tr>\n",
              "    <tr>\n",
              "      <th>3</th>\n",
              "      <td>WEST BENGAL</td>\n",
              "      <td>2006</td>\n",
              "      <td>3896.0</td>\n",
              "      <td>136104</td>\n",
              "      <td>1</td>\n",
              "    </tr>\n",
              "    <tr>\n",
              "      <th>4</th>\n",
              "      <td>WEST BENGAL</td>\n",
              "      <td>2007</td>\n",
              "      <td>4232.0</td>\n",
              "      <td>162204</td>\n",
              "      <td>3</td>\n",
              "    </tr>\n",
              "    <tr>\n",
              "      <th>5</th>\n",
              "      <td>WEST BENGAL</td>\n",
              "      <td>2008</td>\n",
              "      <td>4671.0</td>\n",
              "      <td>210838</td>\n",
              "      <td>2</td>\n",
              "    </tr>\n",
              "    <tr>\n",
              "      <th>6</th>\n",
              "      <td>WEST BENGAL</td>\n",
              "      <td>2009</td>\n",
              "      <td>4135.0</td>\n",
              "      <td>226072</td>\n",
              "      <td>3</td>\n",
              "    </tr>\n",
              "    <tr>\n",
              "      <th>7</th>\n",
              "      <td>WEST BENGAL</td>\n",
              "      <td>2010</td>\n",
              "      <td>4975.0</td>\n",
              "      <td>259232</td>\n",
              "      <td>1</td>\n",
              "    </tr>\n",
              "    <tr>\n",
              "      <th>8</th>\n",
              "      <td>WEST BENGAL</td>\n",
              "      <td>2011</td>\n",
              "      <td>5107.0</td>\n",
              "      <td>286394</td>\n",
              "      <td>2</td>\n",
              "    </tr>\n",
              "    <tr>\n",
              "      <th>9</th>\n",
              "      <td>WEST BENGAL</td>\n",
              "      <td>2012</td>\n",
              "      <td>4911.0</td>\n",
              "      <td>322854</td>\n",
              "      <td>1</td>\n",
              "    </tr>\n",
              "    <tr>\n",
              "      <th>10</th>\n",
              "      <td>WEST BENGAL</td>\n",
              "      <td>2013</td>\n",
              "      <td>5077.0</td>\n",
              "      <td>339070</td>\n",
              "      <td>3</td>\n",
              "    </tr>\n",
              "    <tr>\n",
              "      <th>11</th>\n",
              "      <td>WEST BENGAL</td>\n",
              "      <td>2014</td>\n",
              "      <td>5489.0</td>\n",
              "      <td>386096</td>\n",
              "      <td>1</td>\n",
              "    </tr>\n",
              "  </tbody>\n",
              "</table>\n",
              "</div>"
            ],
            "text/plain": [
              "       STATE/UT  YEAR  Accident   Crime  Disaster\n",
              "0   WEST BENGAL  2003    1793.0  122348         3\n",
              "1   WEST BENGAL  2004    2246.0  138700         1\n",
              "2   WEST BENGAL  2005    4073.0  132812         6\n",
              "3   WEST BENGAL  2006    3896.0  136104         1\n",
              "4   WEST BENGAL  2007    4232.0  162204         3\n",
              "5   WEST BENGAL  2008    4671.0  210838         2\n",
              "6   WEST BENGAL  2009    4135.0  226072         3\n",
              "7   WEST BENGAL  2010    4975.0  259232         1\n",
              "8   WEST BENGAL  2011    5107.0  286394         2\n",
              "9   WEST BENGAL  2012    4911.0  322854         1\n",
              "10  WEST BENGAL  2013    5077.0  339070         3\n",
              "11  WEST BENGAL  2014    5489.0  386096         1"
            ]
          },
          "metadata": {
            "tags": []
          },
          "execution_count": 43
        }
      ]
    },
    {
      "cell_type": "code",
      "metadata": {
        "id": "AhHHrRyYtXlS",
        "colab": {
          "base_uri": "https://localhost:8080/"
        },
        "outputId": "0d6808fe-91ad-41ae-bc7d-c1e89c3671bb"
      },
      "source": [
        "statedat.max()"
      ],
      "execution_count": null,
      "outputs": [
        {
          "output_type": "execute_result",
          "data": {
            "text/plain": [
              "STATE/UT    WEST BENGAL\n",
              "YEAR               2014\n",
              "Accident           5489\n",
              "Crime            386096\n",
              "Disaster              6\n",
              "dtype: object"
            ]
          },
          "metadata": {
            "tags": []
          },
          "execution_count": 44
        }
      ]
    },
    {
      "cell_type": "markdown",
      "metadata": {
        "id": "Tekqt4RkaO6Y"
      },
      "source": [
        "###FUZZY ON ONE STATE"
      ]
    },
    {
      "cell_type": "code",
      "metadata": {
        "id": "m438_ixDWf7O"
      },
      "source": [
        "#Select Antecedent\n",
        "\n",
        "crimef = ctrl.Antecedent(np.arange(statedat['Crime'].min(), statedat['Crime'].max()+1, 1), 'crime')\n",
        "accidentf = ctrl.Antecedent(np.arange(statedat['Accident'].min(), statedat['Accident'].max()+1, 1), 'accident')\n",
        "disasterf = ctrl.Antecedent(np.arange(statedat['Disaster'].min()-1, statedat['Disaster'].max()+1, 1), 'disaster')"
      ],
      "execution_count": null,
      "outputs": []
    },
    {
      "cell_type": "code",
      "metadata": {
        "id": "4ra7Ps_fXduH"
      },
      "source": [
        "#Select Consequent\n",
        "scoref = ctrl.Consequent(np.arange(0,11,1), 'score')"
      ],
      "execution_count": null,
      "outputs": []
    },
    {
      "cell_type": "code",
      "metadata": {
        "id": "qKPyF1JTXKHP"
      },
      "source": [
        "#Auto membership function population\n",
        "crimef.automf(3)\n",
        "accidentf.automf(3)\n",
        "disasterf.automf(3)\n",
        "scoref.automf(3)\n",
        "\n",
        "# disasterf['poor'] = fuzz.trimf(disasterf.universe, [1, 1, statedat['Disaster'].max()/2])\n",
        "# disasterf['average'] = fuzz.trimf(disasterf.universe, [1, statedat['Disaster'].max()/2, statedat['Disaster'].max()])\n",
        "# disasterf['good'] = fuzz.trimf(disasterf.universe, [statedat['Disaster'].max()/2, statedat['Disaster'].max()/2, statedat['Disaster'].max()])\n",
        "# scoref['poor'] = fuzz.trimf(scoref.universe, [0,0,5])\n",
        "# scoref['average'] = fuzz.trimf(scoref.universe, [0, 5, 10])\n",
        "# scoref['good'] = fuzz.trimf(scoref.universe, [5, 10, 10])"
      ],
      "execution_count": null,
      "outputs": []
    },
    {
      "cell_type": "code",
      "metadata": {
        "id": "ExIK9uu-YmxW",
        "colab": {
          "base_uri": "https://localhost:8080/"
        },
        "outputId": "ef7694dd-3a0c-4a6b-83d3-cf619e61b91a"
      },
      "source": [
        "statedat['Disaster'].min()"
      ],
      "execution_count": null,
      "outputs": [
        {
          "output_type": "execute_result",
          "data": {
            "text/plain": [
              "1"
            ]
          },
          "metadata": {
            "tags": []
          },
          "execution_count": 48
        }
      ]
    },
    {
      "cell_type": "code",
      "metadata": {
        "id": "2xAGR29FYc_p",
        "colab": {
          "base_uri": "https://localhost:8080/"
        },
        "outputId": "c96dd0f5-d430-4821-a5d3-45d9527a7641"
      },
      "source": [
        "crimef.view()"
      ],
      "execution_count": null,
      "outputs": [
        {
          "output_type": "display_data",
          "data": {
            "image/png": "[encoded data removed]",
            "text/plain": [
              "<Figure size 432x288 with 1 Axes>"
            ]
          },
          "metadata": {
            "tags": [],
            "needs_background": "light"
          }
        }
      ]
    },
    {
      "cell_type": "code",
      "metadata": {
        "id": "pTDjW0baYrxD",
        "colab": {
          "base_uri": "https://localhost:8080/"
        },
        "outputId": "e805cdef-4115-447d-8dc7-e6f30f697b3a"
      },
      "source": [
        "accidentf.view()"
      ],
      "execution_count": null,
      "outputs": [
        {
          "output_type": "display_data",
          "data": {
            "image/png": "[encoded data removed]",
            "text/plain": [
              "<Figure size 432x288 with 1 Axes>"
            ]
          },
          "metadata": {
            "tags": [],
            "needs_background": "light"
          }
        }
      ]
    },
    {
      "cell_type": "code",
      "metadata": {
        "id": "X5MKf4G1Yz3v",
        "colab": {
          "base_uri": "https://localhost:8080/"
        },
        "outputId": "7a447d45-8062-4361-8636-ed900921f739"
      },
      "source": [
        "disasterf.view()"
      ],
      "execution_count": null,
      "outputs": [
        {
          "output_type": "display_data",
          "data": {
            "image/png": "[encoded data removed]",
            "text/plain": [
              "<Figure size 432x288 with 1 Axes>"
            ]
          },
          "metadata": {
            "tags": [],
            "needs_background": "light"
          }
        }
      ]
    },
    {
      "cell_type": "code",
      "metadata": {
        "id": "qhjT-ndndiQE",
        "colab": {
          "base_uri": "https://localhost:8080/"
        },
        "outputId": "5587da30-fb27-4027-9d3b-541aed348d80"
      },
      "source": [
        "scoref.view()"
      ],
      "execution_count": null,
      "outputs": [
        {
          "output_type": "display_data",
          "data": {
            "image/png": "[encoded data removed]",
            "text/plain": [
              "<Figure size 432x288 with 1 Axes>"
            ]
          },
          "metadata": {
            "tags": [],
            "needs_background": "light"
          }
        }
      ]
    },
    {
      "cell_type": "code",
      "metadata": {
        "id": "RS1jnr5AY2PL"
      },
      "source": [
        "#Fuzzy Rules\n",
        "#disaster > accident > crime\n",
        "#Poor < average < good\n",
        "# rule1 = ctrl.Rule(disasterf['good'], scoref['good'])\n",
        "# rule2 = ctrl.Rule(crimef['poor'] & accidentf['poor'] & disasterf['good'], scoref['average'])\n",
        "# rule3 = ctrl.Rule(disasterf['average'] & accidentf['good'], scoref['good'])\n",
        "# rule4 = ctrl.Rule(disasterf['average'] & accidentf['average'] & (crimef['poor'] | crimef['average']), scoref['average'])\n",
        "# rule5 = ctrl.Rule(disasterf['average'] & accidentf['poor'] & (crimef['average'] | crimef['good']), scoref['average'])\n",
        "# rule6 =ctrl.Rule(accidentf['poor'] & crimef['poor'] & (disasterf['poor'] | disasterf['average']), scoref['poor'])\n",
        "# rule7 = ctrl.Rule(disasterf['poor'] & accidentf['good'] & (crimef['average'] | crimef['good']), scoref['good'])\n",
        "# rule8 = ctrl.Rule(disasterf['poor'] & crimef['poor'] & accidentf['good'], scoref['average'])\n",
        "# rule9 = ctrl.Rule(disasterf['poor'] & accidentf['average'] & (crimef['average'] & crimef['average']), scoref['average'])\n",
        "# rule10 = ctrl.Rule(disasterf['poor'] & accidentf['average'] & crimef['poor'], scoref['poor'])\n",
        "# rule11 = ctrl.Rule(disasterf['poor'] & accidentf['poor'] & (crimef['average'] & crimef['poor']), scoref['poor'])\n",
        "# rule12 = ctrl.Rule(disasterf['poor'] & accidentf['poor'] & crimef['good'], scoref['average'])\n",
        "\n",
        "rule1 = ctrl.Rule(disasterf['poor'] & accidentf['poor'] & crimef['poor'], scoref['poor'])\n",
        "rule2 = ctrl.Rule(disasterf['poor'] & accidentf['poor'] & crimef['average'], scoref['poor'])\n",
        "rule3 = ctrl.Rule(disasterf['poor'] & accidentf['poor'] & crimef['good'], scoref['average'])\n",
        "rule4 = ctrl.Rule(disasterf['poor'] & accidentf['average'] & crimef['poor'], scoref['poor'])\n",
        "rule5 = ctrl.Rule(disasterf['poor'] & accidentf['average'] & crimef['average'], scoref['average'])\n",
        "rule6 = ctrl.Rule(disasterf['poor'] & accidentf['average'] & crimef['good'], scoref['average'])\n",
        "rule7 = ctrl.Rule(disasterf['poor'] & accidentf['good'] & crimef['poor'], scoref['average'])\n",
        "rule8 = ctrl.Rule(disasterf['poor'] & accidentf['good'] & crimef['average'], scoref['good'])\n",
        "rule9 = ctrl.Rule(disasterf['poor'] & accidentf['good'] & crimef['good'], scoref['good'])\n",
        "\n",
        "rule10 = ctrl.Rule(disasterf['average'] & accidentf['poor'] & crimef['poor'], scoref['poor'])\n",
        "rule11 = ctrl.Rule(disasterf['average'] & accidentf['poor'] & crimef['average'], scoref['average'])\n",
        "rule12 = ctrl.Rule(disasterf['average'] & accidentf['poor'] & crimef['good'], scoref['average'])\n",
        "rule13 = ctrl.Rule(disasterf['average'] & accidentf['average'] & crimef['poor'], scoref['average'])\n",
        "rule14 = ctrl.Rule(disasterf['average'] & accidentf['average'] & crimef['average'], scoref['average'])\n",
        "rule15 = ctrl.Rule(disasterf['average'] & accidentf['average'] & crimef['good'], scoref['good'])\n",
        "rule16 = ctrl.Rule(disasterf['average'] & accidentf['good'] & crimef['poor'], scoref['good'])\n",
        "rule17 = ctrl.Rule(disasterf['average'] & accidentf['good'] & crimef['average'], scoref['good'])\n",
        "rule18 = ctrl.Rule(disasterf['average'] & accidentf['good'] & crimef['good'], scoref['good'])\n",
        "\n",
        "rule19 = ctrl.Rule(disasterf['good'] & accidentf['poor'] & crimef['poor'], scoref['average'])\n",
        "rule20 = ctrl.Rule(disasterf['good'] & accidentf['poor'] & crimef['average'], scoref['good'])\n",
        "rule21 = ctrl.Rule(disasterf['good'] & accidentf['poor'] & crimef['good'], scoref['good'])\n",
        "rule22 = ctrl.Rule(disasterf['good'] & accidentf['average'] & crimef['poor'], scoref['good'])\n",
        "rule23 = ctrl.Rule(disasterf['good'] & accidentf['average'] & crimef['average'], scoref['good'])\n",
        "rule24 = ctrl.Rule(disasterf['good'] & accidentf['average'] & crimef['good'], scoref['good'])\n",
        "rule25 = ctrl.Rule(disasterf['good'] & accidentf['good'] & crimef['poor'], scoref['good'])\n",
        "rule26 = ctrl.Rule(disasterf['good'] & accidentf['good'] & crimef['average'], scoref['good'])\n",
        "rule27 = ctrl.Rule(disasterf['good'] & accidentf['good'] & crimef['good'], scoref['good'])\n",
        "\n",
        "# rule1 = ctrl.Rule(crimef['poor'] | accidentf['poor'], scoref['poor'])\n",
        "# rule2 = ctrl.Rule(crimef['average'] & accidentf['average'], scoref['average'])\n",
        "# rule3 = ctrl.Rule(crimef['good'] | accidentf['good'], scoref['good'])"
      ],
      "execution_count": null,
      "outputs": []
    },
    {
      "cell_type": "code",
      "metadata": {
        "id": "lFlGzIvfdr2g"
      },
      "source": [
        "score_control = ctrl.ControlSystem([rule1,rule2,rule3,rule4,rule5,rule6,rule7,rule8,rule9,rule10,rule11,rule12,rule13,rule14,rule15,rule16,rule17,rule18,rule19,rule20,rule21,rule22,rule23,rule24,rule25,rule26,rule27])\n",
        "# score_control = ctrl.ControlSystem([rule1, rule2, rule3])"
      ],
      "execution_count": null,
      "outputs": []
    },
    {
      "cell_type": "code",
      "metadata": {
        "id": "yhgD03QEjemW"
      },
      "source": [
        "score_calc = ctrl.ControlSystemSimulation(score_control)"
      ],
      "execution_count": null,
      "outputs": []
    },
    {
      "cell_type": "code",
      "metadata": {
        "id": "nrQVbXe5j5DS"
      },
      "source": [
        "def getStateScore(statedat):\n",
        "  scores  = []\n",
        "\n",
        "  crimef = ctrl.Antecedent(np.arange(statedat['Crime'].min(), statedat['Crime'].max()+1, 1), 'crime')\n",
        "  accidentf = ctrl.Antecedent(np.arange(statedat['Accident'].min(), statedat['Accident'].max()+1, 1), 'accident')\n",
        "  disasterf = ctrl.Antecedent(np.arange(statedat['Disaster'].min()-1, statedat['Disaster'].max()+1, 1), 'disaster')\n",
        "  scoref = ctrl.Consequent(np.arange(0,11,1), 'score')\n",
        "  crimef.automf(3)\n",
        "  accidentf.automf(3)\n",
        "  disasterf.automf(3)\n",
        "  scoref.automf(3)\n",
        "  \n",
        "  rule1 = ctrl.Rule(disasterf['poor'] & accidentf['poor'] & crimef['poor'], scoref['poor'])\n",
        "  rule2 = ctrl.Rule(disasterf['poor'] & accidentf['poor'] & crimef['average'], scoref['poor'])\n",
        "  rule3 = ctrl.Rule(disasterf['poor'] & accidentf['poor'] & crimef['good'], scoref['average'])\n",
        "  rule4 = ctrl.Rule(disasterf['poor'] & accidentf['average'] & crimef['poor'], scoref['poor'])\n",
        "  rule5 = ctrl.Rule(disasterf['poor'] & accidentf['average'] & crimef['average'], scoref['average'])\n",
        "  rule6 = ctrl.Rule(disasterf['poor'] & accidentf['average'] & crimef['good'], scoref['average'])\n",
        "  rule7 = ctrl.Rule(disasterf['poor'] & accidentf['good'] & crimef['poor'], scoref['average'])\n",
        "  rule8 = ctrl.Rule(disasterf['poor'] & accidentf['good'] & crimef['average'], scoref['good'])\n",
        "  rule9 = ctrl.Rule(disasterf['poor'] & accidentf['good'] & crimef['good'], scoref['good'])\n",
        "\n",
        "  rule10 = ctrl.Rule(disasterf['average'] & accidentf['poor'] & crimef['poor'], scoref['poor'])\n",
        "  rule11 = ctrl.Rule(disasterf['average'] & accidentf['poor'] & crimef['average'], scoref['average'])\n",
        "  rule12 = ctrl.Rule(disasterf['average'] & accidentf['poor'] & crimef['good'], scoref['average'])\n",
        "  rule13 = ctrl.Rule(disasterf['average'] & accidentf['average'] & crimef['poor'], scoref['average'])\n",
        "  rule14 = ctrl.Rule(disasterf['average'] & accidentf['average'] & crimef['average'], scoref['average'])\n",
        "  rule15 = ctrl.Rule(disasterf['average'] & accidentf['average'] & crimef['good'], scoref['good'])\n",
        "  rule16 = ctrl.Rule(disasterf['average'] & accidentf['good'] & crimef['poor'], scoref['good'])\n",
        "  rule17 = ctrl.Rule(disasterf['average'] & accidentf['good'] & crimef['average'], scoref['good'])\n",
        "  rule18 = ctrl.Rule(disasterf['average'] & accidentf['good'] & crimef['good'], scoref['good'])\n",
        "\n",
        "  rule19 = ctrl.Rule(disasterf['good'] & accidentf['poor'] & crimef['poor'], scoref['average'])\n",
        "  rule20 = ctrl.Rule(disasterf['good'] & accidentf['poor'] & crimef['average'], scoref['good'])\n",
        "  rule21 = ctrl.Rule(disasterf['good'] & accidentf['poor'] & crimef['good'], scoref['good'])\n",
        "  rule22 = ctrl.Rule(disasterf['good'] & accidentf['average'] & crimef['poor'], scoref['good'])\n",
        "  rule23 = ctrl.Rule(disasterf['good'] & accidentf['average'] & crimef['average'], scoref['good'])\n",
        "  rule24 = ctrl.Rule(disasterf['good'] & accidentf['average'] & crimef['good'], scoref['good'])\n",
        "  rule25 = ctrl.Rule(disasterf['good'] & accidentf['good'] & crimef['poor'], scoref['good'])\n",
        "  rule26 = ctrl.Rule(disasterf['good'] & accidentf['good'] & crimef['average'], scoref['good'])\n",
        "  rule27 = ctrl.Rule(disasterf['good'] & accidentf['good'] & crimef['good'], scoref['good'])\n",
        "\n",
        "  score_control = ctrl.ControlSystem([rule1,rule2,rule3,rule4,rule5,rule6,rule7,rule8,rule9,rule10,rule11,rule12,rule13,rule14,rule15,rule16,rule17,rule18,rule19,rule20,rule21,rule22,rule23,rule24,rule25,rule26,rule27])\n",
        "\n",
        "  score_calc = ctrl.ControlSystemSimulation(score_control)\n",
        "  for i, j in statedat.iterrows():\n",
        "    \n",
        "    #checking on mean values\n",
        "    score_calc.input['disaster'] = j.Disaster\n",
        "    score_calc.input['accident'] = j.Accident\n",
        "    score_calc.input['crime'] = j.Crime\n",
        "\n",
        "    score_calc.compute()\n",
        "\n",
        "    # print(score_calc.output['score'])\n",
        "    scores.append(10 - score_calc.output['score'])\n",
        "\n",
        "  # print(scores)\n",
        "  statedat['Score'] = scores\n",
        "  return statedat\n",
        "\n",
        "#checking on mean values\n",
        "# score_calc.input['disaster'] = j.Disaster\n",
        "# score_calc.input['accident'] = j.Accident\n",
        "# score_calc.input['crime'] = j.Crime\n",
        "\n",
        "# score_calc.compute()\n",
        "# print(score_calc.output['score'])\n"
      ],
      "execution_count": null,
      "outputs": []
    },
    {
      "cell_type": "code",
      "metadata": {
        "id": "BvJ_GJh4smbX"
      },
      "source": [
        ""
      ],
      "execution_count": null,
      "outputs": []
    },
    {
      "cell_type": "code",
      "metadata": {
        "id": "hkQzGnK1j9OZ",
        "colab": {
          "base_uri": "https://localhost:8080/"
        },
        "outputId": "618d3614-0cd2-4ddc-eda5-f349b00bf0eb"
      },
      "source": [
        "plt.plot(statedat['YEAR'], statedat['Score'])"
      ],
      "execution_count": null,
      "outputs": [
        {
          "output_type": "error",
          "ename": "KeyError",
          "evalue": "ignored",
          "traceback": [
            "\u001b[0;31m---------------------------------------------------------------------------\u001b[0m",
            "\u001b[0;31mKeyError\u001b[0m                                  Traceback (most recent call last)",
            "\u001b[0;32m/usr/local/lib/python3.6/dist-packages/pandas/core/indexes/base.py\u001b[0m in \u001b[0;36mget_loc\u001b[0;34m(self, key, method, tolerance)\u001b[0m\n\u001b[1;32m   2645\u001b[0m             \u001b[0;32mtry\u001b[0m\u001b[0;34m:\u001b[0m\u001b[0;34m\u001b[0m\u001b[0;34m\u001b[0m\u001b[0m\n\u001b[0;32m-> 2646\u001b[0;31m                 \u001b[0;32mreturn\u001b[0m \u001b[0mself\u001b[0m\u001b[0;34m.\u001b[0m\u001b[0m_engine\u001b[0m\u001b[0;34m.\u001b[0m\u001b[0mget_loc\u001b[0m\u001b[0;34m(\u001b[0m\u001b[0mkey\u001b[0m\u001b[0;34m)\u001b[0m\u001b[0;34m\u001b[0m\u001b[0;34m\u001b[0m\u001b[0m\n\u001b[0m\u001b[1;32m   2647\u001b[0m             \u001b[0;32mexcept\u001b[0m \u001b[0mKeyError\u001b[0m\u001b[0;34m:\u001b[0m\u001b[0;34m\u001b[0m\u001b[0;34m\u001b[0m\u001b[0m\n",
            "\u001b[0;32mpandas/_libs/index.pyx\u001b[0m in \u001b[0;36mpandas._libs.index.IndexEngine.get_loc\u001b[0;34m()\u001b[0m\n",
            "\u001b[0;32mpandas/_libs/index.pyx\u001b[0m in \u001b[0;36mpandas._libs.index.IndexEngine.get_loc\u001b[0;34m()\u001b[0m\n",
            "\u001b[0;32mpandas/_libs/hashtable_class_helper.pxi\u001b[0m in \u001b[0;36mpandas._libs.hashtable.PyObjectHashTable.get_item\u001b[0;34m()\u001b[0m\n",
            "\u001b[0;32mpandas/_libs/hashtable_class_helper.pxi\u001b[0m in \u001b[0;36mpandas._libs.hashtable.PyObjectHashTable.get_item\u001b[0;34m()\u001b[0m\n",
            "\u001b[0;31mKeyError\u001b[0m: 'Score'",
            "\nDuring handling of the above exception, another exception occurred:\n",
            "\u001b[0;31mKeyError\u001b[0m                                  Traceback (most recent call last)",
            "\u001b[0;32m<ipython-input-57-da80407ff52d>\u001b[0m in \u001b[0;36m<module>\u001b[0;34m()\u001b[0m\n\u001b[0;32m----> 1\u001b[0;31m \u001b[0mplt\u001b[0m\u001b[0;34m.\u001b[0m\u001b[0mplot\u001b[0m\u001b[0;34m(\u001b[0m\u001b[0mstatedat\u001b[0m\u001b[0;34m[\u001b[0m\u001b[0;34m'YEAR'\u001b[0m\u001b[0;34m]\u001b[0m\u001b[0;34m,\u001b[0m \u001b[0mstatedat\u001b[0m\u001b[0;34m[\u001b[0m\u001b[0;34m'Score'\u001b[0m\u001b[0;34m]\u001b[0m\u001b[0;34m)\u001b[0m\u001b[0;34m\u001b[0m\u001b[0;34m\u001b[0m\u001b[0m\n\u001b[0m",
            "\u001b[0;32m/usr/local/lib/python3.6/dist-packages/pandas/core/frame.py\u001b[0m in \u001b[0;36m__getitem__\u001b[0;34m(self, key)\u001b[0m\n\u001b[1;32m   2798\u001b[0m             \u001b[0;32mif\u001b[0m \u001b[0mself\u001b[0m\u001b[0;34m.\u001b[0m\u001b[0mcolumns\u001b[0m\u001b[0;34m.\u001b[0m\u001b[0mnlevels\u001b[0m \u001b[0;34m>\u001b[0m \u001b[0;36m1\u001b[0m\u001b[0;34m:\u001b[0m\u001b[0;34m\u001b[0m\u001b[0;34m\u001b[0m\u001b[0m\n\u001b[1;32m   2799\u001b[0m                 \u001b[0;32mreturn\u001b[0m \u001b[0mself\u001b[0m\u001b[0;34m.\u001b[0m\u001b[0m_getitem_multilevel\u001b[0m\u001b[0;34m(\u001b[0m\u001b[0mkey\u001b[0m\u001b[0;34m)\u001b[0m\u001b[0;34m\u001b[0m\u001b[0;34m\u001b[0m\u001b[0m\n\u001b[0;32m-> 2800\u001b[0;31m             \u001b[0mindexer\u001b[0m \u001b[0;34m=\u001b[0m \u001b[0mself\u001b[0m\u001b[0;34m.\u001b[0m\u001b[0mcolumns\u001b[0m\u001b[0;34m.\u001b[0m\u001b[0mget_loc\u001b[0m\u001b[0;34m(\u001b[0m\u001b[0mkey\u001b[0m\u001b[0;34m)\u001b[0m\u001b[0;34m\u001b[0m\u001b[0;34m\u001b[0m\u001b[0m\n\u001b[0m\u001b[1;32m   2801\u001b[0m             \u001b[0;32mif\u001b[0m \u001b[0mis_integer\u001b[0m\u001b[0;34m(\u001b[0m\u001b[0mindexer\u001b[0m\u001b[0;34m)\u001b[0m\u001b[0;34m:\u001b[0m\u001b[0;34m\u001b[0m\u001b[0;34m\u001b[0m\u001b[0m\n\u001b[1;32m   2802\u001b[0m                 \u001b[0mindexer\u001b[0m \u001b[0;34m=\u001b[0m \u001b[0;34m[\u001b[0m\u001b[0mindexer\u001b[0m\u001b[0;34m]\u001b[0m\u001b[0;34m\u001b[0m\u001b[0;34m\u001b[0m\u001b[0m\n",
            "\u001b[0;32m/usr/local/lib/python3.6/dist-packages/pandas/core/indexes/base.py\u001b[0m in \u001b[0;36mget_loc\u001b[0;34m(self, key, method, tolerance)\u001b[0m\n\u001b[1;32m   2646\u001b[0m                 \u001b[0;32mreturn\u001b[0m \u001b[0mself\u001b[0m\u001b[0;34m.\u001b[0m\u001b[0m_engine\u001b[0m\u001b[0;34m.\u001b[0m\u001b[0mget_loc\u001b[0m\u001b[0;34m(\u001b[0m\u001b[0mkey\u001b[0m\u001b[0;34m)\u001b[0m\u001b[0;34m\u001b[0m\u001b[0;34m\u001b[0m\u001b[0m\n\u001b[1;32m   2647\u001b[0m             \u001b[0;32mexcept\u001b[0m \u001b[0mKeyError\u001b[0m\u001b[0;34m:\u001b[0m\u001b[0;34m\u001b[0m\u001b[0;34m\u001b[0m\u001b[0m\n\u001b[0;32m-> 2648\u001b[0;31m                 \u001b[0;32mreturn\u001b[0m \u001b[0mself\u001b[0m\u001b[0;34m.\u001b[0m\u001b[0m_engine\u001b[0m\u001b[0;34m.\u001b[0m\u001b[0mget_loc\u001b[0m\u001b[0;34m(\u001b[0m\u001b[0mself\u001b[0m\u001b[0;34m.\u001b[0m\u001b[0m_maybe_cast_indexer\u001b[0m\u001b[0;34m(\u001b[0m\u001b[0mkey\u001b[0m\u001b[0;34m)\u001b[0m\u001b[0;34m)\u001b[0m\u001b[0;34m\u001b[0m\u001b[0;34m\u001b[0m\u001b[0m\n\u001b[0m\u001b[1;32m   2649\u001b[0m         \u001b[0mindexer\u001b[0m \u001b[0;34m=\u001b[0m \u001b[0mself\u001b[0m\u001b[0;34m.\u001b[0m\u001b[0mget_indexer\u001b[0m\u001b[0;34m(\u001b[0m\u001b[0;34m[\u001b[0m\u001b[0mkey\u001b[0m\u001b[0;34m]\u001b[0m\u001b[0;34m,\u001b[0m \u001b[0mmethod\u001b[0m\u001b[0;34m=\u001b[0m\u001b[0mmethod\u001b[0m\u001b[0;34m,\u001b[0m \u001b[0mtolerance\u001b[0m\u001b[0;34m=\u001b[0m\u001b[0mtolerance\u001b[0m\u001b[0;34m)\u001b[0m\u001b[0;34m\u001b[0m\u001b[0;34m\u001b[0m\u001b[0m\n\u001b[1;32m   2650\u001b[0m         \u001b[0;32mif\u001b[0m \u001b[0mindexer\u001b[0m\u001b[0;34m.\u001b[0m\u001b[0mndim\u001b[0m \u001b[0;34m>\u001b[0m \u001b[0;36m1\u001b[0m \u001b[0;32mor\u001b[0m \u001b[0mindexer\u001b[0m\u001b[0;34m.\u001b[0m\u001b[0msize\u001b[0m \u001b[0;34m>\u001b[0m \u001b[0;36m1\u001b[0m\u001b[0;34m:\u001b[0m\u001b[0;34m\u001b[0m\u001b[0;34m\u001b[0m\u001b[0m\n",
            "\u001b[0;32mpandas/_libs/index.pyx\u001b[0m in \u001b[0;36mpandas._libs.index.IndexEngine.get_loc\u001b[0;34m()\u001b[0m\n",
            "\u001b[0;32mpandas/_libs/index.pyx\u001b[0m in \u001b[0;36mpandas._libs.index.IndexEngine.get_loc\u001b[0;34m()\u001b[0m\n",
            "\u001b[0;32mpandas/_libs/hashtable_class_helper.pxi\u001b[0m in \u001b[0;36mpandas._libs.hashtable.PyObjectHashTable.get_item\u001b[0;34m()\u001b[0m\n",
            "\u001b[0;32mpandas/_libs/hashtable_class_helper.pxi\u001b[0m in \u001b[0;36mpandas._libs.hashtable.PyObjectHashTable.get_item\u001b[0;34m()\u001b[0m\n",
            "\u001b[0;31mKeyError\u001b[0m: 'Score'"
          ]
        }
      ]
    },
    {
      "cell_type": "code",
      "metadata": {
        "id": "1KoKy9ckkPsN"
      },
      "source": [
        "plt.plot(statedat['YEAR'], statedat['Crime'], )"
      ],
      "execution_count": null,
      "outputs": []
    },
    {
      "cell_type": "code",
      "metadata": {
        "id": "CMsP8D66kQD6"
      },
      "source": [
        "plt.plot(statedat['YEAR'], statedat['Accident'])"
      ],
      "execution_count": null,
      "outputs": []
    },
    {
      "cell_type": "code",
      "metadata": {
        "id": "NbUMq2QEkQaV"
      },
      "source": [
        "plt.plot(statedat['YEAR'], statedat['Disaster'])"
      ],
      "execution_count": null,
      "outputs": []
    },
    {
      "cell_type": "code",
      "metadata": {
        "id": "tzEroXTmkGqp"
      },
      "source": [
        "print(score_calc.output['score'])\n",
        "scoref.view(sim=score_calc)"
      ],
      "execution_count": null,
      "outputs": []
    },
    {
      "cell_type": "markdown",
      "metadata": {
        "id": "VqAgf1PYLb-1"
      },
      "source": [
        "##Test for disaster"
      ]
    },
    {
      "cell_type": "code",
      "metadata": {
        "id": "klb6OAjqIcLX"
      },
      "source": [
        "prediction = np.zeros(6)\n",
        "for d in range(statedat['Disaster'].min(), statedat['Disaster'].max()+1):\n",
        "  score_calc.input['disaster'] = d\n",
        "  score_calc.input['accident'] = statedat['Accident'].mean()\n",
        "  score_calc.input['crime'] = statedat['Crime'].mean()\n",
        "  print(d)\n",
        "  score_calc.compute()\n",
        "  print(score_calc.output['score'])\n",
        "  prediction[d-1] = score_calc.output['score']  \n"
      ],
      "execution_count": null,
      "outputs": []
    },
    {
      "cell_type": "code",
      "metadata": {
        "id": "0hkiokJoJ0mg"
      },
      "source": [
        "plt.plot([1,2,3,4,5,6], prediction, 'k')\n",
        "plt.xlabel('Disaster count')\n",
        "plt.ylabel('Disaster score')\n",
        "plt.savefig('disaster.png')"
      ],
      "execution_count": null,
      "outputs": []
    },
    {
      "cell_type": "markdown",
      "metadata": {
        "id": "4am4Cwm2Lkmb"
      },
      "source": [
        "##Test for accident"
      ]
    },
    {
      "cell_type": "code",
      "metadata": {
        "id": "ME30aRYxLoHT"
      },
      "source": [
        "prediction = np.zeros(10000)\n",
        "for d in range(int(statedat['Accident'].min()), int(statedat['Accident'].max()+1)):\n",
        "  score_calc.input['disaster'] = statedat['Disaster'].mean()\n",
        "  score_calc.input['accident'] = d\n",
        "  score_calc.input['crime'] = statedat['Crime'].mean()\n",
        "  print(d)\n",
        "  score_calc.compute()\n",
        "  print(score_calc.output['score'])\n",
        "  prediction[d-1] = score_calc.output['score']  "
      ],
      "execution_count": null,
      "outputs": []
    },
    {
      "cell_type": "code",
      "metadata": {
        "id": "yr72ygqtMMnq"
      },
      "source": [
        "plt.plot(np.arange(statedat['Accident'].min(), statedat['Accident'].max()+1, 1), prediction[1792:5489], 'k')\n",
        "plt.xlabel('Accident count')\n",
        "plt.ylabel('Danger score')\n",
        "plt.savefig('accident.png')"
      ],
      "execution_count": null,
      "outputs": []
    },
    {
      "cell_type": "markdown",
      "metadata": {
        "id": "0h6HtYkEM6Kf"
      },
      "source": [
        "##Test for crime"
      ]
    },
    {
      "cell_type": "code",
      "metadata": {
        "id": "1-2KhsFGM8R7"
      },
      "source": [
        "prediction = np.zeros(500000)\n",
        "for d in range(int(statedat['Crime'].min()), int(statedat['Crime'].max()+1), 100):\n",
        "  score_calc.input['disaster'] = statedat['Disaster'].mean()\n",
        "  score_calc.input['accident'] = statedat['Accident'].mean()\n",
        "  score_calc.input['crime'] = d\n",
        "  score_calc.compute()\n",
        "  prediction[d-1] = score_calc.output['score']  "
      ],
      "execution_count": null,
      "outputs": []
    },
    {
      "cell_type": "code",
      "metadata": {
        "id": "nxPRDTxTNScw"
      },
      "source": [
        "statedat['Crime'].min()"
      ],
      "execution_count": null,
      "outputs": []
    },
    {
      "cell_type": "code",
      "metadata": {
        "id": "JrjnnPr8NVKS"
      },
      "source": [
        "statedat['Crime'].max()"
      ],
      "execution_count": null,
      "outputs": []
    },
    {
      "cell_type": "code",
      "metadata": {
        "id": "H_95-gHdOKb_"
      },
      "source": [
        "score_calc.output['score']"
      ],
      "execution_count": null,
      "outputs": []
    },
    {
      "cell_type": "code",
      "metadata": {
        "id": "OxTyyGjzNOCZ"
      },
      "source": [
        "plt.plot(np.arange(statedat['Crime'].min(), statedat['Crime'].max()+1, 1), prediction[122347:386096])\n",
        "plt.xlabel('Crime count')\n",
        "plt.ylabel('Disaster score')\n",
        "plt.savefig('crime.png')"
      ],
      "execution_count": null,
      "outputs": []
    },
    {
      "cell_type": "code",
      "metadata": {
        "id": "GdR_XPtVOdWY"
      },
      "source": [
        "score_calc.input['disaster'] = statedat['Disaster'].mean()\n",
        "score_calc.input['accident'] = statedat['Accident'].mean()\n",
        "score_calc.input['crime'] = 370000\n",
        "score_calc.compute()\n",
        "score_calc.output['score']  "
      ],
      "execution_count": null,
      "outputs": []
    },
    {
      "cell_type": "markdown",
      "metadata": {
        "id": "sBlMOWsEZHNq"
      },
      "source": [
        "###Safer/dangerous predictor"
      ]
    },
    {
      "cell_type": "code",
      "metadata": {
        "id": "zhnUxvO_ZTy-"
      },
      "source": [
        "wb = getStateData('West Bengal')"
      ],
      "execution_count": null,
      "outputs": []
    },
    {
      "cell_type": "code",
      "metadata": {
        "id": "TKbrQUBQa9px",
        "colab": {
          "base_uri": "https://localhost:8080/",
          "height": 225
        },
        "outputId": "8a89f9d7-d2e8-44a8-d090-3b1148ad9425"
      },
      "source": [
        "wb[-6:]"
      ],
      "execution_count": null,
      "outputs": [
        {
          "output_type": "execute_result",
          "data": {
            "text/html": [
              "<div>\n",
              "<style scoped>\n",
              "    .dataframe tbody tr th:only-of-type {\n",
              "        vertical-align: middle;\n",
              "    }\n",
              "\n",
              "    .dataframe tbody tr th {\n",
              "        vertical-align: top;\n",
              "    }\n",
              "\n",
              "    .dataframe thead th {\n",
              "        text-align: right;\n",
              "    }\n",
              "</style>\n",
              "<table border=\"1\" class=\"dataframe\">\n",
              "  <thead>\n",
              "    <tr style=\"text-align: right;\">\n",
              "      <th></th>\n",
              "      <th>STATE/UT</th>\n",
              "      <th>YEAR</th>\n",
              "      <th>Accident</th>\n",
              "      <th>Crime</th>\n",
              "      <th>Disaster</th>\n",
              "    </tr>\n",
              "  </thead>\n",
              "  <tbody>\n",
              "    <tr>\n",
              "      <th>6</th>\n",
              "      <td>WEST BENGAL</td>\n",
              "      <td>2009</td>\n",
              "      <td>4135.0</td>\n",
              "      <td>226072</td>\n",
              "      <td>3</td>\n",
              "    </tr>\n",
              "    <tr>\n",
              "      <th>7</th>\n",
              "      <td>WEST BENGAL</td>\n",
              "      <td>2010</td>\n",
              "      <td>4975.0</td>\n",
              "      <td>259232</td>\n",
              "      <td>1</td>\n",
              "    </tr>\n",
              "    <tr>\n",
              "      <th>8</th>\n",
              "      <td>WEST BENGAL</td>\n",
              "      <td>2011</td>\n",
              "      <td>5107.0</td>\n",
              "      <td>286394</td>\n",
              "      <td>2</td>\n",
              "    </tr>\n",
              "    <tr>\n",
              "      <th>9</th>\n",
              "      <td>WEST BENGAL</td>\n",
              "      <td>2012</td>\n",
              "      <td>4911.0</td>\n",
              "      <td>322854</td>\n",
              "      <td>1</td>\n",
              "    </tr>\n",
              "    <tr>\n",
              "      <th>10</th>\n",
              "      <td>WEST BENGAL</td>\n",
              "      <td>2013</td>\n",
              "      <td>5077.0</td>\n",
              "      <td>339070</td>\n",
              "      <td>3</td>\n",
              "    </tr>\n",
              "    <tr>\n",
              "      <th>11</th>\n",
              "      <td>WEST BENGAL</td>\n",
              "      <td>2014</td>\n",
              "      <td>5489.0</td>\n",
              "      <td>386096</td>\n",
              "      <td>1</td>\n",
              "    </tr>\n",
              "  </tbody>\n",
              "</table>\n",
              "</div>"
            ],
            "text/plain": [
              "       STATE/UT  YEAR  Accident   Crime  Disaster\n",
              "6   WEST BENGAL  2009    4135.0  226072         3\n",
              "7   WEST BENGAL  2010    4975.0  259232         1\n",
              "8   WEST BENGAL  2011    5107.0  286394         2\n",
              "9   WEST BENGAL  2012    4911.0  322854         1\n",
              "10  WEST BENGAL  2013    5077.0  339070         3\n",
              "11  WEST BENGAL  2014    5489.0  386096         1"
            ]
          },
          "metadata": {
            "tags": []
          },
          "execution_count": 74
        }
      ]
    },
    {
      "cell_type": "code",
      "metadata": {
        "id": "aZemCQgWa-mp"
      },
      "source": [
        "wb = getStateScore(wb)"
      ],
      "execution_count": null,
      "outputs": []
    },
    {
      "cell_type": "code",
      "metadata": {
        "id": "RQ7rwkR7bB2e",
        "colab": {
          "base_uri": "https://localhost:8080/",
          "height": 225
        },
        "outputId": "abc37767-468e-4aa1-f017-831b6812946c"
      },
      "source": [
        "wb[-6:]"
      ],
      "execution_count": null,
      "outputs": [
        {
          "output_type": "execute_result",
          "data": {
            "text/html": [
              "<div>\n",
              "<style scoped>\n",
              "    .dataframe tbody tr th:only-of-type {\n",
              "        vertical-align: middle;\n",
              "    }\n",
              "\n",
              "    .dataframe tbody tr th {\n",
              "        vertical-align: top;\n",
              "    }\n",
              "\n",
              "    .dataframe thead th {\n",
              "        text-align: right;\n",
              "    }\n",
              "</style>\n",
              "<table border=\"1\" class=\"dataframe\">\n",
              "  <thead>\n",
              "    <tr style=\"text-align: right;\">\n",
              "      <th></th>\n",
              "      <th>STATE/UT</th>\n",
              "      <th>YEAR</th>\n",
              "      <th>Accident</th>\n",
              "      <th>Crime</th>\n",
              "      <th>Disaster</th>\n",
              "      <th>Score</th>\n",
              "    </tr>\n",
              "  </thead>\n",
              "  <tbody>\n",
              "    <tr>\n",
              "      <th>6</th>\n",
              "      <td>WEST BENGAL</td>\n",
              "      <td>2009</td>\n",
              "      <td>4135.0</td>\n",
              "      <td>226072</td>\n",
              "      <td>3</td>\n",
              "      <td>4.815636</td>\n",
              "    </tr>\n",
              "    <tr>\n",
              "      <th>7</th>\n",
              "      <td>WEST BENGAL</td>\n",
              "      <td>2010</td>\n",
              "      <td>4975.0</td>\n",
              "      <td>259232</td>\n",
              "      <td>1</td>\n",
              "      <td>3.728556</td>\n",
              "    </tr>\n",
              "    <tr>\n",
              "      <th>8</th>\n",
              "      <td>WEST BENGAL</td>\n",
              "      <td>2011</td>\n",
              "      <td>5107.0</td>\n",
              "      <td>286394</td>\n",
              "      <td>2</td>\n",
              "      <td>3.449420</td>\n",
              "    </tr>\n",
              "    <tr>\n",
              "      <th>9</th>\n",
              "      <td>WEST BENGAL</td>\n",
              "      <td>2012</td>\n",
              "      <td>4911.0</td>\n",
              "      <td>322854</td>\n",
              "      <td>1</td>\n",
              "      <td>4.069670</td>\n",
              "    </tr>\n",
              "    <tr>\n",
              "      <th>10</th>\n",
              "      <td>WEST BENGAL</td>\n",
              "      <td>2013</td>\n",
              "      <td>5077.0</td>\n",
              "      <td>339070</td>\n",
              "      <td>3</td>\n",
              "      <td>3.554211</td>\n",
              "    </tr>\n",
              "    <tr>\n",
              "      <th>11</th>\n",
              "      <td>WEST BENGAL</td>\n",
              "      <td>2014</td>\n",
              "      <td>5489.0</td>\n",
              "      <td>386096</td>\n",
              "      <td>1</td>\n",
              "      <td>1.805556</td>\n",
              "    </tr>\n",
              "  </tbody>\n",
              "</table>\n",
              "</div>"
            ],
            "text/plain": [
              "       STATE/UT  YEAR  Accident   Crime  Disaster     Score\n",
              "6   WEST BENGAL  2009    4135.0  226072         3  4.815636\n",
              "7   WEST BENGAL  2010    4975.0  259232         1  3.728556\n",
              "8   WEST BENGAL  2011    5107.0  286394         2  3.449420\n",
              "9   WEST BENGAL  2012    4911.0  322854         1  4.069670\n",
              "10  WEST BENGAL  2013    5077.0  339070         3  3.554211\n",
              "11  WEST BENGAL  2014    5489.0  386096         1  1.805556"
            ]
          },
          "metadata": {
            "tags": []
          },
          "execution_count": 76
        }
      ]
    },
    {
      "cell_type": "code",
      "metadata": {
        "id": "hnG9xY2dbCqm"
      },
      "source": [
        "def predict(name, num):\n",
        "  wb = getStateData(name)\n",
        "  wb = getStateScore(wb)\n",
        "  x = wb['Score'][(wb.shape[0]-num-1):-1]\n",
        "  mean = x.mean()\n",
        "  print(\"mean of Safety values from 2009 to 2013 = \"+str(mean))\n",
        "  print(\"Safety value of \"+name+\" in 2014 is \"+str(wb['Score'][11]))\n",
        "  safe = ((mean-wb['Score'][wb.shape[0]-1])/mean)*100\n",
        "  if(safe>=0):\n",
        "    print(\"State \"+name+\" got \"+str(safe)+\"% dangerous\")\n",
        "  else:  \n",
        "    print(\"State \"+name+\" got \"+str(-safe)+\"% safer\")"
      ],
      "execution_count": null,
      "outputs": []
    },
    {
      "cell_type": "code",
      "metadata": {
        "id": "76qpPESz0JSz"
      },
      "source": [
        ""
      ],
      "execution_count": null,
      "outputs": []
    },
    {
      "cell_type": "code",
      "metadata": {
        "id": "G51DI7MLd8Yz",
        "colab": {
          "base_uri": "https://localhost:8080/",
          "height": 67
        },
        "outputId": "9fc2e63a-14c5-43e4-e082-d5ed6cab0357"
      },
      "source": [
        "predict('West bengal',5)"
      ],
      "execution_count": null,
      "outputs": [
        {
          "output_type": "stream",
          "text": [
            "mean of Safety values from 2009 to 2013 = 3.923498437856902\n",
            "Safety value of West bengal in 2014 is 1.8055555555555554\n",
            "State West bengal got 53.98097936947853% dangerous\n"
          ],
          "name": "stdout"
        }
      ]
    },
    {
      "cell_type": "code",
      "metadata": {
        "id": "9C_vkQXajpaL",
        "colab": {
          "base_uri": "https://localhost:8080/",
          "height": 67
        },
        "outputId": "cb6cbe17-dcbf-4472-88bc-3659bffac005"
      },
      "source": [
        "predict('Bihar', 5)"
      ],
      "execution_count": null,
      "outputs": [
        {
          "output_type": "stream",
          "text": [
            "mean of Safety values from 2009 to 2013 = 2.1774852482847082\n",
            "Safety value of Bihar in 2014 is 2.991750702966745\n",
            "State Bihar got 37.39476330888882% safer\n"
          ],
          "name": "stdout"
        }
      ]
    },
    {
      "cell_type": "code",
      "metadata": {
        "id": "sgyd-c0q4u-_"
      },
      "source": [
        ""
      ],
      "execution_count": null,
      "outputs": []
    }
  ]
}